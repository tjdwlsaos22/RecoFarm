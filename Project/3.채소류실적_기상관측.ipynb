{
 "cells": [
  {
   "cell_type": "code",
   "execution_count": 7,
   "metadata": {
    "vscode": {
     "languageId": "r"
    }
   },
   "outputs": [
    {
     "data": {
      "text/html": [
       "'ko_KR.UTF-8/ko_KR.UTF-8/ko_KR.UTF-8/C/ko_KR.UTF-8/C'"
      ],
      "text/latex": [
       "'ko\\_KR.UTF-8/ko\\_KR.UTF-8/ko\\_KR.UTF-8/C/ko\\_KR.UTF-8/C'"
      ],
      "text/markdown": [
       "'ko_KR.UTF-8/ko_KR.UTF-8/ko_KR.UTF-8/C/ko_KR.UTF-8/C'"
      ],
      "text/plain": [
       "[1] \"ko_KR.UTF-8/ko_KR.UTF-8/ko_KR.UTF-8/C/ko_KR.UTF-8/C\""
      ]
     },
     "metadata": {},
     "output_type": "display_data"
    }
   ],
   "source": [
    "# 기상 변수 추가 테스트\n",
    "options(warn = -1) ## 경고 지우기\n",
    "options(repr.plot.width=8, repr.plot.height=6) # 플랏 크기 조절\n",
    "Sys.setlocale(category = \"LC_ALL\", locale = \"ko_KR.UTF-8\") # 한글 설정"
   ]
  },
  {
   "cell_type": "markdown",
   "metadata": {},
   "source": [
    "## 기상청_농업기상관측자료 사용\n",
    "농업에 필요한 요소 데이터를 관측소에서 가까운 지역으로 설정 하여 테스트\n",
    "/ 농업기상관측자료는 전국 11곳에서 제공됨\n",
    "##### 평균값 사용: 습도, 토양수분, 기온, 지면온도, 지중온도\n",
    "###### 출처: https://data.kma.go.kr/data/grnd/selectAgrRltmList.do?pgmNo=72"
   ]
  },
  {
   "cell_type": "code",
   "execution_count": 8,
   "metadata": {
    "vscode": {
     "languageId": "r"
    }
   },
   "outputs": [
    {
     "data": {
      "text/html": [
       "<table class=\"dataframe\">\n",
       "<caption>A data.frame: 6 x 31</caption>\n",
       "<thead>\n",
       "\t<tr><th></th><th scope=col>지점</th><th scope=col>지점명</th><th scope=col>일시</th><th scope=col>X0.5M.평균.습도...</th><th scope=col>X1.5M.평균.습도...</th><th scope=col>X4.0M.평균.습도...</th><th scope=col>X10CM.일.토양수분...</th><th scope=col>X20CM.일.토양수분...</th><th scope=col>X30CM.일.토양수분...</th><th scope=col>X50CM.일.토양수분...</th><th scope=col>...</th><th scope=col>X0.5M.일.지중온도..C.</th><th scope=col>X1.0M.일.지중온도..C.</th><th scope=col>X1.5M.일.지중온도..C.</th><th scope=col>X3.0M.일.지중온도..C.</th><th scope=col>X5.0M.일.지중온도..C.</th><th scope=col>일.순복사.MJ.m2.</th><th scope=col>일.전천복사.MJ.m2.</th><th scope=col>일.반사복사.MJ.m2.</th><th scope=col>일.평균.조도.10lux.</th><th scope=col>일.지하수위.cm.</th></tr>\n",
       "\t<tr><th></th><th scope=col>&lt;int&gt;</th><th scope=col>&lt;chr&gt;</th><th scope=col>&lt;chr&gt;</th><th scope=col>&lt;int&gt;</th><th scope=col>&lt;int&gt;</th><th scope=col>&lt;int&gt;</th><th scope=col>&lt;int&gt;</th><th scope=col>&lt;int&gt;</th><th scope=col>&lt;int&gt;</th><th scope=col>&lt;int&gt;</th><th scope=col>...</th><th scope=col>&lt;dbl&gt;</th><th scope=col>&lt;dbl&gt;</th><th scope=col>&lt;dbl&gt;</th><th scope=col>&lt;dbl&gt;</th><th scope=col>&lt;dbl&gt;</th><th scope=col>&lt;dbl&gt;</th><th scope=col>&lt;dbl&gt;</th><th scope=col>&lt;dbl&gt;</th><th scope=col>&lt;int&gt;</th><th scope=col>&lt;int&gt;</th></tr>\n",
       "</thead>\n",
       "<tbody>\n",
       "\t<tr><th scope=row>1</th><td>119</td><td>수원(농)</td><td>2023-03-01</td><td>NA</td><td>56</td><td>NA</td><td>13</td><td>10</td><td>15</td><td>5</td><td>...</td><td>4.4</td><td>4.8</td><td>5.8</td><td>9.7</td><td>14.3</td><td>NA</td><td>NA</td><td>NA</td><td>NA</td><td> 0</td></tr>\n",
       "\t<tr><th scope=row>2</th><td>119</td><td>수원(농)</td><td>2023-03-02</td><td>NA</td><td>39</td><td>NA</td><td>13</td><td>10</td><td>15</td><td>5</td><td>...</td><td>4.4</td><td>5.0</td><td>5.9</td><td>9.6</td><td>14.2</td><td>NA</td><td>NA</td><td>NA</td><td>NA</td><td>NA</td></tr>\n",
       "\t<tr><th scope=row>3</th><td>119</td><td>수원(농)</td><td>2023-03-03</td><td>NA</td><td>66</td><td>NA</td><td>13</td><td> 9</td><td>15</td><td>5</td><td>...</td><td>4.1</td><td>5.1</td><td>5.9</td><td>9.6</td><td>14.2</td><td>NA</td><td>NA</td><td>NA</td><td>NA</td><td>NA</td></tr>\n",
       "\t<tr><th scope=row>4</th><td>119</td><td>수원(농)</td><td>2023-03-04</td><td>NA</td><td>70</td><td>NA</td><td>13</td><td> 9</td><td>14</td><td>5</td><td>...</td><td>4.6</td><td>5.1</td><td>5.9</td><td>9.6</td><td>14.2</td><td>NA</td><td>NA</td><td>NA</td><td>NA</td><td>NA</td></tr>\n",
       "\t<tr><th scope=row>5</th><td>119</td><td>수원(농)</td><td>2023-03-05</td><td>NA</td><td>66</td><td>NA</td><td>13</td><td>10</td><td>15</td><td>6</td><td>...</td><td>5.2</td><td>5.3</td><td>5.9</td><td>9.5</td><td>14.1</td><td>NA</td><td>NA</td><td>NA</td><td>NA</td><td>NA</td></tr>\n",
       "\t<tr><th scope=row>6</th><td>119</td><td>수원(농)</td><td>2023-03-06</td><td>NA</td><td>50</td><td>NA</td><td>13</td><td>10</td><td>15</td><td>6</td><td>...</td><td>5.4</td><td>5.5</td><td>6.0</td><td>9.5</td><td>14.1</td><td>NA</td><td>NA</td><td>NA</td><td>NA</td><td>NA</td></tr>\n",
       "</tbody>\n",
       "</table>\n"
      ],
      "text/latex": [
       "A data.frame: 6 x 31\n",
       "\\begin{tabular}{r|lllllllllllllllllllll}\n",
       "  & 지점 & 지점명 & 일시 & X0.5M.평균.습도... & X1.5M.평균.습도... & X4.0M.평균.습도... & X10CM.일.토양수분... & X20CM.일.토양수분... & X30CM.일.토양수분... & X50CM.일.토양수분... & ... & X0.5M.일.지중온도..C. & X1.0M.일.지중온도..C. & X1.5M.일.지중온도..C. & X3.0M.일.지중온도..C. & X5.0M.일.지중온도..C. & 일.순복사.MJ.m2. & 일.전천복사.MJ.m2. & 일.반사복사.MJ.m2. & 일.평균.조도.10lux. & 일.지하수위.cm.\\\\\n",
       "  & <int> & <chr> & <chr> & <int> & <int> & <int> & <int> & <int> & <int> & <int> & ... & <dbl> & <dbl> & <dbl> & <dbl> & <dbl> & <dbl> & <dbl> & <dbl> & <int> & <int>\\\\\n",
       "\\hline\n",
       "\t1 & 119 & 수원(농) & 2023-03-01 & NA & 56 & NA & 13 & 10 & 15 & 5 & ... & 4.4 & 4.8 & 5.8 & 9.7 & 14.3 & NA & NA & NA & NA &  0\\\\\n",
       "\t2 & 119 & 수원(농) & 2023-03-02 & NA & 39 & NA & 13 & 10 & 15 & 5 & ... & 4.4 & 5.0 & 5.9 & 9.6 & 14.2 & NA & NA & NA & NA & NA\\\\\n",
       "\t3 & 119 & 수원(농) & 2023-03-03 & NA & 66 & NA & 13 &  9 & 15 & 5 & ... & 4.1 & 5.1 & 5.9 & 9.6 & 14.2 & NA & NA & NA & NA & NA\\\\\n",
       "\t4 & 119 & 수원(농) & 2023-03-04 & NA & 70 & NA & 13 &  9 & 14 & 5 & ... & 4.6 & 5.1 & 5.9 & 9.6 & 14.2 & NA & NA & NA & NA & NA\\\\\n",
       "\t5 & 119 & 수원(농) & 2023-03-05 & NA & 66 & NA & 13 & 10 & 15 & 6 & ... & 5.2 & 5.3 & 5.9 & 9.5 & 14.1 & NA & NA & NA & NA & NA\\\\\n",
       "\t6 & 119 & 수원(농) & 2023-03-06 & NA & 50 & NA & 13 & 10 & 15 & 6 & ... & 5.4 & 5.5 & 6.0 & 9.5 & 14.1 & NA & NA & NA & NA & NA\\\\\n",
       "\\end{tabular}\n"
      ],
      "text/markdown": [
       "\n",
       "A data.frame: 6 x 31\n",
       "\n",
       "| <!--/--> | 지점 &lt;int&gt; | 지점명 &lt;chr&gt; | 일시 &lt;chr&gt; | X0.5M.평균.습도... &lt;int&gt; | X1.5M.평균.습도... &lt;int&gt; | X4.0M.평균.습도... &lt;int&gt; | X10CM.일.토양수분... &lt;int&gt; | X20CM.일.토양수분... &lt;int&gt; | X30CM.일.토양수분... &lt;int&gt; | X50CM.일.토양수분... &lt;int&gt; | ... ... | X0.5M.일.지중온도..C. &lt;dbl&gt; | X1.0M.일.지중온도..C. &lt;dbl&gt; | X1.5M.일.지중온도..C. &lt;dbl&gt; | X3.0M.일.지중온도..C. &lt;dbl&gt; | X5.0M.일.지중온도..C. &lt;dbl&gt; | 일.순복사.MJ.m2. &lt;dbl&gt; | 일.전천복사.MJ.m2. &lt;dbl&gt; | 일.반사복사.MJ.m2. &lt;dbl&gt; | 일.평균.조도.10lux. &lt;int&gt; | 일.지하수위.cm. &lt;int&gt; |\n",
       "|---|---|---|---|---|---|---|---|---|---|---|---|---|---|---|---|---|---|---|---|---|---|\n",
       "| 1 | 119 | 수원(농) | 2023-03-01 | NA | 56 | NA | 13 | 10 | 15 | 5 | ... | 4.4 | 4.8 | 5.8 | 9.7 | 14.3 | NA | NA | NA | NA |  0 |\n",
       "| 2 | 119 | 수원(농) | 2023-03-02 | NA | 39 | NA | 13 | 10 | 15 | 5 | ... | 4.4 | 5.0 | 5.9 | 9.6 | 14.2 | NA | NA | NA | NA | NA |\n",
       "| 3 | 119 | 수원(농) | 2023-03-03 | NA | 66 | NA | 13 |  9 | 15 | 5 | ... | 4.1 | 5.1 | 5.9 | 9.6 | 14.2 | NA | NA | NA | NA | NA |\n",
       "| 4 | 119 | 수원(농) | 2023-03-04 | NA | 70 | NA | 13 |  9 | 14 | 5 | ... | 4.6 | 5.1 | 5.9 | 9.6 | 14.2 | NA | NA | NA | NA | NA |\n",
       "| 5 | 119 | 수원(농) | 2023-03-05 | NA | 66 | NA | 13 | 10 | 15 | 6 | ... | 5.2 | 5.3 | 5.9 | 9.5 | 14.1 | NA | NA | NA | NA | NA |\n",
       "| 6 | 119 | 수원(농) | 2023-03-06 | NA | 50 | NA | 13 | 10 | 15 | 6 | ... | 5.4 | 5.5 | 6.0 | 9.5 | 14.1 | NA | NA | NA | NA | NA |\n",
       "\n"
      ],
      "text/plain": [
       "  지점 지점명   일시       X0.5M.평균.습도... X1.5M.평균.습도...\n",
       "1 119  수원(농) 2023-03-01 NA                 56                \n",
       "2 119  수원(농) 2023-03-02 NA                 39                \n",
       "3 119  수원(농) 2023-03-03 NA                 66                \n",
       "4 119  수원(농) 2023-03-04 NA                 70                \n",
       "5 119  수원(농) 2023-03-05 NA                 66                \n",
       "6 119  수원(농) 2023-03-06 NA                 50                \n",
       "  X4.0M.평균.습도... X10CM.일.토양수분... X20CM.일.토양수분...\n",
       "1 NA                 13                   10                  \n",
       "2 NA                 13                   10                  \n",
       "3 NA                 13                    9                  \n",
       "4 NA                 13                    9                  \n",
       "5 NA                 13                   10                  \n",
       "6 NA                 13                   10                  \n",
       "  X30CM.일.토양수분... X50CM.일.토양수분... ... X0.5M.일.지중온도..C.\n",
       "1 15                   5                    ... 4.4                  \n",
       "2 15                   5                    ... 4.4                  \n",
       "3 15                   5                    ... 4.1                  \n",
       "4 14                   5                    ... 4.6                  \n",
       "5 15                   6                    ... 5.2                  \n",
       "6 15                   6                    ... 5.4                  \n",
       "  X1.0M.일.지중온도..C. X1.5M.일.지중온도..C. X3.0M.일.지중온도..C.\n",
       "1 4.8                   5.8                   9.7                  \n",
       "2 5.0                   5.9                   9.6                  \n",
       "3 5.1                   5.9                   9.6                  \n",
       "4 5.1                   5.9                   9.6                  \n",
       "5 5.3                   5.9                   9.5                  \n",
       "6 5.5                   6.0                   9.5                  \n",
       "  X5.0M.일.지중온도..C. 일.순복사.MJ.m2. 일.전천복사.MJ.m2. 일.반사복사.MJ.m2.\n",
       "1 14.3                  NA               NA                 NA                \n",
       "2 14.2                  NA               NA                 NA                \n",
       "3 14.2                  NA               NA                 NA                \n",
       "4 14.2                  NA               NA                 NA                \n",
       "5 14.1                  NA               NA                 NA                \n",
       "6 14.1                  NA               NA                 NA                \n",
       "  일.평균.조도.10lux. 일.지하수위.cm.\n",
       "1 NA                   0             \n",
       "2 NA                  NA             \n",
       "3 NA                  NA             \n",
       "4 NA                  NA             \n",
       "5 NA                  NA             \n",
       "6 NA                  NA             "
      ]
     },
     "metadata": {},
     "output_type": "display_data"
    }
   ],
   "source": [
    "# 파일 읽기\n",
    "weatherInfo <- read.csv(\"../OBS_AAOS_DD_20240414101344.csv\", fileEncoding =\"EUC-KR\")\n",
    "head(weatherInfo)"
   ]
  },
  {
   "cell_type": "code",
   "execution_count": 9,
   "metadata": {
    "vscode": {
     "languageId": "r"
    }
   },
   "outputs": [
    {
     "data": {
      "text/html": [
       "<style>\n",
       ".list-inline {list-style: none; margin:0; padding: 0}\n",
       ".list-inline>li {display: inline-block}\n",
       ".list-inline>li:not(:last-child)::after {content: \"\\00b7\"; padding: 0 .5ex}\n",
       "</style>\n",
       "<ol class=list-inline><li>'수원(농)'</li><li>'서산(농)'</li><li>'보성군(농)'</li><li>'익산'</li><li>'철원장흥'</li><li>'안동옥동'</li><li>'화순능주'</li><li>'대곡'</li><li>'오창가곡'</li><li>'춘천신북'</li><li>'강정'</li></ol>\n"
      ],
      "text/latex": [
       "\\begin{enumerate*}\n",
       "\\item '수원(농)'\n",
       "\\item '서산(농)'\n",
       "\\item '보성군(농)'\n",
       "\\item '익산'\n",
       "\\item '철원장흥'\n",
       "\\item '안동옥동'\n",
       "\\item '화순능주'\n",
       "\\item '대곡'\n",
       "\\item '오창가곡'\n",
       "\\item '춘천신북'\n",
       "\\item '강정'\n",
       "\\end{enumerate*}\n"
      ],
      "text/markdown": [
       "1. '수원(농)'\n",
       "2. '서산(농)'\n",
       "3. '보성군(농)'\n",
       "4. '익산'\n",
       "5. '철원장흥'\n",
       "6. '안동옥동'\n",
       "7. '화순능주'\n",
       "8. '대곡'\n",
       "9. '오창가곡'\n",
       "10. '춘천신북'\n",
       "11. '강정'\n",
       "\n",
       "\n"
      ],
      "text/plain": [
       " [1] \"수원(농)\"   \"서산(농)\"   \"보성군(농)\" \"익산\"       \"철원장흥\"  \n",
       " [6] \"안동옥동\"   \"화순능주\"   \"대곡\"       \"오창가곡\"   \"춘천신북\"  \n",
       "[11] \"강정\"      "
      ]
     },
     "metadata": {},
     "output_type": "display_data"
    }
   ],
   "source": [
    "uniqueArea <- unique(weatherInfo$지점명)\n",
    "uniqueArea"
   ]
  },
  {
   "cell_type": "code",
   "execution_count": 10,
   "metadata": {
    "vscode": {
     "languageId": "r"
    }
   },
   "outputs": [
    {
     "data": {
      "text/html": [
       "<table class=\"dataframe\">\n",
       "<caption>A data.frame: 6 x 8</caption>\n",
       "<thead>\n",
       "\t<tr><th></th><th scope=col>지점</th><th scope=col>지점명</th><th scope=col>일시</th><th scope=col>X1.5M.평균.습도...</th><th scope=col>X10CM.일.토양수분...</th><th scope=col>X1.5M.평균.기온..C.</th><th scope=col>평균.지면온도..C.</th><th scope=col>X0.5M.일.지중온도..C.</th></tr>\n",
       "\t<tr><th></th><th scope=col>&lt;int&gt;</th><th scope=col>&lt;chr&gt;</th><th scope=col>&lt;chr&gt;</th><th scope=col>&lt;int&gt;</th><th scope=col>&lt;int&gt;</th><th scope=col>&lt;dbl&gt;</th><th scope=col>&lt;dbl&gt;</th><th scope=col>&lt;dbl&gt;</th></tr>\n",
       "</thead>\n",
       "<tbody>\n",
       "\t<tr><th scope=row>1</th><td>119</td><td>수원(농)</td><td>2023-03-01</td><td>56</td><td>13</td><td>5.6</td><td>5.7</td><td>4.4</td></tr>\n",
       "\t<tr><th scope=row>2</th><td>119</td><td>수원(농)</td><td>2023-03-02</td><td>39</td><td>13</td><td>1.5</td><td>3.9</td><td>4.4</td></tr>\n",
       "\t<tr><th scope=row>3</th><td>119</td><td>수원(농)</td><td>2023-03-03</td><td>66</td><td>13</td><td>3.4</td><td>5.5</td><td>4.1</td></tr>\n",
       "\t<tr><th scope=row>4</th><td>119</td><td>수원(농)</td><td>2023-03-04</td><td>70</td><td>13</td><td>6.6</td><td>9.2</td><td>4.6</td></tr>\n",
       "\t<tr><th scope=row>5</th><td>119</td><td>수원(농)</td><td>2023-03-05</td><td>66</td><td>13</td><td>6.0</td><td>8.4</td><td>5.2</td></tr>\n",
       "\t<tr><th scope=row>6</th><td>119</td><td>수원(농)</td><td>2023-03-06</td><td>50</td><td>13</td><td>7.0</td><td>8.5</td><td>5.4</td></tr>\n",
       "</tbody>\n",
       "</table>\n"
      ],
      "text/latex": [
       "A data.frame: 6 x 8\n",
       "\\begin{tabular}{r|llllllll}\n",
       "  & 지점 & 지점명 & 일시 & X1.5M.평균.습도... & X10CM.일.토양수분... & X1.5M.평균.기온..C. & 평균.지면온도..C. & X0.5M.일.지중온도..C.\\\\\n",
       "  & <int> & <chr> & <chr> & <int> & <int> & <dbl> & <dbl> & <dbl>\\\\\n",
       "\\hline\n",
       "\t1 & 119 & 수원(농) & 2023-03-01 & 56 & 13 & 5.6 & 5.7 & 4.4\\\\\n",
       "\t2 & 119 & 수원(농) & 2023-03-02 & 39 & 13 & 1.5 & 3.9 & 4.4\\\\\n",
       "\t3 & 119 & 수원(농) & 2023-03-03 & 66 & 13 & 3.4 & 5.5 & 4.1\\\\\n",
       "\t4 & 119 & 수원(농) & 2023-03-04 & 70 & 13 & 6.6 & 9.2 & 4.6\\\\\n",
       "\t5 & 119 & 수원(농) & 2023-03-05 & 66 & 13 & 6.0 & 8.4 & 5.2\\\\\n",
       "\t6 & 119 & 수원(농) & 2023-03-06 & 50 & 13 & 7.0 & 8.5 & 5.4\\\\\n",
       "\\end{tabular}\n"
      ],
      "text/markdown": [
       "\n",
       "A data.frame: 6 x 8\n",
       "\n",
       "| <!--/--> | 지점 &lt;int&gt; | 지점명 &lt;chr&gt; | 일시 &lt;chr&gt; | X1.5M.평균.습도... &lt;int&gt; | X10CM.일.토양수분... &lt;int&gt; | X1.5M.평균.기온..C. &lt;dbl&gt; | 평균.지면온도..C. &lt;dbl&gt; | X0.5M.일.지중온도..C. &lt;dbl&gt; |\n",
       "|---|---|---|---|---|---|---|---|---|\n",
       "| 1 | 119 | 수원(농) | 2023-03-01 | 56 | 13 | 5.6 | 5.7 | 4.4 |\n",
       "| 2 | 119 | 수원(농) | 2023-03-02 | 39 | 13 | 1.5 | 3.9 | 4.4 |\n",
       "| 3 | 119 | 수원(농) | 2023-03-03 | 66 | 13 | 3.4 | 5.5 | 4.1 |\n",
       "| 4 | 119 | 수원(농) | 2023-03-04 | 70 | 13 | 6.6 | 9.2 | 4.6 |\n",
       "| 5 | 119 | 수원(농) | 2023-03-05 | 66 | 13 | 6.0 | 8.4 | 5.2 |\n",
       "| 6 | 119 | 수원(농) | 2023-03-06 | 50 | 13 | 7.0 | 8.5 | 5.4 |\n",
       "\n"
      ],
      "text/plain": [
       "  지점 지점명   일시       X1.5M.평균.습도... X10CM.일.토양수분...\n",
       "1 119  수원(농) 2023-03-01 56                 13                  \n",
       "2 119  수원(농) 2023-03-02 39                 13                  \n",
       "3 119  수원(농) 2023-03-03 66                 13                  \n",
       "4 119  수원(농) 2023-03-04 70                 13                  \n",
       "5 119  수원(농) 2023-03-05 66                 13                  \n",
       "6 119  수원(농) 2023-03-06 50                 13                  \n",
       "  X1.5M.평균.기온..C. 평균.지면온도..C. X0.5M.일.지중온도..C.\n",
       "1 5.6                 5.7               4.4                  \n",
       "2 1.5                 3.9               4.4                  \n",
       "3 3.4                 5.5               4.1                  \n",
       "4 6.6                 9.2               4.6                  \n",
       "5 6.0                 8.4               5.2                  \n",
       "6 7.0                 8.5               5.4                  "
      ]
     },
     "metadata": {},
     "output_type": "display_data"
    }
   ],
   "source": [
    "#필요 데이터 추출\n",
    "weatherInfo_rev1 <- weatherInfo[c(1:3,5,7,14,18,22)]\n",
    "head(weatherInfo_rev1)"
   ]
  },
  {
   "cell_type": "code",
   "execution_count": 315,
   "metadata": {
    "vscode": {
     "languageId": "r"
    }
   },
   "outputs": [
    {
     "data": {
      "text/plain": [
       "      지점          지점명              일시           X1.5M.평균.습도...\n",
       " Min.   :119.0   Length:2549        Length:2549        Min.   : 20.00    \n",
       " 1st Qu.:258.0   Class :character   Class :character   1st Qu.: 66.00    \n",
       " Median :972.0   Mode  :character   Mode  :character   Median : 77.00    \n",
       " Mean   :727.8                                         Mean   : 75.06    \n",
       " 3rd Qu.:977.0                                         3rd Qu.: 86.00    \n",
       " Max.   :980.0                                         Max.   :100.00    \n",
       "                                                       NA's   :20        \n",
       " X10CM.일.토양수분... X1.5M.평균.기온..C. 평균.지면온도..C.\n",
       " Min.   : 0.0         Min.   :-0.1        Min.   : 1.20    \n",
       " 1st Qu.:14.0         1st Qu.:14.2        1st Qu.:16.40    \n",
       " Median :21.0         Median :20.4        Median :23.05    \n",
       " Mean   :23.0         Mean   :19.2        Mean   :21.73    \n",
       " 3rd Qu.:29.5         3rd Qu.:24.7        3rd Qu.:27.20    \n",
       " Max.   :72.0         Max.   :30.9        Max.   :45.10    \n",
       " NA's   :102          NA's   :32          NA's   :253      \n",
       " X0.5M.일.지중온도..C.\n",
       " Min.   : 2.40        \n",
       " 1st Qu.:14.90        \n",
       " Median :21.60        \n",
       " Mean   :20.09        \n",
       " 3rd Qu.:25.50        \n",
       " Max.   :30.30        \n",
       " NA's   :237          "
      ]
     },
     "metadata": {},
     "output_type": "display_data"
    }
   ],
   "source": [
    "summary(weatherInfo_rev1)"
   ]
  },
  {
   "cell_type": "code",
   "execution_count": 316,
   "metadata": {
    "vscode": {
     "languageId": "r"
    }
   },
   "outputs": [
    {
     "name": "stdout",
     "output_type": "stream",
     "text": [
      "'data.frame':\t2549 obs. of  8 variables:\n",
      " $ 지점                 : int  119 119 119 119 119 119 119 119 119 119 ...\n",
      " $ 지점명               : chr  \"수원(농)\" \"수원(농)\" \"수원(농)\" \"수원(농)\" ...\n",
      " $ 일시                 : chr  \"2023-03-01\" \"2023-03-02\" \"2023-03-03\" \"2023-03-04\" ...\n",
      " $ X1.5M.평균.습도...   : int  56 39 66 70 66 50 63 68 80 61 ...\n",
      " $ X10CM.일.토양수분... : int  13 13 13 13 13 13 13 13 13 13 ...\n",
      " $ X1.5M.평균.기온..C.  : num  5.6 1.5 3.4 6.6 6 7 10.3 11.1 10.5 12.1 ...\n",
      " $ 평균.지면온도..C.    : num  5.7 3.9 5.5 9.2 8.4 8.5 11.2 9.6 12.7 12.8 ...\n",
      " $ X0.5M.일.지중온도..C.: num  4.4 4.4 4.1 4.6 5.2 5.4 5.9 6.6 7.3 7.5 ...\n"
     ]
    }
   ],
   "source": [
    "str(weatherInfo_rev1)"
   ]
  },
  {
   "cell_type": "code",
   "execution_count": 11,
   "metadata": {
    "vscode": {
     "languageId": "r"
    }
   },
   "outputs": [
    {
     "data": {
      "text/html": [
       "<table class=\"dataframe\">\n",
       "<caption>A data.frame: 6 x 9</caption>\n",
       "<thead>\n",
       "\t<tr><th></th><th scope=col>지점</th><th scope=col>지점명</th><th scope=col>일시</th><th scope=col>X1.5M.평균.습도...</th><th scope=col>X10CM.일.토양수분...</th><th scope=col>X1.5M.평균.기온..C.</th><th scope=col>평균.지면온도..C.</th><th scope=col>X0.5M.일.지중온도..C.</th><th scope=col>연간</th></tr>\n",
       "\t<tr><th></th><th scope=col>&lt;int&gt;</th><th scope=col>&lt;chr&gt;</th><th scope=col>&lt;chr&gt;</th><th scope=col>&lt;int&gt;</th><th scope=col>&lt;int&gt;</th><th scope=col>&lt;dbl&gt;</th><th scope=col>&lt;dbl&gt;</th><th scope=col>&lt;dbl&gt;</th><th scope=col>&lt;chr&gt;</th></tr>\n",
       "</thead>\n",
       "<tbody>\n",
       "\t<tr><th scope=row>1</th><td>119</td><td>수원(농)</td><td>2023-03-01</td><td>56</td><td>13</td><td>5.6</td><td>5.7</td><td>4.4</td><td>2023</td></tr>\n",
       "\t<tr><th scope=row>2</th><td>119</td><td>수원(농)</td><td>2023-03-02</td><td>39</td><td>13</td><td>1.5</td><td>3.9</td><td>4.4</td><td>2023</td></tr>\n",
       "\t<tr><th scope=row>3</th><td>119</td><td>수원(농)</td><td>2023-03-03</td><td>66</td><td>13</td><td>3.4</td><td>5.5</td><td>4.1</td><td>2023</td></tr>\n",
       "\t<tr><th scope=row>4</th><td>119</td><td>수원(농)</td><td>2023-03-04</td><td>70</td><td>13</td><td>6.6</td><td>9.2</td><td>4.6</td><td>2023</td></tr>\n",
       "\t<tr><th scope=row>5</th><td>119</td><td>수원(농)</td><td>2023-03-05</td><td>66</td><td>13</td><td>6.0</td><td>8.4</td><td>5.2</td><td>2023</td></tr>\n",
       "\t<tr><th scope=row>6</th><td>119</td><td>수원(농)</td><td>2023-03-06</td><td>50</td><td>13</td><td>7.0</td><td>8.5</td><td>5.4</td><td>2023</td></tr>\n",
       "</tbody>\n",
       "</table>\n"
      ],
      "text/latex": [
       "A data.frame: 6 x 9\n",
       "\\begin{tabular}{r|lllllllll}\n",
       "  & 지점 & 지점명 & 일시 & X1.5M.평균.습도... & X10CM.일.토양수분... & X1.5M.평균.기온..C. & 평균.지면온도..C. & X0.5M.일.지중온도..C. & 연간\\\\\n",
       "  & <int> & <chr> & <chr> & <int> & <int> & <dbl> & <dbl> & <dbl> & <chr>\\\\\n",
       "\\hline\n",
       "\t1 & 119 & 수원(농) & 2023-03-01 & 56 & 13 & 5.6 & 5.7 & 4.4 & 2023\\\\\n",
       "\t2 & 119 & 수원(농) & 2023-03-02 & 39 & 13 & 1.5 & 3.9 & 4.4 & 2023\\\\\n",
       "\t3 & 119 & 수원(농) & 2023-03-03 & 66 & 13 & 3.4 & 5.5 & 4.1 & 2023\\\\\n",
       "\t4 & 119 & 수원(농) & 2023-03-04 & 70 & 13 & 6.6 & 9.2 & 4.6 & 2023\\\\\n",
       "\t5 & 119 & 수원(농) & 2023-03-05 & 66 & 13 & 6.0 & 8.4 & 5.2 & 2023\\\\\n",
       "\t6 & 119 & 수원(농) & 2023-03-06 & 50 & 13 & 7.0 & 8.5 & 5.4 & 2023\\\\\n",
       "\\end{tabular}\n"
      ],
      "text/markdown": [
       "\n",
       "A data.frame: 6 x 9\n",
       "\n",
       "| <!--/--> | 지점 &lt;int&gt; | 지점명 &lt;chr&gt; | 일시 &lt;chr&gt; | X1.5M.평균.습도... &lt;int&gt; | X10CM.일.토양수분... &lt;int&gt; | X1.5M.평균.기온..C. &lt;dbl&gt; | 평균.지면온도..C. &lt;dbl&gt; | X0.5M.일.지중온도..C. &lt;dbl&gt; | 연간 &lt;chr&gt; |\n",
       "|---|---|---|---|---|---|---|---|---|---|\n",
       "| 1 | 119 | 수원(농) | 2023-03-01 | 56 | 13 | 5.6 | 5.7 | 4.4 | 2023 |\n",
       "| 2 | 119 | 수원(농) | 2023-03-02 | 39 | 13 | 1.5 | 3.9 | 4.4 | 2023 |\n",
       "| 3 | 119 | 수원(농) | 2023-03-03 | 66 | 13 | 3.4 | 5.5 | 4.1 | 2023 |\n",
       "| 4 | 119 | 수원(농) | 2023-03-04 | 70 | 13 | 6.6 | 9.2 | 4.6 | 2023 |\n",
       "| 5 | 119 | 수원(농) | 2023-03-05 | 66 | 13 | 6.0 | 8.4 | 5.2 | 2023 |\n",
       "| 6 | 119 | 수원(농) | 2023-03-06 | 50 | 13 | 7.0 | 8.5 | 5.4 | 2023 |\n",
       "\n"
      ],
      "text/plain": [
       "  지점 지점명   일시       X1.5M.평균.습도... X10CM.일.토양수분...\n",
       "1 119  수원(농) 2023-03-01 56                 13                  \n",
       "2 119  수원(농) 2023-03-02 39                 13                  \n",
       "3 119  수원(농) 2023-03-03 66                 13                  \n",
       "4 119  수원(농) 2023-03-04 70                 13                  \n",
       "5 119  수원(농) 2023-03-05 66                 13                  \n",
       "6 119  수원(농) 2023-03-06 50                 13                  \n",
       "  X1.5M.평균.기온..C. 평균.지면온도..C. X0.5M.일.지중온도..C. 연간\n",
       "1 5.6                 5.7               4.4                   2023\n",
       "2 1.5                 3.9               4.4                   2023\n",
       "3 3.4                 5.5               4.1                   2023\n",
       "4 6.6                 9.2               4.6                   2023\n",
       "5 6.0                 8.4               5.2                   2023\n",
       "6 7.0                 8.5               5.4                   2023"
      ]
     },
     "metadata": {},
     "output_type": "display_data"
    }
   ],
   "source": [
    "#'일시'열에서 1번부터 7번까지의 값을 추출하여 연간 열에 대입한다.\n",
    "weatherInfo_rev1$연간 <- substr(weatherInfo_rev1$일시,1,4)\n",
    "head(weatherInfo_rev1)"
   ]
  },
  {
   "cell_type": "code",
   "execution_count": 12,
   "metadata": {
    "vscode": {
     "languageId": "r"
    }
   },
   "outputs": [
    {
     "name": "stderr",
     "output_type": "stream",
     "text": [
      "\n",
      "다음의 패키지를 부착합니다: ‘dplyr’\n",
      "\n",
      "\n",
      "The following objects are masked from ‘package:stats’:\n",
      "\n",
      "    filter, lag\n",
      "\n",
      "\n",
      "The following objects are masked from ‘package:base’:\n",
      "\n",
      "    intersect, setdiff, setequal, union\n",
      "\n",
      "\n"
     ]
    }
   ],
   "source": [
    "library(dplyr)"
   ]
  },
  {
   "cell_type": "code",
   "execution_count": 13,
   "metadata": {
    "vscode": {
     "languageId": "r"
    }
   },
   "outputs": [
    {
     "data": {
      "text/html": [
       "<table class=\"dataframe\">\n",
       "<caption>A grouped_df: 11 x 8</caption>\n",
       "<thead>\n",
       "\t<tr><th scope=col>지점명</th><th scope=col>연간</th><th scope=col>지점</th><th scope=col>X1.5M.평균.습도...</th><th scope=col>X10CM.일.토양수분...</th><th scope=col>X1.5M.평균.기온..C.</th><th scope=col>평균.지면온도..C.</th><th scope=col>X0.5M.일.지중온도..C.</th></tr>\n",
       "\t<tr><th scope=col>&lt;chr&gt;</th><th scope=col>&lt;chr&gt;</th><th scope=col>&lt;dbl&gt;</th><th scope=col>&lt;dbl&gt;</th><th scope=col>&lt;dbl&gt;</th><th scope=col>&lt;dbl&gt;</th><th scope=col>&lt;dbl&gt;</th><th scope=col>&lt;dbl&gt;</th></tr>\n",
       "</thead>\n",
       "<tbody>\n",
       "\t<tr><td>강정      </td><td>2023</td><td>980</td><td>75.75536</td><td>12.13248</td><td>20.40739</td><td>22.37897</td><td>22.34274</td></tr>\n",
       "\t<tr><td>대곡      </td><td>2023</td><td>974</td><td>78.65948</td><td>11.70513</td><td>19.49177</td><td>21.62888</td><td>21.44274</td></tr>\n",
       "\t<tr><td>보성군(농)</td><td>2023</td><td>258</td><td>79.02586</td><td>33.21368</td><td>20.01422</td><td>21.08922</td><td>18.62778</td></tr>\n",
       "\t<tr><td>서산(농)  </td><td>2023</td><td>129</td><td>73.61373</td><td>21.37179</td><td>18.99258</td><td>21.96738</td><td>19.82137</td></tr>\n",
       "\t<tr><td>수원(농)  </td><td>2023</td><td>119</td><td>70.23707</td><td>25.55983</td><td>19.37284</td><td>22.22328</td><td>19.80128</td></tr>\n",
       "\t<tr><td>안동옥동  </td><td>2023</td><td>972</td><td>75.00000</td><td>49.58673</td><td>18.86524</td><td>21.89957</td><td>20.01624</td></tr>\n",
       "\t<tr><td>오창가곡  </td><td>2023</td><td>977</td><td>75.90517</td><td>20.08155</td><td>19.66595</td><td>22.56466</td><td>20.10773</td></tr>\n",
       "\t<tr><td>익산      </td><td>2023</td><td>702</td><td>70.80786</td><td>19.38627</td><td>19.56245</td><td>20.20437</td><td>19.51459</td></tr>\n",
       "\t<tr><td>철원장흥  </td><td>2023</td><td>970</td><td>76.00429</td><td>24.03419</td><td>17.54655</td><td>     NaN</td><td>     NaN</td></tr>\n",
       "\t<tr><td>춘천신북  </td><td>2023</td><td>978</td><td>71.83190</td><td>13.98837</td><td>18.55371</td><td>21.84267</td><td>19.44807</td></tr>\n",
       "\t<tr><td>화순능주  </td><td>2023</td><td>973</td><td>79.18750</td><td>23.96651</td><td>18.62067</td><td>21.41490</td><td>19.69426</td></tr>\n",
       "</tbody>\n",
       "</table>\n"
      ],
      "text/latex": [
       "A grouped\\_df: 11 x 8\n",
       "\\begin{tabular}{llllllll}\n",
       " 지점명 & 연간 & 지점 & X1.5M.평균.습도... & X10CM.일.토양수분... & X1.5M.평균.기온..C. & 평균.지면온도..C. & X0.5M.일.지중온도..C.\\\\\n",
       " <chr> & <chr> & <dbl> & <dbl> & <dbl> & <dbl> & <dbl> & <dbl>\\\\\n",
       "\\hline\n",
       "\t 강정       & 2023 & 980 & 75.75536 & 12.13248 & 20.40739 & 22.37897 & 22.34274\\\\\n",
       "\t 대곡       & 2023 & 974 & 78.65948 & 11.70513 & 19.49177 & 21.62888 & 21.44274\\\\\n",
       "\t 보성군(농) & 2023 & 258 & 79.02586 & 33.21368 & 20.01422 & 21.08922 & 18.62778\\\\\n",
       "\t 서산(농)   & 2023 & 129 & 73.61373 & 21.37179 & 18.99258 & 21.96738 & 19.82137\\\\\n",
       "\t 수원(농)   & 2023 & 119 & 70.23707 & 25.55983 & 19.37284 & 22.22328 & 19.80128\\\\\n",
       "\t 안동옥동   & 2023 & 972 & 75.00000 & 49.58673 & 18.86524 & 21.89957 & 20.01624\\\\\n",
       "\t 오창가곡   & 2023 & 977 & 75.90517 & 20.08155 & 19.66595 & 22.56466 & 20.10773\\\\\n",
       "\t 익산       & 2023 & 702 & 70.80786 & 19.38627 & 19.56245 & 20.20437 & 19.51459\\\\\n",
       "\t 철원장흥   & 2023 & 970 & 76.00429 & 24.03419 & 17.54655 &      NaN &      NaN\\\\\n",
       "\t 춘천신북   & 2023 & 978 & 71.83190 & 13.98837 & 18.55371 & 21.84267 & 19.44807\\\\\n",
       "\t 화순능주   & 2023 & 973 & 79.18750 & 23.96651 & 18.62067 & 21.41490 & 19.69426\\\\\n",
       "\\end{tabular}\n"
      ],
      "text/markdown": [
       "\n",
       "A grouped_df: 11 x 8\n",
       "\n",
       "| 지점명 &lt;chr&gt; | 연간 &lt;chr&gt; | 지점 &lt;dbl&gt; | X1.5M.평균.습도... &lt;dbl&gt; | X10CM.일.토양수분... &lt;dbl&gt; | X1.5M.평균.기온..C. &lt;dbl&gt; | 평균.지면온도..C. &lt;dbl&gt; | X0.5M.일.지중온도..C. &lt;dbl&gt; |\n",
       "|---|---|---|---|---|---|---|---|\n",
       "| 강정       | 2023 | 980 | 75.75536 | 12.13248 | 20.40739 | 22.37897 | 22.34274 |\n",
       "| 대곡       | 2023 | 974 | 78.65948 | 11.70513 | 19.49177 | 21.62888 | 21.44274 |\n",
       "| 보성군(농) | 2023 | 258 | 79.02586 | 33.21368 | 20.01422 | 21.08922 | 18.62778 |\n",
       "| 서산(농)   | 2023 | 129 | 73.61373 | 21.37179 | 18.99258 | 21.96738 | 19.82137 |\n",
       "| 수원(농)   | 2023 | 119 | 70.23707 | 25.55983 | 19.37284 | 22.22328 | 19.80128 |\n",
       "| 안동옥동   | 2023 | 972 | 75.00000 | 49.58673 | 18.86524 | 21.89957 | 20.01624 |\n",
       "| 오창가곡   | 2023 | 977 | 75.90517 | 20.08155 | 19.66595 | 22.56466 | 20.10773 |\n",
       "| 익산       | 2023 | 702 | 70.80786 | 19.38627 | 19.56245 | 20.20437 | 19.51459 |\n",
       "| 철원장흥   | 2023 | 970 | 76.00429 | 24.03419 | 17.54655 |      NaN |      NaN |\n",
       "| 춘천신북   | 2023 | 978 | 71.83190 | 13.98837 | 18.55371 | 21.84267 | 19.44807 |\n",
       "| 화순능주   | 2023 | 973 | 79.18750 | 23.96651 | 18.62067 | 21.41490 | 19.69426 |\n",
       "\n"
      ],
      "text/plain": [
       "   지점명     연간 지점 X1.5M.평균.습도... X10CM.일.토양수분...\n",
       "1  강정       2023 980  75.75536           12.13248            \n",
       "2  대곡       2023 974  78.65948           11.70513            \n",
       "3  보성군(농) 2023 258  79.02586           33.21368            \n",
       "4  서산(농)   2023 129  73.61373           21.37179            \n",
       "5  수원(농)   2023 119  70.23707           25.55983            \n",
       "6  안동옥동   2023 972  75.00000           49.58673            \n",
       "7  오창가곡   2023 977  75.90517           20.08155            \n",
       "8  익산       2023 702  70.80786           19.38627            \n",
       "9  철원장흥   2023 970  76.00429           24.03419            \n",
       "10 춘천신북   2023 978  71.83190           13.98837            \n",
       "11 화순능주   2023 973  79.18750           23.96651            \n",
       "   X1.5M.평균.기온..C. 평균.지면온도..C. X0.5M.일.지중온도..C.\n",
       "1  20.40739            22.37897          22.34274             \n",
       "2  19.49177            21.62888          21.44274             \n",
       "3  20.01422            21.08922          18.62778             \n",
       "4  18.99258            21.96738          19.82137             \n",
       "5  19.37284            22.22328          19.80128             \n",
       "6  18.86524            21.89957          20.01624             \n",
       "7  19.66595            22.56466          20.10773             \n",
       "8  19.56245            20.20437          19.51459             \n",
       "9  17.54655                 NaN               NaN             \n",
       "10 18.55371            21.84267          19.44807             \n",
       "11 18.62067            21.41490          19.69426             "
      ]
     },
     "metadata": {},
     "output_type": "display_data"
    }
   ],
   "source": [
    "# 지점명과 연간으로 각 열의 평균을 계산. \n",
    "#일시는 숫자형이 아니므로 numeric 만 평균 계산\n",
    "# na값은 제외\n",
    "resultMean <- weatherInfo_rev1 %>%\n",
    "group_by(지점명,연간) %>%\n",
    "summarise_if(is.numeric,mean, na.rm =TRUE)\n",
    "\n",
    "resultMean"
   ]
  },
  {
   "cell_type": "code",
   "execution_count": 14,
   "metadata": {
    "vscode": {
     "languageId": "r"
    }
   },
   "outputs": [
    {
     "data": {
      "text/html": [
       "<table class=\"dataframe\">\n",
       "<caption>A grouped_df: 10 x 8</caption>\n",
       "<thead>\n",
       "\t<tr><th scope=col>지점명</th><th scope=col>연간</th><th scope=col>지점</th><th scope=col>X1.5M.평균.습도...</th><th scope=col>X10CM.일.토양수분...</th><th scope=col>X1.5M.평균.기온..C.</th><th scope=col>평균.지면온도..C.</th><th scope=col>X0.5M.일.지중온도..C.</th></tr>\n",
       "\t<tr><th scope=col>&lt;chr&gt;</th><th scope=col>&lt;chr&gt;</th><th scope=col>&lt;dbl&gt;</th><th scope=col>&lt;dbl&gt;</th><th scope=col>&lt;dbl&gt;</th><th scope=col>&lt;dbl&gt;</th><th scope=col>&lt;dbl&gt;</th><th scope=col>&lt;dbl&gt;</th></tr>\n",
       "</thead>\n",
       "<tbody>\n",
       "\t<tr><td>강정      </td><td>2023</td><td>980</td><td>75.75536</td><td>12.13248</td><td>20.40739</td><td>22.37897</td><td>22.34274</td></tr>\n",
       "\t<tr><td>대곡      </td><td>2023</td><td>974</td><td>78.65948</td><td>11.70513</td><td>19.49177</td><td>21.62888</td><td>21.44274</td></tr>\n",
       "\t<tr><td>보성군(농)</td><td>2023</td><td>258</td><td>79.02586</td><td>33.21368</td><td>20.01422</td><td>21.08922</td><td>18.62778</td></tr>\n",
       "\t<tr><td>서산(농)  </td><td>2023</td><td>129</td><td>73.61373</td><td>21.37179</td><td>18.99258</td><td>21.96738</td><td>19.82137</td></tr>\n",
       "\t<tr><td>수원(농)  </td><td>2023</td><td>119</td><td>70.23707</td><td>25.55983</td><td>19.37284</td><td>22.22328</td><td>19.80128</td></tr>\n",
       "\t<tr><td>안동옥동  </td><td>2023</td><td>972</td><td>75.00000</td><td>49.58673</td><td>18.86524</td><td>21.89957</td><td>20.01624</td></tr>\n",
       "\t<tr><td>오창가곡  </td><td>2023</td><td>977</td><td>75.90517</td><td>20.08155</td><td>19.66595</td><td>22.56466</td><td>20.10773</td></tr>\n",
       "\t<tr><td>익산      </td><td>2023</td><td>702</td><td>70.80786</td><td>19.38627</td><td>19.56245</td><td>20.20437</td><td>19.51459</td></tr>\n",
       "\t<tr><td>춘천신북  </td><td>2023</td><td>978</td><td>71.83190</td><td>13.98837</td><td>18.55371</td><td>21.84267</td><td>19.44807</td></tr>\n",
       "\t<tr><td>화순능주  </td><td>2023</td><td>973</td><td>79.18750</td><td>23.96651</td><td>18.62067</td><td>21.41490</td><td>19.69426</td></tr>\n",
       "</tbody>\n",
       "</table>\n"
      ],
      "text/latex": [
       "A grouped\\_df: 10 x 8\n",
       "\\begin{tabular}{llllllll}\n",
       " 지점명 & 연간 & 지점 & X1.5M.평균.습도... & X10CM.일.토양수분... & X1.5M.평균.기온..C. & 평균.지면온도..C. & X0.5M.일.지중온도..C.\\\\\n",
       " <chr> & <chr> & <dbl> & <dbl> & <dbl> & <dbl> & <dbl> & <dbl>\\\\\n",
       "\\hline\n",
       "\t 강정       & 2023 & 980 & 75.75536 & 12.13248 & 20.40739 & 22.37897 & 22.34274\\\\\n",
       "\t 대곡       & 2023 & 974 & 78.65948 & 11.70513 & 19.49177 & 21.62888 & 21.44274\\\\\n",
       "\t 보성군(농) & 2023 & 258 & 79.02586 & 33.21368 & 20.01422 & 21.08922 & 18.62778\\\\\n",
       "\t 서산(농)   & 2023 & 129 & 73.61373 & 21.37179 & 18.99258 & 21.96738 & 19.82137\\\\\n",
       "\t 수원(농)   & 2023 & 119 & 70.23707 & 25.55983 & 19.37284 & 22.22328 & 19.80128\\\\\n",
       "\t 안동옥동   & 2023 & 972 & 75.00000 & 49.58673 & 18.86524 & 21.89957 & 20.01624\\\\\n",
       "\t 오창가곡   & 2023 & 977 & 75.90517 & 20.08155 & 19.66595 & 22.56466 & 20.10773\\\\\n",
       "\t 익산       & 2023 & 702 & 70.80786 & 19.38627 & 19.56245 & 20.20437 & 19.51459\\\\\n",
       "\t 춘천신북   & 2023 & 978 & 71.83190 & 13.98837 & 18.55371 & 21.84267 & 19.44807\\\\\n",
       "\t 화순능주   & 2023 & 973 & 79.18750 & 23.96651 & 18.62067 & 21.41490 & 19.69426\\\\\n",
       "\\end{tabular}\n"
      ],
      "text/markdown": [
       "\n",
       "A grouped_df: 10 x 8\n",
       "\n",
       "| 지점명 &lt;chr&gt; | 연간 &lt;chr&gt; | 지점 &lt;dbl&gt; | X1.5M.평균.습도... &lt;dbl&gt; | X10CM.일.토양수분... &lt;dbl&gt; | X1.5M.평균.기온..C. &lt;dbl&gt; | 평균.지면온도..C. &lt;dbl&gt; | X0.5M.일.지중온도..C. &lt;dbl&gt; |\n",
       "|---|---|---|---|---|---|---|---|\n",
       "| 강정       | 2023 | 980 | 75.75536 | 12.13248 | 20.40739 | 22.37897 | 22.34274 |\n",
       "| 대곡       | 2023 | 974 | 78.65948 | 11.70513 | 19.49177 | 21.62888 | 21.44274 |\n",
       "| 보성군(농) | 2023 | 258 | 79.02586 | 33.21368 | 20.01422 | 21.08922 | 18.62778 |\n",
       "| 서산(농)   | 2023 | 129 | 73.61373 | 21.37179 | 18.99258 | 21.96738 | 19.82137 |\n",
       "| 수원(농)   | 2023 | 119 | 70.23707 | 25.55983 | 19.37284 | 22.22328 | 19.80128 |\n",
       "| 안동옥동   | 2023 | 972 | 75.00000 | 49.58673 | 18.86524 | 21.89957 | 20.01624 |\n",
       "| 오창가곡   | 2023 | 977 | 75.90517 | 20.08155 | 19.66595 | 22.56466 | 20.10773 |\n",
       "| 익산       | 2023 | 702 | 70.80786 | 19.38627 | 19.56245 | 20.20437 | 19.51459 |\n",
       "| 춘천신북   | 2023 | 978 | 71.83190 | 13.98837 | 18.55371 | 21.84267 | 19.44807 |\n",
       "| 화순능주   | 2023 | 973 | 79.18750 | 23.96651 | 18.62067 | 21.41490 | 19.69426 |\n",
       "\n"
      ],
      "text/plain": [
       "   지점명     연간 지점 X1.5M.평균.습도... X10CM.일.토양수분...\n",
       "1  강정       2023 980  75.75536           12.13248            \n",
       "2  대곡       2023 974  78.65948           11.70513            \n",
       "3  보성군(농) 2023 258  79.02586           33.21368            \n",
       "4  서산(농)   2023 129  73.61373           21.37179            \n",
       "5  수원(농)   2023 119  70.23707           25.55983            \n",
       "6  안동옥동   2023 972  75.00000           49.58673            \n",
       "7  오창가곡   2023 977  75.90517           20.08155            \n",
       "8  익산       2023 702  70.80786           19.38627            \n",
       "9  춘천신북   2023 978  71.83190           13.98837            \n",
       "10 화순능주   2023 973  79.18750           23.96651            \n",
       "   X1.5M.평균.기온..C. 평균.지면온도..C. X0.5M.일.지중온도..C.\n",
       "1  20.40739            22.37897          22.34274             \n",
       "2  19.49177            21.62888          21.44274             \n",
       "3  20.01422            21.08922          18.62778             \n",
       "4  18.99258            21.96738          19.82137             \n",
       "5  19.37284            22.22328          19.80128             \n",
       "6  18.86524            21.89957          20.01624             \n",
       "7  19.66595            22.56466          20.10773             \n",
       "8  19.56245            20.20437          19.51459             \n",
       "9  18.55371            21.84267          19.44807             \n",
       "10 18.62067            21.41490          19.69426             "
      ]
     },
     "metadata": {},
     "output_type": "display_data"
    }
   ],
   "source": [
    "resultMean_rev1 <- resultMean %>%\n",
    "filter(지점명 != \"철원장흥\")\n",
    "\n",
    "resultMean_rev1"
   ]
  },
  {
   "cell_type": "code",
   "execution_count": 15,
   "metadata": {
    "vscode": {
     "languageId": "r"
    }
   },
   "outputs": [],
   "source": [
    "write.csv(resultMean_rev1, \"Data/23년기후.csv\")"
   ]
  },
  {
   "cell_type": "code",
   "execution_count": 321,
   "metadata": {
    "vscode": {
     "languageId": "r"
    }
   },
   "outputs": [],
   "source": [
    "b <- read.csv(\"Data/농림축산식품부+국립농산물품질관리원+농산물우수관리(GAP)+인증농가+현황_20240318.csv\", fileEncoding =\"EUC-KR\")"
   ]
  },
  {
   "cell_type": "code",
   "execution_count": 322,
   "metadata": {
    "vscode": {
     "languageId": "r"
    }
   },
   "outputs": [
    {
     "data": {
      "text/html": [
       "<table class=\"dataframe\">\n",
       "<caption>A data.frame: 2522 x 5</caption>\n",
       "<thead>\n",
       "\t<tr><th></th><th scope=col>인증번호</th><th scope=col>소재지</th><th scope=col>품목</th><th scope=col>재배면적...</th><th scope=col>생산계획량.톤.</th></tr>\n",
       "\t<tr><th></th><th scope=col>&lt;int&gt;</th><th scope=col>&lt;chr&gt;</th><th scope=col>&lt;chr&gt;</th><th scope=col>&lt;dbl&gt;</th><th scope=col>&lt;dbl&gt;</th></tr>\n",
       "</thead>\n",
       "<tbody>\n",
       "\t<tr><th scope=row>282749</th><td>1009653</td><td>전라남도 진도군</td><td>배추</td><td> 578.0</td><td> 5.08</td></tr>\n",
       "\t<tr><th scope=row>282750</th><td>1009653</td><td>전라남도 진도군</td><td>배추</td><td> 725.0</td><td> 6.37</td></tr>\n",
       "\t<tr><th scope=row>282751</th><td>1009653</td><td>전라남도 진도군</td><td>배추</td><td>1959.0</td><td>17.22</td></tr>\n",
       "\t<tr><th scope=row>282752</th><td>1009653</td><td>전라남도 진도군</td><td>배추</td><td> 204.0</td><td> 1.79</td></tr>\n",
       "\t<tr><th scope=row>282753</th><td>1009653</td><td>전라남도 진도군</td><td>배추</td><td>2354.0</td><td>20.69</td></tr>\n",
       "\t<tr><th scope=row>282754</th><td>1009653</td><td>전라남도 진도군</td><td>배추</td><td>3127.7</td><td>27.49</td></tr>\n",
       "\t<tr><th scope=row>282755</th><td>1009653</td><td>전라남도 진도군</td><td>배추</td><td>1015.0</td><td> 8.92</td></tr>\n",
       "\t<tr><th scope=row>282756</th><td>1009653</td><td>전라남도 진도군</td><td>배추</td><td>1470.0</td><td>12.92</td></tr>\n",
       "\t<tr><th scope=row>282757</th><td>1009653</td><td>전라남도 진도군</td><td>배추</td><td>1530.0</td><td>13.45</td></tr>\n",
       "\t<tr><th scope=row>282758</th><td>1009653</td><td>전라남도 진도군</td><td>배추</td><td> 820.0</td><td> 7.21</td></tr>\n",
       "\t<tr><th scope=row>282759</th><td>1009653</td><td>전라남도 진도군</td><td>배추</td><td>2180.0</td><td>19.16</td></tr>\n",
       "\t<tr><th scope=row>282760</th><td>1009653</td><td>전라남도 진도군</td><td>배추</td><td>2000.0</td><td>17.58</td></tr>\n",
       "\t<tr><th scope=row>282761</th><td>1009653</td><td>전라남도 진도군</td><td>배추</td><td>1000.0</td><td> 8.79</td></tr>\n",
       "\t<tr><th scope=row>282762</th><td>1009653</td><td>전라남도 진도군</td><td>배추</td><td> 800.0</td><td> 7.03</td></tr>\n",
       "\t<tr><th scope=row>282763</th><td>1009653</td><td>전라남도 진도군</td><td>배추</td><td>1950.0</td><td>17.14</td></tr>\n",
       "\t<tr><th scope=row>282764</th><td>1009653</td><td>전라남도 진도군</td><td>배추</td><td>1050.0</td><td> 9.23</td></tr>\n",
       "\t<tr><th scope=row>282765</th><td>1009653</td><td>전라남도 진도군</td><td>배추</td><td> 959.0</td><td> 8.43</td></tr>\n",
       "\t<tr><th scope=row>282766</th><td>1009653</td><td>전라남도 진도군</td><td>배추</td><td>1230.0</td><td>10.81</td></tr>\n",
       "\t<tr><th scope=row>282767</th><td>1009653</td><td>전라남도 진도군</td><td>배추</td><td> 960.0</td><td> 8.44</td></tr>\n",
       "\t<tr><th scope=row>282768</th><td>1009653</td><td>전라남도 진도군</td><td>배추</td><td>2824.0</td><td>24.82</td></tr>\n",
       "\t<tr><th scope=row>282769</th><td>1009653</td><td>전라남도 진도군</td><td>배추</td><td> 177.0</td><td> 1.56</td></tr>\n",
       "\t<tr><th scope=row>282770</th><td>1009653</td><td>전라남도 진도군</td><td>배추</td><td>3051.0</td><td>26.81</td></tr>\n",
       "\t<tr><th scope=row>282771</th><td>1009653</td><td>전라남도 진도군</td><td>배추</td><td> 150.0</td><td> 1.32</td></tr>\n",
       "\t<tr><th scope=row>282772</th><td>1009653</td><td>전라남도 진도군</td><td>배추</td><td>  61.0</td><td> 0.54</td></tr>\n",
       "\t<tr><th scope=row>282773</th><td>1009653</td><td>전라남도 진도군</td><td>배추</td><td> 280.0</td><td> 2.46</td></tr>\n",
       "\t<tr><th scope=row>282774</th><td>1009653</td><td>전라남도 진도군</td><td>배추</td><td>1162.2</td><td>10.21</td></tr>\n",
       "\t<tr><th scope=row>282775</th><td>1009653</td><td>전라남도 진도군</td><td>배추</td><td>1922.0</td><td>16.89</td></tr>\n",
       "\t<tr><th scope=row>282776</th><td>1009653</td><td>전라남도 진도군</td><td>배추</td><td> 763.0</td><td> 6.71</td></tr>\n",
       "\t<tr><th scope=row>282777</th><td>1009653</td><td>전라남도 진도군</td><td>배추</td><td>1352.0</td><td>11.88</td></tr>\n",
       "\t<tr><th scope=row>282778</th><td>1009653</td><td>전라남도 진도군</td><td>배추</td><td> 981.0</td><td> 8.62</td></tr>\n",
       "\t<tr><th scope=row>...</th><td>...</td><td>...</td><td>...</td><td>...</td><td>...</td></tr>\n",
       "\t<tr><th scope=row>608098</th><td>1023224</td><td>대전광역시 유성구</td><td>배추</td><td> 100</td><td>  0.10</td></tr>\n",
       "\t<tr><th scope=row>608099</th><td>1023224</td><td>대전광역시 유성구</td><td>배추</td><td> 100</td><td>  0.02</td></tr>\n",
       "\t<tr><th scope=row>608100</th><td>1023224</td><td>대전광역시 유성구</td><td>배추</td><td> 100</td><td>  0.10</td></tr>\n",
       "\t<tr><th scope=row>608101</th><td>1023224</td><td>대전광역시 유성구</td><td>배추</td><td>  33</td><td>  0.03</td></tr>\n",
       "\t<tr><th scope=row>608102</th><td>1023224</td><td>대전광역시 유성구</td><td>배추</td><td> 100</td><td>  0.03</td></tr>\n",
       "\t<tr><th scope=row>608103</th><td>1023224</td><td>대전광역시 유성구</td><td>배추</td><td> 100</td><td>  0.10</td></tr>\n",
       "\t<tr><th scope=row>608104</th><td>1023224</td><td>대전광역시 유성구</td><td>배추</td><td>  33</td><td>  0.05</td></tr>\n",
       "\t<tr><th scope=row>608105</th><td>1023224</td><td>대전광역시 유성구</td><td>배추</td><td>  70</td><td>  0.50</td></tr>\n",
       "\t<tr><th scope=row>608106</th><td>1023224</td><td>대전광역시 유성구</td><td>배추</td><td>  70</td><td>  0.50</td></tr>\n",
       "\t<tr><th scope=row>608107</th><td>1023224</td><td>대전광역시 유성구</td><td>배추</td><td>  70</td><td>  0.03</td></tr>\n",
       "\t<tr><th scope=row>608108</th><td>1023224</td><td>대전광역시 유성구</td><td>배추</td><td>  10</td><td>  0.01</td></tr>\n",
       "\t<tr><th scope=row>608109</th><td>1023224</td><td>대전광역시 유성구</td><td>배추</td><td>  10</td><td>  0.01</td></tr>\n",
       "\t<tr><th scope=row>608110</th><td>1023224</td><td>대전광역시 유성구</td><td>배추</td><td>  50</td><td>  0.20</td></tr>\n",
       "\t<tr><th scope=row>608111</th><td>1023224</td><td>대전광역시 유성구</td><td>배추</td><td>  50</td><td>  0.03</td></tr>\n",
       "\t<tr><th scope=row>608112</th><td>1023224</td><td>대전광역시 유성구</td><td>배추</td><td>  50</td><td>  0.05</td></tr>\n",
       "\t<tr><th scope=row>608113</th><td>1023224</td><td>대전광역시 유성구</td><td>배추</td><td>  33</td><td>  0.05</td></tr>\n",
       "\t<tr><th scope=row>608114</th><td>1023224</td><td>대전광역시 유성구</td><td>배추</td><td>  50</td><td>  0.05</td></tr>\n",
       "\t<tr><th scope=row>608115</th><td>1023224</td><td>대전광역시 유성구</td><td>배추</td><td>  50</td><td>  0.05</td></tr>\n",
       "\t<tr><th scope=row>608116</th><td>1023224</td><td>대전광역시 유성구</td><td>배추</td><td> 100</td><td>  0.50</td></tr>\n",
       "\t<tr><th scope=row>608117</th><td>1023224</td><td>대전광역시 유성구</td><td>배추</td><td> 100</td><td>  0.50</td></tr>\n",
       "\t<tr><th scope=row>608118</th><td>1023224</td><td>대전광역시 유성구</td><td>배추</td><td> 100</td><td>  0.50</td></tr>\n",
       "\t<tr><th scope=row>608119</th><td>1023224</td><td>대전광역시 유성구</td><td>배추</td><td>  66</td><td>  0.10</td></tr>\n",
       "\t<tr><th scope=row>608120</th><td>1023224</td><td>대전광역시 유성구</td><td>배추</td><td> 100</td><td>  0.50</td></tr>\n",
       "\t<tr><th scope=row>608121</th><td>1023224</td><td>대전광역시 유성구</td><td>배추</td><td> 100</td><td>  0.50</td></tr>\n",
       "\t<tr><th scope=row>608122</th><td>1023224</td><td>대전광역시 유성구</td><td>배추</td><td>  66</td><td>  0.10</td></tr>\n",
       "\t<tr><th scope=row>608123</th><td>1023224</td><td>대전광역시 유성구</td><td>배추</td><td> 100</td><td>  0.10</td></tr>\n",
       "\t<tr><th scope=row>608124</th><td>1023224</td><td>대전광역시 유성구</td><td>배추</td><td>  33</td><td>  0.03</td></tr>\n",
       "\t<tr><th scope=row>608125</th><td>1023224</td><td>대전광역시 유성구</td><td>배추</td><td> 100</td><td>  0.10</td></tr>\n",
       "\t<tr><th scope=row>608625</th><td>1023245</td><td>전라남도 해남군  </td><td>배추</td><td> 992</td><td>  8.00</td></tr>\n",
       "\t<tr><th scope=row>608626</th><td>1023246</td><td>전라남도 해남군  </td><td>배추</td><td>4912</td><td>120.00</td></tr>\n",
       "</tbody>\n",
       "</table>\n"
      ],
      "text/latex": [
       "A data.frame: 2522 x 5\n",
       "\\begin{tabular}{r|lllll}\n",
       "  & 인증번호 & 소재지 & 품목 & 재배면적... & 생산계획량.톤.\\\\\n",
       "  & <int> & <chr> & <chr> & <dbl> & <dbl>\\\\\n",
       "\\hline\n",
       "\t282749 & 1009653 & 전라남도 진도군 & 배추 &  578.0 &  5.08\\\\\n",
       "\t282750 & 1009653 & 전라남도 진도군 & 배추 &  725.0 &  6.37\\\\\n",
       "\t282751 & 1009653 & 전라남도 진도군 & 배추 & 1959.0 & 17.22\\\\\n",
       "\t282752 & 1009653 & 전라남도 진도군 & 배추 &  204.0 &  1.79\\\\\n",
       "\t282753 & 1009653 & 전라남도 진도군 & 배추 & 2354.0 & 20.69\\\\\n",
       "\t282754 & 1009653 & 전라남도 진도군 & 배추 & 3127.7 & 27.49\\\\\n",
       "\t282755 & 1009653 & 전라남도 진도군 & 배추 & 1015.0 &  8.92\\\\\n",
       "\t282756 & 1009653 & 전라남도 진도군 & 배추 & 1470.0 & 12.92\\\\\n",
       "\t282757 & 1009653 & 전라남도 진도군 & 배추 & 1530.0 & 13.45\\\\\n",
       "\t282758 & 1009653 & 전라남도 진도군 & 배추 &  820.0 &  7.21\\\\\n",
       "\t282759 & 1009653 & 전라남도 진도군 & 배추 & 2180.0 & 19.16\\\\\n",
       "\t282760 & 1009653 & 전라남도 진도군 & 배추 & 2000.0 & 17.58\\\\\n",
       "\t282761 & 1009653 & 전라남도 진도군 & 배추 & 1000.0 &  8.79\\\\\n",
       "\t282762 & 1009653 & 전라남도 진도군 & 배추 &  800.0 &  7.03\\\\\n",
       "\t282763 & 1009653 & 전라남도 진도군 & 배추 & 1950.0 & 17.14\\\\\n",
       "\t282764 & 1009653 & 전라남도 진도군 & 배추 & 1050.0 &  9.23\\\\\n",
       "\t282765 & 1009653 & 전라남도 진도군 & 배추 &  959.0 &  8.43\\\\\n",
       "\t282766 & 1009653 & 전라남도 진도군 & 배추 & 1230.0 & 10.81\\\\\n",
       "\t282767 & 1009653 & 전라남도 진도군 & 배추 &  960.0 &  8.44\\\\\n",
       "\t282768 & 1009653 & 전라남도 진도군 & 배추 & 2824.0 & 24.82\\\\\n",
       "\t282769 & 1009653 & 전라남도 진도군 & 배추 &  177.0 &  1.56\\\\\n",
       "\t282770 & 1009653 & 전라남도 진도군 & 배추 & 3051.0 & 26.81\\\\\n",
       "\t282771 & 1009653 & 전라남도 진도군 & 배추 &  150.0 &  1.32\\\\\n",
       "\t282772 & 1009653 & 전라남도 진도군 & 배추 &   61.0 &  0.54\\\\\n",
       "\t282773 & 1009653 & 전라남도 진도군 & 배추 &  280.0 &  2.46\\\\\n",
       "\t282774 & 1009653 & 전라남도 진도군 & 배추 & 1162.2 & 10.21\\\\\n",
       "\t282775 & 1009653 & 전라남도 진도군 & 배추 & 1922.0 & 16.89\\\\\n",
       "\t282776 & 1009653 & 전라남도 진도군 & 배추 &  763.0 &  6.71\\\\\n",
       "\t282777 & 1009653 & 전라남도 진도군 & 배추 & 1352.0 & 11.88\\\\\n",
       "\t282778 & 1009653 & 전라남도 진도군 & 배추 &  981.0 &  8.62\\\\\n",
       "\t... & ... & ... & ... & ... & ...\\\\\n",
       "\t608098 & 1023224 & 대전광역시 유성구 & 배추 &  100 &   0.10\\\\\n",
       "\t608099 & 1023224 & 대전광역시 유성구 & 배추 &  100 &   0.02\\\\\n",
       "\t608100 & 1023224 & 대전광역시 유성구 & 배추 &  100 &   0.10\\\\\n",
       "\t608101 & 1023224 & 대전광역시 유성구 & 배추 &   33 &   0.03\\\\\n",
       "\t608102 & 1023224 & 대전광역시 유성구 & 배추 &  100 &   0.03\\\\\n",
       "\t608103 & 1023224 & 대전광역시 유성구 & 배추 &  100 &   0.10\\\\\n",
       "\t608104 & 1023224 & 대전광역시 유성구 & 배추 &   33 &   0.05\\\\\n",
       "\t608105 & 1023224 & 대전광역시 유성구 & 배추 &   70 &   0.50\\\\\n",
       "\t608106 & 1023224 & 대전광역시 유성구 & 배추 &   70 &   0.50\\\\\n",
       "\t608107 & 1023224 & 대전광역시 유성구 & 배추 &   70 &   0.03\\\\\n",
       "\t608108 & 1023224 & 대전광역시 유성구 & 배추 &   10 &   0.01\\\\\n",
       "\t608109 & 1023224 & 대전광역시 유성구 & 배추 &   10 &   0.01\\\\\n",
       "\t608110 & 1023224 & 대전광역시 유성구 & 배추 &   50 &   0.20\\\\\n",
       "\t608111 & 1023224 & 대전광역시 유성구 & 배추 &   50 &   0.03\\\\\n",
       "\t608112 & 1023224 & 대전광역시 유성구 & 배추 &   50 &   0.05\\\\\n",
       "\t608113 & 1023224 & 대전광역시 유성구 & 배추 &   33 &   0.05\\\\\n",
       "\t608114 & 1023224 & 대전광역시 유성구 & 배추 &   50 &   0.05\\\\\n",
       "\t608115 & 1023224 & 대전광역시 유성구 & 배추 &   50 &   0.05\\\\\n",
       "\t608116 & 1023224 & 대전광역시 유성구 & 배추 &  100 &   0.50\\\\\n",
       "\t608117 & 1023224 & 대전광역시 유성구 & 배추 &  100 &   0.50\\\\\n",
       "\t608118 & 1023224 & 대전광역시 유성구 & 배추 &  100 &   0.50\\\\\n",
       "\t608119 & 1023224 & 대전광역시 유성구 & 배추 &   66 &   0.10\\\\\n",
       "\t608120 & 1023224 & 대전광역시 유성구 & 배추 &  100 &   0.50\\\\\n",
       "\t608121 & 1023224 & 대전광역시 유성구 & 배추 &  100 &   0.50\\\\\n",
       "\t608122 & 1023224 & 대전광역시 유성구 & 배추 &   66 &   0.10\\\\\n",
       "\t608123 & 1023224 & 대전광역시 유성구 & 배추 &  100 &   0.10\\\\\n",
       "\t608124 & 1023224 & 대전광역시 유성구 & 배추 &   33 &   0.03\\\\\n",
       "\t608125 & 1023224 & 대전광역시 유성구 & 배추 &  100 &   0.10\\\\\n",
       "\t608625 & 1023245 & 전라남도 해남군   & 배추 &  992 &   8.00\\\\\n",
       "\t608626 & 1023246 & 전라남도 해남군   & 배추 & 4912 & 120.00\\\\\n",
       "\\end{tabular}\n"
      ],
      "text/markdown": [
       "\n",
       "A data.frame: 2522 x 5\n",
       "\n",
       "| <!--/--> | 인증번호 &lt;int&gt; | 소재지 &lt;chr&gt; | 품목 &lt;chr&gt; | 재배면적... &lt;dbl&gt; | 생산계획량.톤. &lt;dbl&gt; |\n",
       "|---|---|---|---|---|---|\n",
       "| 282749 | 1009653 | 전라남도 진도군 | 배추 |  578.0 |  5.08 |\n",
       "| 282750 | 1009653 | 전라남도 진도군 | 배추 |  725.0 |  6.37 |\n",
       "| 282751 | 1009653 | 전라남도 진도군 | 배추 | 1959.0 | 17.22 |\n",
       "| 282752 | 1009653 | 전라남도 진도군 | 배추 |  204.0 |  1.79 |\n",
       "| 282753 | 1009653 | 전라남도 진도군 | 배추 | 2354.0 | 20.69 |\n",
       "| 282754 | 1009653 | 전라남도 진도군 | 배추 | 3127.7 | 27.49 |\n",
       "| 282755 | 1009653 | 전라남도 진도군 | 배추 | 1015.0 |  8.92 |\n",
       "| 282756 | 1009653 | 전라남도 진도군 | 배추 | 1470.0 | 12.92 |\n",
       "| 282757 | 1009653 | 전라남도 진도군 | 배추 | 1530.0 | 13.45 |\n",
       "| 282758 | 1009653 | 전라남도 진도군 | 배추 |  820.0 |  7.21 |\n",
       "| 282759 | 1009653 | 전라남도 진도군 | 배추 | 2180.0 | 19.16 |\n",
       "| 282760 | 1009653 | 전라남도 진도군 | 배추 | 2000.0 | 17.58 |\n",
       "| 282761 | 1009653 | 전라남도 진도군 | 배추 | 1000.0 |  8.79 |\n",
       "| 282762 | 1009653 | 전라남도 진도군 | 배추 |  800.0 |  7.03 |\n",
       "| 282763 | 1009653 | 전라남도 진도군 | 배추 | 1950.0 | 17.14 |\n",
       "| 282764 | 1009653 | 전라남도 진도군 | 배추 | 1050.0 |  9.23 |\n",
       "| 282765 | 1009653 | 전라남도 진도군 | 배추 |  959.0 |  8.43 |\n",
       "| 282766 | 1009653 | 전라남도 진도군 | 배추 | 1230.0 | 10.81 |\n",
       "| 282767 | 1009653 | 전라남도 진도군 | 배추 |  960.0 |  8.44 |\n",
       "| 282768 | 1009653 | 전라남도 진도군 | 배추 | 2824.0 | 24.82 |\n",
       "| 282769 | 1009653 | 전라남도 진도군 | 배추 |  177.0 |  1.56 |\n",
       "| 282770 | 1009653 | 전라남도 진도군 | 배추 | 3051.0 | 26.81 |\n",
       "| 282771 | 1009653 | 전라남도 진도군 | 배추 |  150.0 |  1.32 |\n",
       "| 282772 | 1009653 | 전라남도 진도군 | 배추 |   61.0 |  0.54 |\n",
       "| 282773 | 1009653 | 전라남도 진도군 | 배추 |  280.0 |  2.46 |\n",
       "| 282774 | 1009653 | 전라남도 진도군 | 배추 | 1162.2 | 10.21 |\n",
       "| 282775 | 1009653 | 전라남도 진도군 | 배추 | 1922.0 | 16.89 |\n",
       "| 282776 | 1009653 | 전라남도 진도군 | 배추 |  763.0 |  6.71 |\n",
       "| 282777 | 1009653 | 전라남도 진도군 | 배추 | 1352.0 | 11.88 |\n",
       "| 282778 | 1009653 | 전라남도 진도군 | 배추 |  981.0 |  8.62 |\n",
       "| ... | ... | ... | ... | ... | ... |\n",
       "| 608098 | 1023224 | 대전광역시 유성구 | 배추 |  100 |   0.10 |\n",
       "| 608099 | 1023224 | 대전광역시 유성구 | 배추 |  100 |   0.02 |\n",
       "| 608100 | 1023224 | 대전광역시 유성구 | 배추 |  100 |   0.10 |\n",
       "| 608101 | 1023224 | 대전광역시 유성구 | 배추 |   33 |   0.03 |\n",
       "| 608102 | 1023224 | 대전광역시 유성구 | 배추 |  100 |   0.03 |\n",
       "| 608103 | 1023224 | 대전광역시 유성구 | 배추 |  100 |   0.10 |\n",
       "| 608104 | 1023224 | 대전광역시 유성구 | 배추 |   33 |   0.05 |\n",
       "| 608105 | 1023224 | 대전광역시 유성구 | 배추 |   70 |   0.50 |\n",
       "| 608106 | 1023224 | 대전광역시 유성구 | 배추 |   70 |   0.50 |\n",
       "| 608107 | 1023224 | 대전광역시 유성구 | 배추 |   70 |   0.03 |\n",
       "| 608108 | 1023224 | 대전광역시 유성구 | 배추 |   10 |   0.01 |\n",
       "| 608109 | 1023224 | 대전광역시 유성구 | 배추 |   10 |   0.01 |\n",
       "| 608110 | 1023224 | 대전광역시 유성구 | 배추 |   50 |   0.20 |\n",
       "| 608111 | 1023224 | 대전광역시 유성구 | 배추 |   50 |   0.03 |\n",
       "| 608112 | 1023224 | 대전광역시 유성구 | 배추 |   50 |   0.05 |\n",
       "| 608113 | 1023224 | 대전광역시 유성구 | 배추 |   33 |   0.05 |\n",
       "| 608114 | 1023224 | 대전광역시 유성구 | 배추 |   50 |   0.05 |\n",
       "| 608115 | 1023224 | 대전광역시 유성구 | 배추 |   50 |   0.05 |\n",
       "| 608116 | 1023224 | 대전광역시 유성구 | 배추 |  100 |   0.50 |\n",
       "| 608117 | 1023224 | 대전광역시 유성구 | 배추 |  100 |   0.50 |\n",
       "| 608118 | 1023224 | 대전광역시 유성구 | 배추 |  100 |   0.50 |\n",
       "| 608119 | 1023224 | 대전광역시 유성구 | 배추 |   66 |   0.10 |\n",
       "| 608120 | 1023224 | 대전광역시 유성구 | 배추 |  100 |   0.50 |\n",
       "| 608121 | 1023224 | 대전광역시 유성구 | 배추 |  100 |   0.50 |\n",
       "| 608122 | 1023224 | 대전광역시 유성구 | 배추 |   66 |   0.10 |\n",
       "| 608123 | 1023224 | 대전광역시 유성구 | 배추 |  100 |   0.10 |\n",
       "| 608124 | 1023224 | 대전광역시 유성구 | 배추 |   33 |   0.03 |\n",
       "| 608125 | 1023224 | 대전광역시 유성구 | 배추 |  100 |   0.10 |\n",
       "| 608625 | 1023245 | 전라남도 해남군   | 배추 |  992 |   8.00 |\n",
       "| 608626 | 1023246 | 전라남도 해남군   | 배추 | 4912 | 120.00 |\n",
       "\n"
      ],
      "text/plain": [
       "       인증번호 소재지            품목 재배면적... 생산계획량.톤.\n",
       "282749 1009653  전라남도 진도군   배추  578.0       5.08         \n",
       "282750 1009653  전라남도 진도군   배추  725.0       6.37         \n",
       "282751 1009653  전라남도 진도군   배추 1959.0      17.22         \n",
       "282752 1009653  전라남도 진도군   배추  204.0       1.79         \n",
       "282753 1009653  전라남도 진도군   배추 2354.0      20.69         \n",
       "282754 1009653  전라남도 진도군   배추 3127.7      27.49         \n",
       "282755 1009653  전라남도 진도군   배추 1015.0       8.92         \n",
       "282756 1009653  전라남도 진도군   배추 1470.0      12.92         \n",
       "282757 1009653  전라남도 진도군   배추 1530.0      13.45         \n",
       "282758 1009653  전라남도 진도군   배추  820.0       7.21         \n",
       "282759 1009653  전라남도 진도군   배추 2180.0      19.16         \n",
       "282760 1009653  전라남도 진도군   배추 2000.0      17.58         \n",
       "282761 1009653  전라남도 진도군   배추 1000.0       8.79         \n",
       "282762 1009653  전라남도 진도군   배추  800.0       7.03         \n",
       "282763 1009653  전라남도 진도군   배추 1950.0      17.14         \n",
       "282764 1009653  전라남도 진도군   배추 1050.0       9.23         \n",
       "282765 1009653  전라남도 진도군   배추  959.0       8.43         \n",
       "282766 1009653  전라남도 진도군   배추 1230.0      10.81         \n",
       "282767 1009653  전라남도 진도군   배추  960.0       8.44         \n",
       "282768 1009653  전라남도 진도군   배추 2824.0      24.82         \n",
       "282769 1009653  전라남도 진도군   배추  177.0       1.56         \n",
       "282770 1009653  전라남도 진도군   배추 3051.0      26.81         \n",
       "282771 1009653  전라남도 진도군   배추  150.0       1.32         \n",
       "282772 1009653  전라남도 진도군   배추   61.0       0.54         \n",
       "282773 1009653  전라남도 진도군   배추  280.0       2.46         \n",
       "282774 1009653  전라남도 진도군   배추 1162.2      10.21         \n",
       "282775 1009653  전라남도 진도군   배추 1922.0      16.89         \n",
       "282776 1009653  전라남도 진도군   배추  763.0       6.71         \n",
       "282777 1009653  전라남도 진도군   배추 1352.0      11.88         \n",
       "282778 1009653  전라남도 진도군   배추  981.0       8.62         \n",
       "...    ...      ...               ...  ...         ...           \n",
       "608098 1023224  대전광역시 유성구 배추  100          0.10        \n",
       "608099 1023224  대전광역시 유성구 배추  100          0.02        \n",
       "608100 1023224  대전광역시 유성구 배추  100          0.10        \n",
       "608101 1023224  대전광역시 유성구 배추   33          0.03        \n",
       "608102 1023224  대전광역시 유성구 배추  100          0.03        \n",
       "608103 1023224  대전광역시 유성구 배추  100          0.10        \n",
       "608104 1023224  대전광역시 유성구 배추   33          0.05        \n",
       "608105 1023224  대전광역시 유성구 배추   70          0.50        \n",
       "608106 1023224  대전광역시 유성구 배추   70          0.50        \n",
       "608107 1023224  대전광역시 유성구 배추   70          0.03        \n",
       "608108 1023224  대전광역시 유성구 배추   10          0.01        \n",
       "608109 1023224  대전광역시 유성구 배추   10          0.01        \n",
       "608110 1023224  대전광역시 유성구 배추   50          0.20        \n",
       "608111 1023224  대전광역시 유성구 배추   50          0.03        \n",
       "608112 1023224  대전광역시 유성구 배추   50          0.05        \n",
       "608113 1023224  대전광역시 유성구 배추   33          0.05        \n",
       "608114 1023224  대전광역시 유성구 배추   50          0.05        \n",
       "608115 1023224  대전광역시 유성구 배추   50          0.05        \n",
       "608116 1023224  대전광역시 유성구 배추  100          0.50        \n",
       "608117 1023224  대전광역시 유성구 배추  100          0.50        \n",
       "608118 1023224  대전광역시 유성구 배추  100          0.50        \n",
       "608119 1023224  대전광역시 유성구 배추   66          0.10        \n",
       "608120 1023224  대전광역시 유성구 배추  100          0.50        \n",
       "608121 1023224  대전광역시 유성구 배추  100          0.50        \n",
       "608122 1023224  대전광역시 유성구 배추   66          0.10        \n",
       "608123 1023224  대전광역시 유성구 배추  100          0.10        \n",
       "608124 1023224  대전광역시 유성구 배추   33          0.03        \n",
       "608125 1023224  대전광역시 유성구 배추  100          0.10        \n",
       "608625 1023245  전라남도 해남군   배추  992          8.00        \n",
       "608626 1023246  전라남도 해남군   배추 4912        120.00        "
      ]
     },
     "metadata": {},
     "output_type": "display_data"
    }
   ],
   "source": [
    "subset(b,b$품목 == '배추')"
   ]
  },
  {
   "cell_type": "code",
   "execution_count": 323,
   "metadata": {
    "vscode": {
     "languageId": "r"
    }
   },
   "outputs": [
    {
     "data": {
      "text/html": [
       "<table class=\"dataframe\">\n",
       "<caption>A data.frame: 6 x 5</caption>\n",
       "<thead>\n",
       "\t<tr><th></th><th scope=col>인증번호</th><th scope=col>소재지</th><th scope=col>품목</th><th scope=col>재배면적...</th><th scope=col>생산계획량.톤.</th></tr>\n",
       "\t<tr><th></th><th scope=col>&lt;int&gt;</th><th scope=col>&lt;chr&gt;</th><th scope=col>&lt;chr&gt;</th><th scope=col>&lt;dbl&gt;</th><th scope=col>&lt;dbl&gt;</th></tr>\n",
       "</thead>\n",
       "<tbody>\n",
       "\t<tr><th scope=row>282749</th><td>1009653</td><td>전라남도 진도군</td><td>배추</td><td> 578.0</td><td> 5.08</td></tr>\n",
       "\t<tr><th scope=row>282750</th><td>1009653</td><td>전라남도 진도군</td><td>배추</td><td> 725.0</td><td> 6.37</td></tr>\n",
       "\t<tr><th scope=row>282751</th><td>1009653</td><td>전라남도 진도군</td><td>배추</td><td>1959.0</td><td>17.22</td></tr>\n",
       "\t<tr><th scope=row>282752</th><td>1009653</td><td>전라남도 진도군</td><td>배추</td><td> 204.0</td><td> 1.79</td></tr>\n",
       "\t<tr><th scope=row>282753</th><td>1009653</td><td>전라남도 진도군</td><td>배추</td><td>2354.0</td><td>20.69</td></tr>\n",
       "\t<tr><th scope=row>282754</th><td>1009653</td><td>전라남도 진도군</td><td>배추</td><td>3127.7</td><td>27.49</td></tr>\n",
       "</tbody>\n",
       "</table>\n"
      ],
      "text/latex": [
       "A data.frame: 6 x 5\n",
       "\\begin{tabular}{r|lllll}\n",
       "  & 인증번호 & 소재지 & 품목 & 재배면적... & 생산계획량.톤.\\\\\n",
       "  & <int> & <chr> & <chr> & <dbl> & <dbl>\\\\\n",
       "\\hline\n",
       "\t282749 & 1009653 & 전라남도 진도군 & 배추 &  578.0 &  5.08\\\\\n",
       "\t282750 & 1009653 & 전라남도 진도군 & 배추 &  725.0 &  6.37\\\\\n",
       "\t282751 & 1009653 & 전라남도 진도군 & 배추 & 1959.0 & 17.22\\\\\n",
       "\t282752 & 1009653 & 전라남도 진도군 & 배추 &  204.0 &  1.79\\\\\n",
       "\t282753 & 1009653 & 전라남도 진도군 & 배추 & 2354.0 & 20.69\\\\\n",
       "\t282754 & 1009653 & 전라남도 진도군 & 배추 & 3127.7 & 27.49\\\\\n",
       "\\end{tabular}\n"
      ],
      "text/markdown": [
       "\n",
       "A data.frame: 6 x 5\n",
       "\n",
       "| <!--/--> | 인증번호 &lt;int&gt; | 소재지 &lt;chr&gt; | 품목 &lt;chr&gt; | 재배면적... &lt;dbl&gt; | 생산계획량.톤. &lt;dbl&gt; |\n",
       "|---|---|---|---|---|---|\n",
       "| 282749 | 1009653 | 전라남도 진도군 | 배추 |  578.0 |  5.08 |\n",
       "| 282750 | 1009653 | 전라남도 진도군 | 배추 |  725.0 |  6.37 |\n",
       "| 282751 | 1009653 | 전라남도 진도군 | 배추 | 1959.0 | 17.22 |\n",
       "| 282752 | 1009653 | 전라남도 진도군 | 배추 |  204.0 |  1.79 |\n",
       "| 282753 | 1009653 | 전라남도 진도군 | 배추 | 2354.0 | 20.69 |\n",
       "| 282754 | 1009653 | 전라남도 진도군 | 배추 | 3127.7 | 27.49 |\n",
       "\n"
      ],
      "text/plain": [
       "       인증번호 소재지          품목 재배면적... 생산계획량.톤.\n",
       "282749 1009653  전라남도 진도군 배추  578.0       5.08         \n",
       "282750 1009653  전라남도 진도군 배추  725.0       6.37         \n",
       "282751 1009653  전라남도 진도군 배추 1959.0      17.22         \n",
       "282752 1009653  전라남도 진도군 배추  204.0       1.79         \n",
       "282753 1009653  전라남도 진도군 배추 2354.0      20.69         \n",
       "282754 1009653  전라남도 진도군 배추 3127.7      27.49         "
      ]
     },
     "metadata": {},
     "output_type": "display_data"
    }
   ],
   "source": [
    "소재지배추재배면적 <- subset(b,b$품목 == '배추')\n",
    "head(소재지배추재배면적)"
   ]
  },
  {
   "cell_type": "code",
   "execution_count": 324,
   "metadata": {
    "vscode": {
     "languageId": "r"
    }
   },
   "outputs": [],
   "source": [
    "시도별배추생산량2024<-read.csv(\"Data/채소생산량_엽채류__20240412163507.csv\", header=T,skip=1)"
   ]
  },
  {
   "cell_type": "code",
   "execution_count": 325,
   "metadata": {
    "vscode": {
     "languageId": "r"
    }
   },
   "outputs": [
    {
     "data": {
      "text/plain": [
       "\n",
       " 강원특별자치도 영월군  강원특별자치도 평창군 경기도 고양시 일산서구 \n",
       "                    96                      3                    111 \n",
       "         경기도 광명시          경기도 부천시   경기도 안산시 상록구 \n",
       "                    80                      1                      5 \n",
       "  경기도 용인시 처인구        경상북도 경주시        경상북도 영덕군 \n",
       "                    73                     45                    111 \n",
       "       경상북도 영양군   경상북도 포항시 북구      대전광역시 유성구 \n",
       "                     8                     72                     49 \n",
       "       전라남도 강진군        전라남도 곡성군        전라남도 구례군 \n",
       "                    48                     26                     14 \n",
       "       전라남도 나주시        전라남도 진도군        전라남도 해남군 \n",
       "                    44                    139                   1305 \n",
       " 전북특별자치도 김제시  전북특별자치도 익산시        충청남도 부여군 \n",
       "                    34                     11                     16 \n",
       "       충청북도 제천시        충청북도 진천군        충청북도 충주시 \n",
       "                     6                    112                    113 "
      ]
     },
     "metadata": {},
     "output_type": "display_data"
    }
   ],
   "source": [
    "table(소재지배추재배면적$소재지)"
   ]
  },
  {
   "cell_type": "code",
   "execution_count": 326,
   "metadata": {
    "vscode": {
     "languageId": "r"
    }
   },
   "outputs": [],
   "source": [
    "#install.packages(\"stringr\")\n",
    "library(stringr)"
   ]
  },
  {
   "cell_type": "code",
   "execution_count": 327,
   "metadata": {
    "vscode": {
     "languageId": "r"
    }
   },
   "outputs": [
    {
     "data": {
      "text/html": [
       "<table class=\"dataframe\">\n",
       "<caption>A data.frame: 6 x 4</caption>\n",
       "<thead>\n",
       "\t<tr><th></th><th scope=col>시도별</th><th scope=col>노지배추.면적..ha.</th><th scope=col>노지배추.10a당.생산량..kg.</th><th scope=col>노지배추.생산량..톤.</th></tr>\n",
       "\t<tr><th></th><th scope=col>&lt;chr&gt;</th><th scope=col>&lt;int&gt;</th><th scope=col>&lt;int&gt;</th><th scope=col>&lt;int&gt;</th></tr>\n",
       "</thead>\n",
       "<tbody>\n",
       "\t<tr><th scope=row>1</th><td>서울특별시</td><td>  7</td><td> 7446</td><td>  533</td></tr>\n",
       "\t<tr><th scope=row>2</th><td>부산광역시</td><td> 36</td><td> 5803</td><td> 2099</td></tr>\n",
       "\t<tr><th scope=row>3</th><td>대구광역시</td><td> 59</td><td> 8684</td><td> 5083</td></tr>\n",
       "\t<tr><th scope=row>4</th><td>인천광역시</td><td>110</td><td>10463</td><td>11536</td></tr>\n",
       "\t<tr><th scope=row>5</th><td>광주광역시</td><td> 28</td><td>10998</td><td> 3050</td></tr>\n",
       "\t<tr><th scope=row>6</th><td>대전광역시</td><td> 49</td><td> 9606</td><td> 4719</td></tr>\n",
       "</tbody>\n",
       "</table>\n"
      ],
      "text/latex": [
       "A data.frame: 6 x 4\n",
       "\\begin{tabular}{r|llll}\n",
       "  & 시도별 & 노지배추.면적..ha. & 노지배추.10a당.생산량..kg. & 노지배추.생산량..톤.\\\\\n",
       "  & <chr> & <int> & <int> & <int>\\\\\n",
       "\\hline\n",
       "\t1 & 서울특별시 &   7 &  7446 &   533\\\\\n",
       "\t2 & 부산광역시 &  36 &  5803 &  2099\\\\\n",
       "\t3 & 대구광역시 &  59 &  8684 &  5083\\\\\n",
       "\t4 & 인천광역시 & 110 & 10463 & 11536\\\\\n",
       "\t5 & 광주광역시 &  28 & 10998 &  3050\\\\\n",
       "\t6 & 대전광역시 &  49 &  9606 &  4719\\\\\n",
       "\\end{tabular}\n"
      ],
      "text/markdown": [
       "\n",
       "A data.frame: 6 x 4\n",
       "\n",
       "| <!--/--> | 시도별 &lt;chr&gt; | 노지배추.면적..ha. &lt;int&gt; | 노지배추.10a당.생산량..kg. &lt;int&gt; | 노지배추.생산량..톤. &lt;int&gt; |\n",
       "|---|---|---|---|---|\n",
       "| 1 | 서울특별시 |   7 |  7446 |   533 |\n",
       "| 2 | 부산광역시 |  36 |  5803 |  2099 |\n",
       "| 3 | 대구광역시 |  59 |  8684 |  5083 |\n",
       "| 4 | 인천광역시 | 110 | 10463 | 11536 |\n",
       "| 5 | 광주광역시 |  28 | 10998 |  3050 |\n",
       "| 6 | 대전광역시 |  49 |  9606 |  4719 |\n",
       "\n"
      ],
      "text/plain": [
       "  시도별     노지배추.면적..ha. 노지배추.10a당.생산량..kg. 노지배추.생산량..톤.\n",
       "1 서울특별시   7                 7446                        533               \n",
       "2 부산광역시  36                 5803                       2099               \n",
       "3 대구광역시  59                 8684                       5083               \n",
       "4 인천광역시 110                10463                      11536               \n",
       "5 광주광역시  28                10998                       3050               \n",
       "6 대전광역시  49                 9606                       4719               "
      ]
     },
     "metadata": {},
     "output_type": "display_data"
    },
    {
     "data": {
      "text/html": [
       "<table class=\"dataframe\">\n",
       "<caption>A data.frame: 6 x 5</caption>\n",
       "<thead>\n",
       "\t<tr><th></th><th scope=col>인증번호</th><th scope=col>소재지</th><th scope=col>품목</th><th scope=col>재배면적...</th><th scope=col>생산계획량.톤.</th></tr>\n",
       "\t<tr><th></th><th scope=col>&lt;int&gt;</th><th scope=col>&lt;chr&gt;</th><th scope=col>&lt;chr&gt;</th><th scope=col>&lt;dbl&gt;</th><th scope=col>&lt;dbl&gt;</th></tr>\n",
       "</thead>\n",
       "<tbody>\n",
       "\t<tr><th scope=row>282749</th><td>1009653</td><td>전라남도 진도군</td><td>배추</td><td> 578.0</td><td> 5.08</td></tr>\n",
       "\t<tr><th scope=row>282750</th><td>1009653</td><td>전라남도 진도군</td><td>배추</td><td> 725.0</td><td> 6.37</td></tr>\n",
       "\t<tr><th scope=row>282751</th><td>1009653</td><td>전라남도 진도군</td><td>배추</td><td>1959.0</td><td>17.22</td></tr>\n",
       "\t<tr><th scope=row>282752</th><td>1009653</td><td>전라남도 진도군</td><td>배추</td><td> 204.0</td><td> 1.79</td></tr>\n",
       "\t<tr><th scope=row>282753</th><td>1009653</td><td>전라남도 진도군</td><td>배추</td><td>2354.0</td><td>20.69</td></tr>\n",
       "\t<tr><th scope=row>282754</th><td>1009653</td><td>전라남도 진도군</td><td>배추</td><td>3127.7</td><td>27.49</td></tr>\n",
       "</tbody>\n",
       "</table>\n"
      ],
      "text/latex": [
       "A data.frame: 6 x 5\n",
       "\\begin{tabular}{r|lllll}\n",
       "  & 인증번호 & 소재지 & 품목 & 재배면적... & 생산계획량.톤.\\\\\n",
       "  & <int> & <chr> & <chr> & <dbl> & <dbl>\\\\\n",
       "\\hline\n",
       "\t282749 & 1009653 & 전라남도 진도군 & 배추 &  578.0 &  5.08\\\\\n",
       "\t282750 & 1009653 & 전라남도 진도군 & 배추 &  725.0 &  6.37\\\\\n",
       "\t282751 & 1009653 & 전라남도 진도군 & 배추 & 1959.0 & 17.22\\\\\n",
       "\t282752 & 1009653 & 전라남도 진도군 & 배추 &  204.0 &  1.79\\\\\n",
       "\t282753 & 1009653 & 전라남도 진도군 & 배추 & 2354.0 & 20.69\\\\\n",
       "\t282754 & 1009653 & 전라남도 진도군 & 배추 & 3127.7 & 27.49\\\\\n",
       "\\end{tabular}\n"
      ],
      "text/markdown": [
       "\n",
       "A data.frame: 6 x 5\n",
       "\n",
       "| <!--/--> | 인증번호 &lt;int&gt; | 소재지 &lt;chr&gt; | 품목 &lt;chr&gt; | 재배면적... &lt;dbl&gt; | 생산계획량.톤. &lt;dbl&gt; |\n",
       "|---|---|---|---|---|---|\n",
       "| 282749 | 1009653 | 전라남도 진도군 | 배추 |  578.0 |  5.08 |\n",
       "| 282750 | 1009653 | 전라남도 진도군 | 배추 |  725.0 |  6.37 |\n",
       "| 282751 | 1009653 | 전라남도 진도군 | 배추 | 1959.0 | 17.22 |\n",
       "| 282752 | 1009653 | 전라남도 진도군 | 배추 |  204.0 |  1.79 |\n",
       "| 282753 | 1009653 | 전라남도 진도군 | 배추 | 2354.0 | 20.69 |\n",
       "| 282754 | 1009653 | 전라남도 진도군 | 배추 | 3127.7 | 27.49 |\n",
       "\n"
      ],
      "text/plain": [
       "       인증번호 소재지          품목 재배면적... 생산계획량.톤.\n",
       "282749 1009653  전라남도 진도군 배추  578.0       5.08         \n",
       "282750 1009653  전라남도 진도군 배추  725.0       6.37         \n",
       "282751 1009653  전라남도 진도군 배추 1959.0      17.22         \n",
       "282752 1009653  전라남도 진도군 배추  204.0       1.79         \n",
       "282753 1009653  전라남도 진도군 배추 2354.0      20.69         \n",
       "282754 1009653  전라남도 진도군 배추 3127.7      27.49         "
      ]
     },
     "metadata": {},
     "output_type": "display_data"
    }
   ],
   "source": [
    "head(시도별배추생산량2024)\n",
    "head(소재지배추재배면적)"
   ]
  },
  {
   "cell_type": "code",
   "execution_count": 328,
   "metadata": {
    "vscode": {
     "languageId": "r"
    }
   },
   "outputs": [],
   "source": [
    "colnames_소재지<-str_split_i(소재지배추재배면적$소재지,\" \",1);\n",
    "#소재지배추재배면적$시도 <- colnames_소재지"
   ]
  },
  {
   "cell_type": "code",
   "execution_count": 329,
   "metadata": {
    "vscode": {
     "languageId": "r"
    }
   },
   "outputs": [],
   "source": [
    "시도별배추생산량2024$시도별 <- c('서울특별시','부산광역시','대구광역시','인천광역시','광주광역시','대전광역시','울산광역시','세종특별자치시','경기도','강원특별자치도','충청북도','충청남도','전북특별자치도','전라남도','경상북도','경상남도','제주도')"
   ]
  },
  {
   "cell_type": "code",
   "execution_count": 330,
   "metadata": {
    "vscode": {
     "languageId": "r"
    }
   },
   "outputs": [
    {
     "data": {
      "text/html": [
       "<table class=\"dataframe\">\n",
       "<caption>A data.frame: 17 x 4</caption>\n",
       "<thead>\n",
       "\t<tr><th scope=col>시도별</th><th scope=col>노지배추.면적..ha.</th><th scope=col>노지배추.10a당.생산량..kg.</th><th scope=col>노지배추.생산량..톤.</th></tr>\n",
       "\t<tr><th scope=col>&lt;chr&gt;</th><th scope=col>&lt;int&gt;</th><th scope=col>&lt;int&gt;</th><th scope=col>&lt;int&gt;</th></tr>\n",
       "</thead>\n",
       "<tbody>\n",
       "\t<tr><td>서울특별시    </td><td>   7</td><td> 7446</td><td>   533</td></tr>\n",
       "\t<tr><td>부산광역시    </td><td>  36</td><td> 5803</td><td>  2099</td></tr>\n",
       "\t<tr><td>대구광역시    </td><td>  59</td><td> 8684</td><td>  5083</td></tr>\n",
       "\t<tr><td>인천광역시    </td><td> 110</td><td>10463</td><td> 11536</td></tr>\n",
       "\t<tr><td>광주광역시    </td><td>  28</td><td>10998</td><td>  3050</td></tr>\n",
       "\t<tr><td>대전광역시    </td><td>  49</td><td> 9606</td><td>  4719</td></tr>\n",
       "\t<tr><td>울산광역시    </td><td>  94</td><td>10248</td><td>  9644</td></tr>\n",
       "\t<tr><td>세종특별자치시</td><td>  48</td><td> 8659</td><td>  4191</td></tr>\n",
       "\t<tr><td>경기도        </td><td> 983</td><td>10309</td><td>101351</td></tr>\n",
       "\t<tr><td>강원특별자치도</td><td>1687</td><td> 8341</td><td>140709</td></tr>\n",
       "\t<tr><td>충청북도      </td><td>2213</td><td> 8253</td><td>182663</td></tr>\n",
       "\t<tr><td>충청남도      </td><td>1072</td><td> 9807</td><td>105095</td></tr>\n",
       "\t<tr><td>전북특별자치도</td><td>1068</td><td>10599</td><td>113229</td></tr>\n",
       "\t<tr><td>전라남도      </td><td>3100</td><td>11600</td><td>359598</td></tr>\n",
       "\t<tr><td>경상북도      </td><td>2144</td><td> 7333</td><td>157197</td></tr>\n",
       "\t<tr><td>경상남도      </td><td> 453</td><td> 9206</td><td> 41711</td></tr>\n",
       "\t<tr><td>제주도        </td><td>   0</td><td>    0</td><td>     0</td></tr>\n",
       "</tbody>\n",
       "</table>\n"
      ],
      "text/latex": [
       "A data.frame: 17 x 4\n",
       "\\begin{tabular}{llll}\n",
       " 시도별 & 노지배추.면적..ha. & 노지배추.10a당.생산량..kg. & 노지배추.생산량..톤.\\\\\n",
       " <chr> & <int> & <int> & <int>\\\\\n",
       "\\hline\n",
       "\t 서울특별시     &    7 &  7446 &    533\\\\\n",
       "\t 부산광역시     &   36 &  5803 &   2099\\\\\n",
       "\t 대구광역시     &   59 &  8684 &   5083\\\\\n",
       "\t 인천광역시     &  110 & 10463 &  11536\\\\\n",
       "\t 광주광역시     &   28 & 10998 &   3050\\\\\n",
       "\t 대전광역시     &   49 &  9606 &   4719\\\\\n",
       "\t 울산광역시     &   94 & 10248 &   9644\\\\\n",
       "\t 세종특별자치시 &   48 &  8659 &   4191\\\\\n",
       "\t 경기도         &  983 & 10309 & 101351\\\\\n",
       "\t 강원특별자치도 & 1687 &  8341 & 140709\\\\\n",
       "\t 충청북도       & 2213 &  8253 & 182663\\\\\n",
       "\t 충청남도       & 1072 &  9807 & 105095\\\\\n",
       "\t 전북특별자치도 & 1068 & 10599 & 113229\\\\\n",
       "\t 전라남도       & 3100 & 11600 & 359598\\\\\n",
       "\t 경상북도       & 2144 &  7333 & 157197\\\\\n",
       "\t 경상남도       &  453 &  9206 &  41711\\\\\n",
       "\t 제주도         &    0 &     0 &      0\\\\\n",
       "\\end{tabular}\n"
      ],
      "text/markdown": [
       "\n",
       "A data.frame: 17 x 4\n",
       "\n",
       "| 시도별 &lt;chr&gt; | 노지배추.면적..ha. &lt;int&gt; | 노지배추.10a당.생산량..kg. &lt;int&gt; | 노지배추.생산량..톤. &lt;int&gt; |\n",
       "|---|---|---|---|\n",
       "| 서울특별시     |    7 |  7446 |    533 |\n",
       "| 부산광역시     |   36 |  5803 |   2099 |\n",
       "| 대구광역시     |   59 |  8684 |   5083 |\n",
       "| 인천광역시     |  110 | 10463 |  11536 |\n",
       "| 광주광역시     |   28 | 10998 |   3050 |\n",
       "| 대전광역시     |   49 |  9606 |   4719 |\n",
       "| 울산광역시     |   94 | 10248 |   9644 |\n",
       "| 세종특별자치시 |   48 |  8659 |   4191 |\n",
       "| 경기도         |  983 | 10309 | 101351 |\n",
       "| 강원특별자치도 | 1687 |  8341 | 140709 |\n",
       "| 충청북도       | 2213 |  8253 | 182663 |\n",
       "| 충청남도       | 1072 |  9807 | 105095 |\n",
       "| 전북특별자치도 | 1068 | 10599 | 113229 |\n",
       "| 전라남도       | 3100 | 11600 | 359598 |\n",
       "| 경상북도       | 2144 |  7333 | 157197 |\n",
       "| 경상남도       |  453 |  9206 |  41711 |\n",
       "| 제주도         |    0 |     0 |      0 |\n",
       "\n"
      ],
      "text/plain": [
       "   시도별         노지배추.면적..ha. 노지배추.10a당.생산량..kg.\n",
       "1  서울특별시        7                7446                     \n",
       "2  부산광역시       36                5803                     \n",
       "3  대구광역시       59                8684                     \n",
       "4  인천광역시      110               10463                     \n",
       "5  광주광역시       28               10998                     \n",
       "6  대전광역시       49                9606                     \n",
       "7  울산광역시       94               10248                     \n",
       "8  세종특별자치시   48                8659                     \n",
       "9  경기도          983               10309                     \n",
       "10 강원특별자치도 1687                8341                     \n",
       "11 충청북도       2213                8253                     \n",
       "12 충청남도       1072                9807                     \n",
       "13 전북특별자치도 1068               10599                     \n",
       "14 전라남도       3100               11600                     \n",
       "15 경상북도       2144                7333                     \n",
       "16 경상남도        453                9206                     \n",
       "17 제주도            0                   0                     \n",
       "   노지배추.생산량..톤.\n",
       "1     533              \n",
       "2    2099              \n",
       "3    5083              \n",
       "4   11536              \n",
       "5    3050              \n",
       "6    4719              \n",
       "7    9644              \n",
       "8    4191              \n",
       "9  101351              \n",
       "10 140709              \n",
       "11 182663              \n",
       "12 105095              \n",
       "13 113229              \n",
       "14 359598              \n",
       "15 157197              \n",
       "16  41711              \n",
       "17      0              "
      ]
     },
     "metadata": {},
     "output_type": "display_data"
    }
   ],
   "source": [
    "시도별배추생산량2024"
   ]
  },
  {
   "cell_type": "code",
   "execution_count": 331,
   "metadata": {
    "vscode": {
     "languageId": "r"
    }
   },
   "outputs": [],
   "source": [
    "소재지배추재배면적$시도별 <- str_split_i(소재지배추재배면적$소재지, \" \", 1)"
   ]
  },
  {
   "cell_type": "code",
   "execution_count": 332,
   "metadata": {
    "vscode": {
     "languageId": "r"
    }
   },
   "outputs": [],
   "source": [
    "for( i in 1:nrow(소재지배추재배면적)){\n",
    "    for( j in 1:nrow(시도별배추생산량2024)){\n",
    "        if(소재지배추재배면적$시도별[i] == 시도별배추생산량2024$시도별[j]){\n",
    "            \n",
    "            소재지배추재배면적$시도전체면적[i]  <- 시도별배추생산량2024[,2][j]\n",
    "            소재지배추재배면적$시도전채생산량[i]  <- 시도별배추생산량2024[,4][j]\n",
    "        }\n",
    "    }\n",
    "}"
   ]
  },
  {
   "cell_type": "code",
   "execution_count": 333,
   "metadata": {
    "vscode": {
     "languageId": "r"
    }
   },
   "outputs": [
    {
     "name": "stdout",
     "output_type": "stream",
     "text": [
      "'data.frame':\t2522 obs. of  8 variables:\n",
      " $ 인증번호      : int  1009653 1009653 1009653 1009653 1009653 1009653 1009653 1009653 1009653 1009653 ...\n",
      " $ 소재지        : chr  \"전라남도 진도군\" \"전라남도 진도군\" \"전라남도 진도군\" \"전라남도 진도군\" ...\n",
      " $ 품목          : chr  \"배추\" \"배추\" \"배추\" \"배추\" ...\n",
      " $ 재배면적...   : num  578 725 1959 204 2354 ...\n",
      " $ 생산계획량.톤.: num  5.08 6.37 17.22 1.79 20.69 ...\n",
      " $ 시도별        : chr  \"전라남도\" \"전라남도\" \"전라남도\" \"전라남도\" ...\n",
      " $ 시도전체면적  : int  3100 3100 3100 3100 3100 3100 3100 3100 3100 3100 ...\n",
      " $ 시도전채생산량: int  359598 359598 359598 359598 359598 359598 359598 359598 359598 359598 ...\n"
     ]
    }
   ],
   "source": [
    "str(소재지배추재배면적)"
   ]
  },
  {
   "cell_type": "code",
   "execution_count": 334,
   "metadata": {
    "vscode": {
     "languageId": "r"
    }
   },
   "outputs": [],
   "source": [
    "소재지배추재배면적$소재지생산량 <- (소재지배추재배면적$재배면적...)/ ((소재지배추재배면적$시도전체면적*10000)) * (소재지배추재배면적$시도전채생산량)\n",
    "\n",
    "# 인증번호\t소재지\t품목\t재배면적...(m^2)\t생산계획량.톤.\t시도별\t시도전체면적(ha)\t시도전채생산량(톤)\t소재지생산량(톤)\n",
    "colnames(소재지배추재배면적) <- c('인증번호','소재지','품목','재배면적(m^2)','생산계획량(톤)','시도별','시도전체면적(ha)','시도전채생산량(톤)','소재지생산량(톤)')\n",
    "\n",
    "# 행 이름 정리\n",
    "rownames(소재지배추재배면적) <- c()"
   ]
  },
  {
   "cell_type": "code",
   "execution_count": 335,
   "metadata": {
    "vscode": {
     "languageId": "r"
    }
   },
   "outputs": [
    {
     "data": {
      "text/html": [
       "<style>\n",
       ".list-inline {list-style: none; margin:0; padding: 0}\n",
       ".list-inline>li {display: inline-block}\n",
       ".list-inline>li:not(:last-child)::after {content: \"\\00b7\"; padding: 0 .5ex}\n",
       "</style>\n",
       "<ol class=list-inline><li>'전라남도 진도군'</li><li>'경기도 용인시 처인구'</li><li>'전라남도 해남군'</li><li>'경상북도 영양군'</li><li>'충청북도 제천시'</li><li>'전라남도 나주시'</li><li>'충청북도 충주시'</li><li>'전북특별자치도 익산시'</li><li>'경상북도 영덕군'</li><li>'충청남도 부여군'</li><li>'경기도 고양시 일산서구'</li><li>'충청북도 진천군'</li><li>'경상북도 경주시'</li><li>'강원특별자치도 영월군'</li><li>'경상북도 포항시 북구'</li><li>'경기도 광명시'</li><li>'전라남도 곡성군'</li><li>'전라남도 강진군'</li><li>'강원특별자치도 평창군'</li><li>'전북특별자치도 김제시'</li><li>'전라남도 구례군'</li><li>'경기도 안산시 상록구'</li><li>'경기도 부천시'</li><li>'대전광역시 유성구'</li></ol>\n"
      ],
      "text/latex": [
       "\\begin{enumerate*}\n",
       "\\item '전라남도 진도군'\n",
       "\\item '경기도 용인시 처인구'\n",
       "\\item '전라남도 해남군'\n",
       "\\item '경상북도 영양군'\n",
       "\\item '충청북도 제천시'\n",
       "\\item '전라남도 나주시'\n",
       "\\item '충청북도 충주시'\n",
       "\\item '전북특별자치도 익산시'\n",
       "\\item '경상북도 영덕군'\n",
       "\\item '충청남도 부여군'\n",
       "\\item '경기도 고양시 일산서구'\n",
       "\\item '충청북도 진천군'\n",
       "\\item '경상북도 경주시'\n",
       "\\item '강원특별자치도 영월군'\n",
       "\\item '경상북도 포항시 북구'\n",
       "\\item '경기도 광명시'\n",
       "\\item '전라남도 곡성군'\n",
       "\\item '전라남도 강진군'\n",
       "\\item '강원특별자치도 평창군'\n",
       "\\item '전북특별자치도 김제시'\n",
       "\\item '전라남도 구례군'\n",
       "\\item '경기도 안산시 상록구'\n",
       "\\item '경기도 부천시'\n",
       "\\item '대전광역시 유성구'\n",
       "\\end{enumerate*}\n"
      ],
      "text/markdown": [
       "1. '전라남도 진도군'\n",
       "2. '경기도 용인시 처인구'\n",
       "3. '전라남도 해남군'\n",
       "4. '경상북도 영양군'\n",
       "5. '충청북도 제천시'\n",
       "6. '전라남도 나주시'\n",
       "7. '충청북도 충주시'\n",
       "8. '전북특별자치도 익산시'\n",
       "9. '경상북도 영덕군'\n",
       "10. '충청남도 부여군'\n",
       "11. '경기도 고양시 일산서구'\n",
       "12. '충청북도 진천군'\n",
       "13. '경상북도 경주시'\n",
       "14. '강원특별자치도 영월군'\n",
       "15. '경상북도 포항시 북구'\n",
       "16. '경기도 광명시'\n",
       "17. '전라남도 곡성군'\n",
       "18. '전라남도 강진군'\n",
       "19. '강원특별자치도 평창군'\n",
       "20. '전북특별자치도 김제시'\n",
       "21. '전라남도 구례군'\n",
       "22. '경기도 안산시 상록구'\n",
       "23. '경기도 부천시'\n",
       "24. '대전광역시 유성구'\n",
       "\n",
       "\n"
      ],
      "text/plain": [
       " [1] \"전라남도 진도군\"        \"경기도 용인시 처인구\"   \"전라남도 해남군\"       \n",
       " [4] \"경상북도 영양군\"        \"충청북도 제천시\"        \"전라남도 나주시\"       \n",
       " [7] \"충청북도 충주시\"        \"전북특별자치도 익산시\"  \"경상북도 영덕군\"       \n",
       "[10] \"충청남도 부여군\"        \"경기도 고양시 일산서구\" \"충청북도 진천군\"       \n",
       "[13] \"경상북도 경주시\"        \"강원특별자치도 영월군\"  \"경상북도 포항시 북구\"  \n",
       "[16] \"경기도 광명시\"          \"전라남도 곡성군\"        \"전라남도 강진군\"       \n",
       "[19] \"강원특별자치도 평창군\"  \"전북특별자치도 김제시\"  \"전라남도 구례군\"       \n",
       "[22] \"경기도 안산시 상록구\"   \"경기도 부천시\"          \"대전광역시 유성구\"     "
      ]
     },
     "metadata": {},
     "output_type": "display_data"
    }
   ],
   "source": [
    "unique(소재지배추재배면적$소재지)"
   ]
  },
  {
   "cell_type": "code",
   "execution_count": 336,
   "metadata": {
    "vscode": {
     "languageId": "r"
    }
   },
   "outputs": [],
   "source": [
    "소재지배추재배면적$위도 <- c(0)\n",
    "소재지배추재배면적$경도 <- c(0)\n",
    "\n",
    "inputlocalLatLng <- function(주소, 위도값, 경도값) {\n",
    "\n",
    "    소재지배추재배면적$위도 <- ifelse(소재지배추재배면적$소재지 == 주소, 위도값, 소재지배추재배면적$위도)\n",
    "    소재지배추재배면적$경도 <- ifelse(소재지배추재배면적$소재지 == 주소, 경도값, 소재지배추재배면적$경도)\n",
    "\n",
    "    return(소재지배추재배면적)\n",
    "}"
   ]
  },
  {
   "cell_type": "code",
   "execution_count": 337,
   "metadata": {
    "vscode": {
     "languageId": "r"
    }
   },
   "outputs": [
    {
     "data": {
      "text/html": [
       "0"
      ],
      "text/latex": [
       "0"
      ],
      "text/markdown": [
       "0"
      ],
      "text/plain": [
       "[1] 0"
      ]
     },
     "metadata": {},
     "output_type": "display_data"
    }
   ],
   "source": [
    "unique(소재지배추재배면적$경도)"
   ]
  },
  {
   "cell_type": "code",
   "execution_count": 338,
   "metadata": {
    "vscode": {
     "languageId": "r"
    }
   },
   "outputs": [],
   "source": [
    "## 소재지별 경도 위도 입력\n",
    "소재지배추재배면적 <- inputlocalLatLng('충청남도 부여군', 36.2757637166445, 126.909772812745)\n",
    "소재지배추재배면적 <- inputlocalLatLng('경기도 고양시 일산서구',37.6751982696279,126.750669084916)\n",
    "소재지배추재배면적 <- inputlocalLatLng('강원특별자치도 영월군',37.1836860419285,128.461783934728)\n",
    "소재지배추재배면적 <- inputlocalLatLng('경상북도 포항시 북구',36.0437417308541,129.368575852182)\n",
    "소재지배추재배면적 <- inputlocalLatLng('경기도 광명시',37.4785674780314,126.864647815161)\n",
    "소재지배추재배면적 <- inputlocalLatLng('전라남도 곡성군',35.2820258392354,127.291929639637)\n",
    "소재지배추재배면적 <- inputlocalLatLng('전라남도 강진군',34.6420615268858,126.767213471898)\n",
    "소재지배추재배면적 <- inputlocalLatLng('강원특별자치도 평창군',37.3707820404543,128.39016179013)\n",
    "소재지배추재배면적 <- inputlocalLatLng('전북특별자치도 김제시',35.8035816671869,126.88064623757)\n",
    "소재지배추재배면적 <- inputlocalLatLng('전라남도 구례군',35.202496361707,127.46270363657)\n",
    "소재지배추재배면적 <- inputlocalLatLng('경기도 안산시 상록구',37.3009718344206,126.846482563885)\n",
    "소재지배추재배면적 <- inputlocalLatLng('경기도 부천시',37.5035117792843,126.766038450927)\n",
    "소재지배추재배면적 <- inputlocalLatLng('대전광역시 유성구',36.3622851114392,127.356257593324)\n",
    "소재지배추재배면적 <- inputlocalLatLng('충청북도 충주시',36.9910490160221,127.925961035784)\n",
    "소재지배추재배면적 <- inputlocalLatLng('충청북도 진천군',36.855378991826,127.435536085976)\n",
    "소재지배추재배면적 <- inputlocalLatLng('경상북도 경주시',35.8562184605051,129.22478171309)\n",
    "소재지배추재배면적 <- inputlocalLatLng('전라남도 진도군',34.486828620348,126.263446186439)\n",
    "소재지배추재배면적 <- inputlocalLatLng('경기도 용인시 처인구', 37.2343060386837,127.201357139725)\n",
    "소재지배추재배면적 <- inputlocalLatLng('전라남도 해남군', 34.5735165884839,126.599270065365)\n",
    "소재지배추재배면적 <- inputlocalLatLng('경상북도 영양군', 36.6667028574142,129.112510246081)\n",
    "소재지배추재배면적 <- inputlocalLatLng('충청북도 제천시', 37.1326577745507,128.19098500203)\n",
    "소재지배추재배면적 <- inputlocalLatLng('전라남도 나주시', 35.0158976865702,126.71082925505)\n",
    "소재지배추재배면적 <- inputlocalLatLng('전북특별자치도 익산시', 35.9482628600199,126.957744486694)\n",
    "소재지배추재배면적 <- inputlocalLatLng('경상북도 영덕군',36.4150618798074,129.365306771359)\n"
   ]
  },
  {
   "cell_type": "code",
   "execution_count": 339,
   "metadata": {
    "vscode": {
     "languageId": "r"
    }
   },
   "outputs": [
    {
     "data": {
      "text/html": [
       "<style>\n",
       ".list-inline {list-style: none; margin:0; padding: 0}\n",
       ".list-inline>li {display: inline-block}\n",
       ".list-inline>li:not(:last-child)::after {content: \"\\00b7\"; padding: 0 .5ex}\n",
       "</style>\n",
       "<ol class=list-inline><li>126.263446186439</li><li>127.201357139725</li><li>126.599270065365</li><li>129.112510246081</li><li>128.19098500203</li><li>126.71082925505</li><li>127.925961035784</li><li>126.957744486694</li><li>129.365306771359</li><li>126.909772812745</li><li>126.750669084916</li><li>127.435536085976</li><li>129.22478171309</li><li>128.461783934728</li><li>129.368575852182</li><li>126.864647815161</li><li>127.291929639637</li><li>126.767213471898</li><li>128.39016179013</li><li>126.88064623757</li><li>127.46270363657</li><li>126.846482563885</li><li>126.766038450927</li><li>127.356257593324</li></ol>\n"
      ],
      "text/latex": [
       "\\begin{enumerate*}\n",
       "\\item 126.263446186439\n",
       "\\item 127.201357139725\n",
       "\\item 126.599270065365\n",
       "\\item 129.112510246081\n",
       "\\item 128.19098500203\n",
       "\\item 126.71082925505\n",
       "\\item 127.925961035784\n",
       "\\item 126.957744486694\n",
       "\\item 129.365306771359\n",
       "\\item 126.909772812745\n",
       "\\item 126.750669084916\n",
       "\\item 127.435536085976\n",
       "\\item 129.22478171309\n",
       "\\item 128.461783934728\n",
       "\\item 129.368575852182\n",
       "\\item 126.864647815161\n",
       "\\item 127.291929639637\n",
       "\\item 126.767213471898\n",
       "\\item 128.39016179013\n",
       "\\item 126.88064623757\n",
       "\\item 127.46270363657\n",
       "\\item 126.846482563885\n",
       "\\item 126.766038450927\n",
       "\\item 127.356257593324\n",
       "\\end{enumerate*}\n"
      ],
      "text/markdown": [
       "1. 126.263446186439\n",
       "2. 127.201357139725\n",
       "3. 126.599270065365\n",
       "4. 129.112510246081\n",
       "5. 128.19098500203\n",
       "6. 126.71082925505\n",
       "7. 127.925961035784\n",
       "8. 126.957744486694\n",
       "9. 129.365306771359\n",
       "10. 126.909772812745\n",
       "11. 126.750669084916\n",
       "12. 127.435536085976\n",
       "13. 129.22478171309\n",
       "14. 128.461783934728\n",
       "15. 129.368575852182\n",
       "16. 126.864647815161\n",
       "17. 127.291929639637\n",
       "18. 126.767213471898\n",
       "19. 128.39016179013\n",
       "20. 126.88064623757\n",
       "21. 127.46270363657\n",
       "22. 126.846482563885\n",
       "23. 126.766038450927\n",
       "24. 127.356257593324\n",
       "\n",
       "\n"
      ],
      "text/plain": [
       " [1] 126.2634 127.2014 126.5993 129.1125 128.1910 126.7108 127.9260 126.9577\n",
       " [9] 129.3653 126.9098 126.7507 127.4355 129.2248 128.4618 129.3686 126.8646\n",
       "[17] 127.2919 126.7672 128.3902 126.8806 127.4627 126.8465 126.7660 127.3563"
      ]
     },
     "metadata": {},
     "output_type": "display_data"
    }
   ],
   "source": [
    "unique(소재지배추재배면적$경도)"
   ]
  },
  {
   "cell_type": "code",
   "execution_count": 340,
   "metadata": {
    "vscode": {
     "languageId": "r"
    }
   },
   "outputs": [
    {
     "ename": "ERROR",
     "evalue": "Error in eval(expr, envir, enclos): 객체 '소재지배추면적'를 찾을 수 없습니다\n",
     "output_type": "error",
     "traceback": [
      "Error in eval(expr, envir, enclos): 객체 '소재지배추면적'를 찾을 수 없습니다\nTraceback:\n"
     ]
    }
   ],
   "source": [
    "tw <- 소재지배추면적[소재지배추재배면적$위도==0]\n",
    "tw"
   ]
  },
  {
   "cell_type": "code",
   "execution_count": null,
   "metadata": {
    "vscode": {
     "languageId": "r"
    }
   },
   "outputs": [
    {
     "name": "stdout",
     "output_type": "stream",
     "text": [
      "'data.frame':\t2522 obs. of  11 variables:\n",
      " $ 인증번호          : int  1009653 1009653 1009653 1009653 1009653 1009653 1009653 1009653 1009653 1009653 ...\n",
      " $ 소재지            : chr  \"전라남도 진도군\" \"전라남도 진도군\" \"전라남도 진도군\" \"전라남도 진도군\" ...\n",
      " $ 품목              : chr  \"배추\" \"배추\" \"배추\" \"배추\" ...\n",
      " $ 재배면적(m^2)     : num  578 725 1959 204 2354 ...\n",
      " $ 생산계획량(톤)    : num  5.08 6.37 17.22 1.79 20.69 ...\n",
      " $ 시도별            : chr  \"전라남도\" \"전라남도\" \"전라남도\" \"전라남도\" ...\n",
      " $ 시도전체면적(ha)  : int  3100 3100 3100 3100 3100 3100 3100 3100 3100 3100 ...\n",
      " $ 시도전채생산량(톤): int  359598 359598 359598 359598 359598 359598 359598 359598 359598 359598 ...\n",
      " $ 소재지생산량(톤)  : num  6.7 8.41 22.72 2.37 27.31 ...\n",
      " $ 위도              : num  34.5 34.5 34.5 34.5 34.5 ...\n",
      " $ 경도              : num  126 126 126 126 126 ...\n"
     ]
    }
   ],
   "source": [
    "str(소재지배추재배면적)"
   ]
  },
  {
   "cell_type": "code",
   "execution_count": null,
   "metadata": {
    "vscode": {
     "languageId": "r"
    }
   },
   "outputs": [
    {
     "data": {
      "text/html": [],
      "text/latex": [],
      "text/markdown": [],
      "text/plain": [
       "character(0)"
      ]
     },
     "metadata": {},
     "output_type": "display_data"
    }
   ],
   "source": [
    "unique(filter(소재지배추재배면적,소재지배추재배면적$위도==0)$소재지)"
   ]
  },
  {
   "cell_type": "code",
   "execution_count": null,
   "metadata": {
    "vscode": {
     "languageId": "r"
    }
   },
   "outputs": [],
   "source": [
    "#rfFunc(소재지배추재배면적[-c(1,2,3,6)],5,100,5)\n",
    "test<-소재지배추재배면적[-c(1,2,3,6)]\n",
    "colnames(test)<-c('재배면적','생산계획량','시도전체면적','시도전채생산량','소재지생산량','위도','경도')\n",
    "test"
   ]
  },
  {
   "cell_type": "code",
   "execution_count": null,
   "metadata": {
    "vscode": {
     "languageId": "r"
    }
   },
   "outputs": [
    {
     "data": {
      "image/png": "[encoded data removed]",
      "text/plain": [
       "plot without title"
      ]
     },
     "metadata": {
      "image/png": {
       "height": 360,
       "width": 480
      }
     },
     "output_type": "display_data"
    }
   ],
   "source": [
    "par(bg = 'white')\n",
    "plot(소재지배추재배면적)"
   ]
  },
  {
   "cell_type": "code",
   "execution_count": null,
   "metadata": {
    "vscode": {
     "languageId": "r"
    }
   },
   "outputs": [],
   "source": [
    "library(ggplot2)"
   ]
  },
  {
   "cell_type": "code",
   "execution_count": null,
   "metadata": {
    "vscode": {
     "languageId": "r"
    }
   },
   "outputs": [
    {
     "data": {
      "text/html": [
       "<table class=\"dataframe\">\n",
       "<caption>A data.frame: 2522 x 8</caption>\n",
       "<thead>\n",
       "\t<tr><th scope=col>소재지</th><th scope=col>재배면적</th><th scope=col>생산계획량</th><th scope=col>시도전체면적</th><th scope=col>시도전채생산량</th><th scope=col>소재지생산량</th><th scope=col>위도</th><th scope=col>경도</th></tr>\n",
       "\t<tr><th scope=col>&lt;chr&gt;</th><th scope=col>&lt;dbl&gt;</th><th scope=col>&lt;dbl&gt;</th><th scope=col>&lt;int&gt;</th><th scope=col>&lt;int&gt;</th><th scope=col>&lt;dbl&gt;</th><th scope=col>&lt;dbl&gt;</th><th scope=col>&lt;dbl&gt;</th></tr>\n",
       "</thead>\n",
       "<tbody>\n",
       "\t<tr><td>전라남도 진도군</td><td> 578.0</td><td> 5.08</td><td>3100</td><td>359598</td><td> 6.7047627</td><td>34.48683</td><td>126.2634</td></tr>\n",
       "\t<tr><td>전라남도 진도군</td><td> 725.0</td><td> 6.37</td><td>3100</td><td>359598</td><td> 8.4099532</td><td>34.48683</td><td>126.2634</td></tr>\n",
       "\t<tr><td>전라남도 진도군</td><td>1959.0</td><td>17.22</td><td>3100</td><td>359598</td><td>22.7242736</td><td>34.48683</td><td>126.2634</td></tr>\n",
       "\t<tr><td>전라남도 진도군</td><td> 204.0</td><td> 1.79</td><td>3100</td><td>359598</td><td> 2.3663868</td><td>34.48683</td><td>126.2634</td></tr>\n",
       "\t<tr><td>전라남도 진도군</td><td>2354.0</td><td>20.69</td><td>3100</td><td>359598</td><td>27.3062481</td><td>34.48683</td><td>126.2634</td></tr>\n",
       "\t<tr><td>전라남도 진도군</td><td>3127.7</td><td>27.49</td><td>3100</td><td>359598</td><td>36.2811182</td><td>34.48683</td><td>126.2634</td></tr>\n",
       "\t<tr><td>전라남도 진도군</td><td>1015.0</td><td> 8.92</td><td>3100</td><td>359598</td><td>11.7739345</td><td>34.48683</td><td>126.2634</td></tr>\n",
       "\t<tr><td>전라남도 진도군</td><td>1470.0</td><td>12.92</td><td>3100</td><td>359598</td><td>17.0519052</td><td>34.48683</td><td>126.2634</td></tr>\n",
       "\t<tr><td>전라남도 진도군</td><td>1530.0</td><td>13.45</td><td>3100</td><td>359598</td><td>17.7479013</td><td>34.48683</td><td>126.2634</td></tr>\n",
       "\t<tr><td>전라남도 진도군</td><td> 820.0</td><td> 7.21</td><td>3100</td><td>359598</td><td> 9.5119471</td><td>34.48683</td><td>126.2634</td></tr>\n",
       "\t<tr><td>전라남도 진도군</td><td>2180.0</td><td>19.16</td><td>3100</td><td>359598</td><td>25.2878594</td><td>34.48683</td><td>126.2634</td></tr>\n",
       "\t<tr><td>전라남도 진도군</td><td>2000.0</td><td>17.58</td><td>3100</td><td>359598</td><td>23.1998710</td><td>34.48683</td><td>126.2634</td></tr>\n",
       "\t<tr><td>전라남도 진도군</td><td>1000.0</td><td> 8.79</td><td>3100</td><td>359598</td><td>11.5999355</td><td>34.48683</td><td>126.2634</td></tr>\n",
       "\t<tr><td>전라남도 진도군</td><td> 800.0</td><td> 7.03</td><td>3100</td><td>359598</td><td> 9.2799484</td><td>34.48683</td><td>126.2634</td></tr>\n",
       "\t<tr><td>전라남도 진도군</td><td>1950.0</td><td>17.14</td><td>3100</td><td>359598</td><td>22.6198742</td><td>34.48683</td><td>126.2634</td></tr>\n",
       "\t<tr><td>전라남도 진도군</td><td>1050.0</td><td> 9.23</td><td>3100</td><td>359598</td><td>12.1799323</td><td>34.48683</td><td>126.2634</td></tr>\n",
       "\t<tr><td>전라남도 진도군</td><td> 959.0</td><td> 8.43</td><td>3100</td><td>359598</td><td>11.1243381</td><td>34.48683</td><td>126.2634</td></tr>\n",
       "\t<tr><td>전라남도 진도군</td><td>1230.0</td><td>10.81</td><td>3100</td><td>359598</td><td>14.2679206</td><td>34.48683</td><td>126.2634</td></tr>\n",
       "\t<tr><td>전라남도 진도군</td><td> 960.0</td><td> 8.44</td><td>3100</td><td>359598</td><td>11.1359381</td><td>34.48683</td><td>126.2634</td></tr>\n",
       "\t<tr><td>전라남도 진도군</td><td>2824.0</td><td>24.82</td><td>3100</td><td>359598</td><td>32.7582178</td><td>34.48683</td><td>126.2634</td></tr>\n",
       "\t<tr><td>전라남도 진도군</td><td> 177.0</td><td> 1.56</td><td>3100</td><td>359598</td><td> 2.0531886</td><td>34.48683</td><td>126.2634</td></tr>\n",
       "\t<tr><td>전라남도 진도군</td><td>3051.0</td><td>26.81</td><td>3100</td><td>359598</td><td>35.3914032</td><td>34.48683</td><td>126.2634</td></tr>\n",
       "\t<tr><td>전라남도 진도군</td><td> 150.0</td><td> 1.32</td><td>3100</td><td>359598</td><td> 1.7399903</td><td>34.48683</td><td>126.2634</td></tr>\n",
       "\t<tr><td>전라남도 진도군</td><td>  61.0</td><td> 0.54</td><td>3100</td><td>359598</td><td> 0.7075961</td><td>34.48683</td><td>126.2634</td></tr>\n",
       "\t<tr><td>전라남도 진도군</td><td> 280.0</td><td> 2.46</td><td>3100</td><td>359598</td><td> 3.2479819</td><td>34.48683</td><td>126.2634</td></tr>\n",
       "\t<tr><td>전라남도 진도군</td><td>1162.2</td><td>10.21</td><td>3100</td><td>359598</td><td>13.4814450</td><td>34.48683</td><td>126.2634</td></tr>\n",
       "\t<tr><td>전라남도 진도군</td><td>1922.0</td><td>16.89</td><td>3100</td><td>359598</td><td>22.2950760</td><td>34.48683</td><td>126.2634</td></tr>\n",
       "\t<tr><td>전라남도 진도군</td><td> 763.0</td><td> 6.71</td><td>3100</td><td>359598</td><td> 8.8507508</td><td>34.48683</td><td>126.2634</td></tr>\n",
       "\t<tr><td>전라남도 진도군</td><td>1352.0</td><td>11.88</td><td>3100</td><td>359598</td><td>15.6831128</td><td>34.48683</td><td>126.2634</td></tr>\n",
       "\t<tr><td>전라남도 진도군</td><td> 981.0</td><td> 8.62</td><td>3100</td><td>359598</td><td>11.3795367</td><td>34.48683</td><td>126.2634</td></tr>\n",
       "\t<tr><td>...</td><td>...</td><td>...</td><td>...</td><td>...</td><td>...</td><td>...</td><td>...</td></tr>\n",
       "\t<tr><td>대전광역시 유성구</td><td> 100</td><td>  0.10</td><td>  49</td><td>  4719</td><td> 0.96306122</td><td>36.36229</td><td>127.3563</td></tr>\n",
       "\t<tr><td>대전광역시 유성구</td><td> 100</td><td>  0.02</td><td>  49</td><td>  4719</td><td> 0.96306122</td><td>36.36229</td><td>127.3563</td></tr>\n",
       "\t<tr><td>대전광역시 유성구</td><td> 100</td><td>  0.10</td><td>  49</td><td>  4719</td><td> 0.96306122</td><td>36.36229</td><td>127.3563</td></tr>\n",
       "\t<tr><td>대전광역시 유성구</td><td>  33</td><td>  0.03</td><td>  49</td><td>  4719</td><td> 0.31781020</td><td>36.36229</td><td>127.3563</td></tr>\n",
       "\t<tr><td>대전광역시 유성구</td><td> 100</td><td>  0.03</td><td>  49</td><td>  4719</td><td> 0.96306122</td><td>36.36229</td><td>127.3563</td></tr>\n",
       "\t<tr><td>대전광역시 유성구</td><td> 100</td><td>  0.10</td><td>  49</td><td>  4719</td><td> 0.96306122</td><td>36.36229</td><td>127.3563</td></tr>\n",
       "\t<tr><td>대전광역시 유성구</td><td>  33</td><td>  0.05</td><td>  49</td><td>  4719</td><td> 0.31781020</td><td>36.36229</td><td>127.3563</td></tr>\n",
       "\t<tr><td>대전광역시 유성구</td><td>  70</td><td>  0.50</td><td>  49</td><td>  4719</td><td> 0.67414286</td><td>36.36229</td><td>127.3563</td></tr>\n",
       "\t<tr><td>대전광역시 유성구</td><td>  70</td><td>  0.50</td><td>  49</td><td>  4719</td><td> 0.67414286</td><td>36.36229</td><td>127.3563</td></tr>\n",
       "\t<tr><td>대전광역시 유성구</td><td>  70</td><td>  0.03</td><td>  49</td><td>  4719</td><td> 0.67414286</td><td>36.36229</td><td>127.3563</td></tr>\n",
       "\t<tr><td>대전광역시 유성구</td><td>  10</td><td>  0.01</td><td>  49</td><td>  4719</td><td> 0.09630612</td><td>36.36229</td><td>127.3563</td></tr>\n",
       "\t<tr><td>대전광역시 유성구</td><td>  10</td><td>  0.01</td><td>  49</td><td>  4719</td><td> 0.09630612</td><td>36.36229</td><td>127.3563</td></tr>\n",
       "\t<tr><td>대전광역시 유성구</td><td>  50</td><td>  0.20</td><td>  49</td><td>  4719</td><td> 0.48153061</td><td>36.36229</td><td>127.3563</td></tr>\n",
       "\t<tr><td>대전광역시 유성구</td><td>  50</td><td>  0.03</td><td>  49</td><td>  4719</td><td> 0.48153061</td><td>36.36229</td><td>127.3563</td></tr>\n",
       "\t<tr><td>대전광역시 유성구</td><td>  50</td><td>  0.05</td><td>  49</td><td>  4719</td><td> 0.48153061</td><td>36.36229</td><td>127.3563</td></tr>\n",
       "\t<tr><td>대전광역시 유성구</td><td>  33</td><td>  0.05</td><td>  49</td><td>  4719</td><td> 0.31781020</td><td>36.36229</td><td>127.3563</td></tr>\n",
       "\t<tr><td>대전광역시 유성구</td><td>  50</td><td>  0.05</td><td>  49</td><td>  4719</td><td> 0.48153061</td><td>36.36229</td><td>127.3563</td></tr>\n",
       "\t<tr><td>대전광역시 유성구</td><td>  50</td><td>  0.05</td><td>  49</td><td>  4719</td><td> 0.48153061</td><td>36.36229</td><td>127.3563</td></tr>\n",
       "\t<tr><td>대전광역시 유성구</td><td> 100</td><td>  0.50</td><td>  49</td><td>  4719</td><td> 0.96306122</td><td>36.36229</td><td>127.3563</td></tr>\n",
       "\t<tr><td>대전광역시 유성구</td><td> 100</td><td>  0.50</td><td>  49</td><td>  4719</td><td> 0.96306122</td><td>36.36229</td><td>127.3563</td></tr>\n",
       "\t<tr><td>대전광역시 유성구</td><td> 100</td><td>  0.50</td><td>  49</td><td>  4719</td><td> 0.96306122</td><td>36.36229</td><td>127.3563</td></tr>\n",
       "\t<tr><td>대전광역시 유성구</td><td>  66</td><td>  0.10</td><td>  49</td><td>  4719</td><td> 0.63562041</td><td>36.36229</td><td>127.3563</td></tr>\n",
       "\t<tr><td>대전광역시 유성구</td><td> 100</td><td>  0.50</td><td>  49</td><td>  4719</td><td> 0.96306122</td><td>36.36229</td><td>127.3563</td></tr>\n",
       "\t<tr><td>대전광역시 유성구</td><td> 100</td><td>  0.50</td><td>  49</td><td>  4719</td><td> 0.96306122</td><td>36.36229</td><td>127.3563</td></tr>\n",
       "\t<tr><td>대전광역시 유성구</td><td>  66</td><td>  0.10</td><td>  49</td><td>  4719</td><td> 0.63562041</td><td>36.36229</td><td>127.3563</td></tr>\n",
       "\t<tr><td>대전광역시 유성구</td><td> 100</td><td>  0.10</td><td>  49</td><td>  4719</td><td> 0.96306122</td><td>36.36229</td><td>127.3563</td></tr>\n",
       "\t<tr><td>대전광역시 유성구</td><td>  33</td><td>  0.03</td><td>  49</td><td>  4719</td><td> 0.31781020</td><td>36.36229</td><td>127.3563</td></tr>\n",
       "\t<tr><td>대전광역시 유성구</td><td> 100</td><td>  0.10</td><td>  49</td><td>  4719</td><td> 0.96306122</td><td>36.36229</td><td>127.3563</td></tr>\n",
       "\t<tr><td>전라남도 해남군  </td><td> 992</td><td>  8.00</td><td>3100</td><td>359598</td><td>11.50713600</td><td>34.57352</td><td>126.5993</td></tr>\n",
       "\t<tr><td>전라남도 해남군  </td><td>4912</td><td>120.00</td><td>3100</td><td>359598</td><td>56.97888310</td><td>34.57352</td><td>126.5993</td></tr>\n",
       "</tbody>\n",
       "</table>\n"
      ],
      "text/latex": [
       "A data.frame: 2522 x 8\n",
       "\\begin{tabular}{llllllll}\n",
       " 소재지 & 재배면적 & 생산계획량 & 시도전체면적 & 시도전채생산량 & 소재지생산량 & 위도 & 경도\\\\\n",
       " <chr> & <dbl> & <dbl> & <int> & <int> & <dbl> & <dbl> & <dbl>\\\\\n",
       "\\hline\n",
       "\t 전라남도 진도군 &  578.0 &  5.08 & 3100 & 359598 &  6.7047627 & 34.48683 & 126.2634\\\\\n",
       "\t 전라남도 진도군 &  725.0 &  6.37 & 3100 & 359598 &  8.4099532 & 34.48683 & 126.2634\\\\\n",
       "\t 전라남도 진도군 & 1959.0 & 17.22 & 3100 & 359598 & 22.7242736 & 34.48683 & 126.2634\\\\\n",
       "\t 전라남도 진도군 &  204.0 &  1.79 & 3100 & 359598 &  2.3663868 & 34.48683 & 126.2634\\\\\n",
       "\t 전라남도 진도군 & 2354.0 & 20.69 & 3100 & 359598 & 27.3062481 & 34.48683 & 126.2634\\\\\n",
       "\t 전라남도 진도군 & 3127.7 & 27.49 & 3100 & 359598 & 36.2811182 & 34.48683 & 126.2634\\\\\n",
       "\t 전라남도 진도군 & 1015.0 &  8.92 & 3100 & 359598 & 11.7739345 & 34.48683 & 126.2634\\\\\n",
       "\t 전라남도 진도군 & 1470.0 & 12.92 & 3100 & 359598 & 17.0519052 & 34.48683 & 126.2634\\\\\n",
       "\t 전라남도 진도군 & 1530.0 & 13.45 & 3100 & 359598 & 17.7479013 & 34.48683 & 126.2634\\\\\n",
       "\t 전라남도 진도군 &  820.0 &  7.21 & 3100 & 359598 &  9.5119471 & 34.48683 & 126.2634\\\\\n",
       "\t 전라남도 진도군 & 2180.0 & 19.16 & 3100 & 359598 & 25.2878594 & 34.48683 & 126.2634\\\\\n",
       "\t 전라남도 진도군 & 2000.0 & 17.58 & 3100 & 359598 & 23.1998710 & 34.48683 & 126.2634\\\\\n",
       "\t 전라남도 진도군 & 1000.0 &  8.79 & 3100 & 359598 & 11.5999355 & 34.48683 & 126.2634\\\\\n",
       "\t 전라남도 진도군 &  800.0 &  7.03 & 3100 & 359598 &  9.2799484 & 34.48683 & 126.2634\\\\\n",
       "\t 전라남도 진도군 & 1950.0 & 17.14 & 3100 & 359598 & 22.6198742 & 34.48683 & 126.2634\\\\\n",
       "\t 전라남도 진도군 & 1050.0 &  9.23 & 3100 & 359598 & 12.1799323 & 34.48683 & 126.2634\\\\\n",
       "\t 전라남도 진도군 &  959.0 &  8.43 & 3100 & 359598 & 11.1243381 & 34.48683 & 126.2634\\\\\n",
       "\t 전라남도 진도군 & 1230.0 & 10.81 & 3100 & 359598 & 14.2679206 & 34.48683 & 126.2634\\\\\n",
       "\t 전라남도 진도군 &  960.0 &  8.44 & 3100 & 359598 & 11.1359381 & 34.48683 & 126.2634\\\\\n",
       "\t 전라남도 진도군 & 2824.0 & 24.82 & 3100 & 359598 & 32.7582178 & 34.48683 & 126.2634\\\\\n",
       "\t 전라남도 진도군 &  177.0 &  1.56 & 3100 & 359598 &  2.0531886 & 34.48683 & 126.2634\\\\\n",
       "\t 전라남도 진도군 & 3051.0 & 26.81 & 3100 & 359598 & 35.3914032 & 34.48683 & 126.2634\\\\\n",
       "\t 전라남도 진도군 &  150.0 &  1.32 & 3100 & 359598 &  1.7399903 & 34.48683 & 126.2634\\\\\n",
       "\t 전라남도 진도군 &   61.0 &  0.54 & 3100 & 359598 &  0.7075961 & 34.48683 & 126.2634\\\\\n",
       "\t 전라남도 진도군 &  280.0 &  2.46 & 3100 & 359598 &  3.2479819 & 34.48683 & 126.2634\\\\\n",
       "\t 전라남도 진도군 & 1162.2 & 10.21 & 3100 & 359598 & 13.4814450 & 34.48683 & 126.2634\\\\\n",
       "\t 전라남도 진도군 & 1922.0 & 16.89 & 3100 & 359598 & 22.2950760 & 34.48683 & 126.2634\\\\\n",
       "\t 전라남도 진도군 &  763.0 &  6.71 & 3100 & 359598 &  8.8507508 & 34.48683 & 126.2634\\\\\n",
       "\t 전라남도 진도군 & 1352.0 & 11.88 & 3100 & 359598 & 15.6831128 & 34.48683 & 126.2634\\\\\n",
       "\t 전라남도 진도군 &  981.0 &  8.62 & 3100 & 359598 & 11.3795367 & 34.48683 & 126.2634\\\\\n",
       "\t ... & ... & ... & ... & ... & ... & ... & ...\\\\\n",
       "\t 대전광역시 유성구 &  100 &   0.10 &   49 &   4719 &  0.96306122 & 36.36229 & 127.3563\\\\\n",
       "\t 대전광역시 유성구 &  100 &   0.02 &   49 &   4719 &  0.96306122 & 36.36229 & 127.3563\\\\\n",
       "\t 대전광역시 유성구 &  100 &   0.10 &   49 &   4719 &  0.96306122 & 36.36229 & 127.3563\\\\\n",
       "\t 대전광역시 유성구 &   33 &   0.03 &   49 &   4719 &  0.31781020 & 36.36229 & 127.3563\\\\\n",
       "\t 대전광역시 유성구 &  100 &   0.03 &   49 &   4719 &  0.96306122 & 36.36229 & 127.3563\\\\\n",
       "\t 대전광역시 유성구 &  100 &   0.10 &   49 &   4719 &  0.96306122 & 36.36229 & 127.3563\\\\\n",
       "\t 대전광역시 유성구 &   33 &   0.05 &   49 &   4719 &  0.31781020 & 36.36229 & 127.3563\\\\\n",
       "\t 대전광역시 유성구 &   70 &   0.50 &   49 &   4719 &  0.67414286 & 36.36229 & 127.3563\\\\\n",
       "\t 대전광역시 유성구 &   70 &   0.50 &   49 &   4719 &  0.67414286 & 36.36229 & 127.3563\\\\\n",
       "\t 대전광역시 유성구 &   70 &   0.03 &   49 &   4719 &  0.67414286 & 36.36229 & 127.3563\\\\\n",
       "\t 대전광역시 유성구 &   10 &   0.01 &   49 &   4719 &  0.09630612 & 36.36229 & 127.3563\\\\\n",
       "\t 대전광역시 유성구 &   10 &   0.01 &   49 &   4719 &  0.09630612 & 36.36229 & 127.3563\\\\\n",
       "\t 대전광역시 유성구 &   50 &   0.20 &   49 &   4719 &  0.48153061 & 36.36229 & 127.3563\\\\\n",
       "\t 대전광역시 유성구 &   50 &   0.03 &   49 &   4719 &  0.48153061 & 36.36229 & 127.3563\\\\\n",
       "\t 대전광역시 유성구 &   50 &   0.05 &   49 &   4719 &  0.48153061 & 36.36229 & 127.3563\\\\\n",
       "\t 대전광역시 유성구 &   33 &   0.05 &   49 &   4719 &  0.31781020 & 36.36229 & 127.3563\\\\\n",
       "\t 대전광역시 유성구 &   50 &   0.05 &   49 &   4719 &  0.48153061 & 36.36229 & 127.3563\\\\\n",
       "\t 대전광역시 유성구 &   50 &   0.05 &   49 &   4719 &  0.48153061 & 36.36229 & 127.3563\\\\\n",
       "\t 대전광역시 유성구 &  100 &   0.50 &   49 &   4719 &  0.96306122 & 36.36229 & 127.3563\\\\\n",
       "\t 대전광역시 유성구 &  100 &   0.50 &   49 &   4719 &  0.96306122 & 36.36229 & 127.3563\\\\\n",
       "\t 대전광역시 유성구 &  100 &   0.50 &   49 &   4719 &  0.96306122 & 36.36229 & 127.3563\\\\\n",
       "\t 대전광역시 유성구 &   66 &   0.10 &   49 &   4719 &  0.63562041 & 36.36229 & 127.3563\\\\\n",
       "\t 대전광역시 유성구 &  100 &   0.50 &   49 &   4719 &  0.96306122 & 36.36229 & 127.3563\\\\\n",
       "\t 대전광역시 유성구 &  100 &   0.50 &   49 &   4719 &  0.96306122 & 36.36229 & 127.3563\\\\\n",
       "\t 대전광역시 유성구 &   66 &   0.10 &   49 &   4719 &  0.63562041 & 36.36229 & 127.3563\\\\\n",
       "\t 대전광역시 유성구 &  100 &   0.10 &   49 &   4719 &  0.96306122 & 36.36229 & 127.3563\\\\\n",
       "\t 대전광역시 유성구 &   33 &   0.03 &   49 &   4719 &  0.31781020 & 36.36229 & 127.3563\\\\\n",
       "\t 대전광역시 유성구 &  100 &   0.10 &   49 &   4719 &  0.96306122 & 36.36229 & 127.3563\\\\\n",
       "\t 전라남도 해남군   &  992 &   8.00 & 3100 & 359598 & 11.50713600 & 34.57352 & 126.5993\\\\\n",
       "\t 전라남도 해남군   & 4912 & 120.00 & 3100 & 359598 & 56.97888310 & 34.57352 & 126.5993\\\\\n",
       "\\end{tabular}\n"
      ],
      "text/markdown": [
       "\n",
       "A data.frame: 2522 x 8\n",
       "\n",
       "| 소재지 &lt;chr&gt; | 재배면적 &lt;dbl&gt; | 생산계획량 &lt;dbl&gt; | 시도전체면적 &lt;int&gt; | 시도전채생산량 &lt;int&gt; | 소재지생산량 &lt;dbl&gt; | 위도 &lt;dbl&gt; | 경도 &lt;dbl&gt; |\n",
       "|---|---|---|---|---|---|---|---|\n",
       "| 전라남도 진도군 |  578.0 |  5.08 | 3100 | 359598 |  6.7047627 | 34.48683 | 126.2634 |\n",
       "| 전라남도 진도군 |  725.0 |  6.37 | 3100 | 359598 |  8.4099532 | 34.48683 | 126.2634 |\n",
       "| 전라남도 진도군 | 1959.0 | 17.22 | 3100 | 359598 | 22.7242736 | 34.48683 | 126.2634 |\n",
       "| 전라남도 진도군 |  204.0 |  1.79 | 3100 | 359598 |  2.3663868 | 34.48683 | 126.2634 |\n",
       "| 전라남도 진도군 | 2354.0 | 20.69 | 3100 | 359598 | 27.3062481 | 34.48683 | 126.2634 |\n",
       "| 전라남도 진도군 | 3127.7 | 27.49 | 3100 | 359598 | 36.2811182 | 34.48683 | 126.2634 |\n",
       "| 전라남도 진도군 | 1015.0 |  8.92 | 3100 | 359598 | 11.7739345 | 34.48683 | 126.2634 |\n",
       "| 전라남도 진도군 | 1470.0 | 12.92 | 3100 | 359598 | 17.0519052 | 34.48683 | 126.2634 |\n",
       "| 전라남도 진도군 | 1530.0 | 13.45 | 3100 | 359598 | 17.7479013 | 34.48683 | 126.2634 |\n",
       "| 전라남도 진도군 |  820.0 |  7.21 | 3100 | 359598 |  9.5119471 | 34.48683 | 126.2634 |\n",
       "| 전라남도 진도군 | 2180.0 | 19.16 | 3100 | 359598 | 25.2878594 | 34.48683 | 126.2634 |\n",
       "| 전라남도 진도군 | 2000.0 | 17.58 | 3100 | 359598 | 23.1998710 | 34.48683 | 126.2634 |\n",
       "| 전라남도 진도군 | 1000.0 |  8.79 | 3100 | 359598 | 11.5999355 | 34.48683 | 126.2634 |\n",
       "| 전라남도 진도군 |  800.0 |  7.03 | 3100 | 359598 |  9.2799484 | 34.48683 | 126.2634 |\n",
       "| 전라남도 진도군 | 1950.0 | 17.14 | 3100 | 359598 | 22.6198742 | 34.48683 | 126.2634 |\n",
       "| 전라남도 진도군 | 1050.0 |  9.23 | 3100 | 359598 | 12.1799323 | 34.48683 | 126.2634 |\n",
       "| 전라남도 진도군 |  959.0 |  8.43 | 3100 | 359598 | 11.1243381 | 34.48683 | 126.2634 |\n",
       "| 전라남도 진도군 | 1230.0 | 10.81 | 3100 | 359598 | 14.2679206 | 34.48683 | 126.2634 |\n",
       "| 전라남도 진도군 |  960.0 |  8.44 | 3100 | 359598 | 11.1359381 | 34.48683 | 126.2634 |\n",
       "| 전라남도 진도군 | 2824.0 | 24.82 | 3100 | 359598 | 32.7582178 | 34.48683 | 126.2634 |\n",
       "| 전라남도 진도군 |  177.0 |  1.56 | 3100 | 359598 |  2.0531886 | 34.48683 | 126.2634 |\n",
       "| 전라남도 진도군 | 3051.0 | 26.81 | 3100 | 359598 | 35.3914032 | 34.48683 | 126.2634 |\n",
       "| 전라남도 진도군 |  150.0 |  1.32 | 3100 | 359598 |  1.7399903 | 34.48683 | 126.2634 |\n",
       "| 전라남도 진도군 |   61.0 |  0.54 | 3100 | 359598 |  0.7075961 | 34.48683 | 126.2634 |\n",
       "| 전라남도 진도군 |  280.0 |  2.46 | 3100 | 359598 |  3.2479819 | 34.48683 | 126.2634 |\n",
       "| 전라남도 진도군 | 1162.2 | 10.21 | 3100 | 359598 | 13.4814450 | 34.48683 | 126.2634 |\n",
       "| 전라남도 진도군 | 1922.0 | 16.89 | 3100 | 359598 | 22.2950760 | 34.48683 | 126.2634 |\n",
       "| 전라남도 진도군 |  763.0 |  6.71 | 3100 | 359598 |  8.8507508 | 34.48683 | 126.2634 |\n",
       "| 전라남도 진도군 | 1352.0 | 11.88 | 3100 | 359598 | 15.6831128 | 34.48683 | 126.2634 |\n",
       "| 전라남도 진도군 |  981.0 |  8.62 | 3100 | 359598 | 11.3795367 | 34.48683 | 126.2634 |\n",
       "| ... | ... | ... | ... | ... | ... | ... | ... |\n",
       "| 대전광역시 유성구 |  100 |   0.10 |   49 |   4719 |  0.96306122 | 36.36229 | 127.3563 |\n",
       "| 대전광역시 유성구 |  100 |   0.02 |   49 |   4719 |  0.96306122 | 36.36229 | 127.3563 |\n",
       "| 대전광역시 유성구 |  100 |   0.10 |   49 |   4719 |  0.96306122 | 36.36229 | 127.3563 |\n",
       "| 대전광역시 유성구 |   33 |   0.03 |   49 |   4719 |  0.31781020 | 36.36229 | 127.3563 |\n",
       "| 대전광역시 유성구 |  100 |   0.03 |   49 |   4719 |  0.96306122 | 36.36229 | 127.3563 |\n",
       "| 대전광역시 유성구 |  100 |   0.10 |   49 |   4719 |  0.96306122 | 36.36229 | 127.3563 |\n",
       "| 대전광역시 유성구 |   33 |   0.05 |   49 |   4719 |  0.31781020 | 36.36229 | 127.3563 |\n",
       "| 대전광역시 유성구 |   70 |   0.50 |   49 |   4719 |  0.67414286 | 36.36229 | 127.3563 |\n",
       "| 대전광역시 유성구 |   70 |   0.50 |   49 |   4719 |  0.67414286 | 36.36229 | 127.3563 |\n",
       "| 대전광역시 유성구 |   70 |   0.03 |   49 |   4719 |  0.67414286 | 36.36229 | 127.3563 |\n",
       "| 대전광역시 유성구 |   10 |   0.01 |   49 |   4719 |  0.09630612 | 36.36229 | 127.3563 |\n",
       "| 대전광역시 유성구 |   10 |   0.01 |   49 |   4719 |  0.09630612 | 36.36229 | 127.3563 |\n",
       "| 대전광역시 유성구 |   50 |   0.20 |   49 |   4719 |  0.48153061 | 36.36229 | 127.3563 |\n",
       "| 대전광역시 유성구 |   50 |   0.03 |   49 |   4719 |  0.48153061 | 36.36229 | 127.3563 |\n",
       "| 대전광역시 유성구 |   50 |   0.05 |   49 |   4719 |  0.48153061 | 36.36229 | 127.3563 |\n",
       "| 대전광역시 유성구 |   33 |   0.05 |   49 |   4719 |  0.31781020 | 36.36229 | 127.3563 |\n",
       "| 대전광역시 유성구 |   50 |   0.05 |   49 |   4719 |  0.48153061 | 36.36229 | 127.3563 |\n",
       "| 대전광역시 유성구 |   50 |   0.05 |   49 |   4719 |  0.48153061 | 36.36229 | 127.3563 |\n",
       "| 대전광역시 유성구 |  100 |   0.50 |   49 |   4719 |  0.96306122 | 36.36229 | 127.3563 |\n",
       "| 대전광역시 유성구 |  100 |   0.50 |   49 |   4719 |  0.96306122 | 36.36229 | 127.3563 |\n",
       "| 대전광역시 유성구 |  100 |   0.50 |   49 |   4719 |  0.96306122 | 36.36229 | 127.3563 |\n",
       "| 대전광역시 유성구 |   66 |   0.10 |   49 |   4719 |  0.63562041 | 36.36229 | 127.3563 |\n",
       "| 대전광역시 유성구 |  100 |   0.50 |   49 |   4719 |  0.96306122 | 36.36229 | 127.3563 |\n",
       "| 대전광역시 유성구 |  100 |   0.50 |   49 |   4719 |  0.96306122 | 36.36229 | 127.3563 |\n",
       "| 대전광역시 유성구 |   66 |   0.10 |   49 |   4719 |  0.63562041 | 36.36229 | 127.3563 |\n",
       "| 대전광역시 유성구 |  100 |   0.10 |   49 |   4719 |  0.96306122 | 36.36229 | 127.3563 |\n",
       "| 대전광역시 유성구 |   33 |   0.03 |   49 |   4719 |  0.31781020 | 36.36229 | 127.3563 |\n",
       "| 대전광역시 유성구 |  100 |   0.10 |   49 |   4719 |  0.96306122 | 36.36229 | 127.3563 |\n",
       "| 전라남도 해남군   |  992 |   8.00 | 3100 | 359598 | 11.50713600 | 34.57352 | 126.5993 |\n",
       "| 전라남도 해남군   | 4912 | 120.00 | 3100 | 359598 | 56.97888310 | 34.57352 | 126.5993 |\n",
       "\n"
      ],
      "text/plain": [
       "     소재지            재배면적 생산계획량 시도전체면적 시도전채생산량\n",
       "1    전라남도 진도군    578.0    5.08      3100         359598        \n",
       "2    전라남도 진도군    725.0    6.37      3100         359598        \n",
       "3    전라남도 진도군   1959.0   17.22      3100         359598        \n",
       "4    전라남도 진도군    204.0    1.79      3100         359598        \n",
       "5    전라남도 진도군   2354.0   20.69      3100         359598        \n",
       "6    전라남도 진도군   3127.7   27.49      3100         359598        \n",
       "7    전라남도 진도군   1015.0    8.92      3100         359598        \n",
       "8    전라남도 진도군   1470.0   12.92      3100         359598        \n",
       "9    전라남도 진도군   1530.0   13.45      3100         359598        \n",
       "10   전라남도 진도군    820.0    7.21      3100         359598        \n",
       "11   전라남도 진도군   2180.0   19.16      3100         359598        \n",
       "12   전라남도 진도군   2000.0   17.58      3100         359598        \n",
       "13   전라남도 진도군   1000.0    8.79      3100         359598        \n",
       "14   전라남도 진도군    800.0    7.03      3100         359598        \n",
       "15   전라남도 진도군   1950.0   17.14      3100         359598        \n",
       "16   전라남도 진도군   1050.0    9.23      3100         359598        \n",
       "17   전라남도 진도군    959.0    8.43      3100         359598        \n",
       "18   전라남도 진도군   1230.0   10.81      3100         359598        \n",
       "19   전라남도 진도군    960.0    8.44      3100         359598        \n",
       "20   전라남도 진도군   2824.0   24.82      3100         359598        \n",
       "21   전라남도 진도군    177.0    1.56      3100         359598        \n",
       "22   전라남도 진도군   3051.0   26.81      3100         359598        \n",
       "23   전라남도 진도군    150.0    1.32      3100         359598        \n",
       "24   전라남도 진도군     61.0    0.54      3100         359598        \n",
       "25   전라남도 진도군    280.0    2.46      3100         359598        \n",
       "26   전라남도 진도군   1162.2   10.21      3100         359598        \n",
       "27   전라남도 진도군   1922.0   16.89      3100         359598        \n",
       "28   전라남도 진도군    763.0    6.71      3100         359598        \n",
       "29   전라남도 진도군   1352.0   11.88      3100         359598        \n",
       "30   전라남도 진도군    981.0    8.62      3100         359598        \n",
       "...  ...               ...      ...        ...          ...           \n",
       "2493 대전광역시 유성구  100       0.10       49           4719        \n",
       "2494 대전광역시 유성구  100       0.02       49           4719        \n",
       "2495 대전광역시 유성구  100       0.10       49           4719        \n",
       "2496 대전광역시 유성구   33       0.03       49           4719        \n",
       "2497 대전광역시 유성구  100       0.03       49           4719        \n",
       "2498 대전광역시 유성구  100       0.10       49           4719        \n",
       "2499 대전광역시 유성구   33       0.05       49           4719        \n",
       "2500 대전광역시 유성구   70       0.50       49           4719        \n",
       "2501 대전광역시 유성구   70       0.50       49           4719        \n",
       "2502 대전광역시 유성구   70       0.03       49           4719        \n",
       "2503 대전광역시 유성구   10       0.01       49           4719        \n",
       "2504 대전광역시 유성구   10       0.01       49           4719        \n",
       "2505 대전광역시 유성구   50       0.20       49           4719        \n",
       "2506 대전광역시 유성구   50       0.03       49           4719        \n",
       "2507 대전광역시 유성구   50       0.05       49           4719        \n",
       "2508 대전광역시 유성구   33       0.05       49           4719        \n",
       "2509 대전광역시 유성구   50       0.05       49           4719        \n",
       "2510 대전광역시 유성구   50       0.05       49           4719        \n",
       "2511 대전광역시 유성구  100       0.50       49           4719        \n",
       "2512 대전광역시 유성구  100       0.50       49           4719        \n",
       "2513 대전광역시 유성구  100       0.50       49           4719        \n",
       "2514 대전광역시 유성구   66       0.10       49           4719        \n",
       "2515 대전광역시 유성구  100       0.50       49           4719        \n",
       "2516 대전광역시 유성구  100       0.50       49           4719        \n",
       "2517 대전광역시 유성구   66       0.10       49           4719        \n",
       "2518 대전광역시 유성구  100       0.10       49           4719        \n",
       "2519 대전광역시 유성구   33       0.03       49           4719        \n",
       "2520 대전광역시 유성구  100       0.10       49           4719        \n",
       "2521 전라남도 해남군    992       8.00     3100         359598        \n",
       "2522 전라남도 해남군   4912     120.00     3100         359598        \n",
       "     소재지생산량 위도     경도    \n",
       "1     6.7047627   34.48683 126.2634\n",
       "2     8.4099532   34.48683 126.2634\n",
       "3    22.7242736   34.48683 126.2634\n",
       "4     2.3663868   34.48683 126.2634\n",
       "5    27.3062481   34.48683 126.2634\n",
       "6    36.2811182   34.48683 126.2634\n",
       "7    11.7739345   34.48683 126.2634\n",
       "8    17.0519052   34.48683 126.2634\n",
       "9    17.7479013   34.48683 126.2634\n",
       "10    9.5119471   34.48683 126.2634\n",
       "11   25.2878594   34.48683 126.2634\n",
       "12   23.1998710   34.48683 126.2634\n",
       "13   11.5999355   34.48683 126.2634\n",
       "14    9.2799484   34.48683 126.2634\n",
       "15   22.6198742   34.48683 126.2634\n",
       "16   12.1799323   34.48683 126.2634\n",
       "17   11.1243381   34.48683 126.2634\n",
       "18   14.2679206   34.48683 126.2634\n",
       "19   11.1359381   34.48683 126.2634\n",
       "20   32.7582178   34.48683 126.2634\n",
       "21    2.0531886   34.48683 126.2634\n",
       "22   35.3914032   34.48683 126.2634\n",
       "23    1.7399903   34.48683 126.2634\n",
       "24    0.7075961   34.48683 126.2634\n",
       "25    3.2479819   34.48683 126.2634\n",
       "26   13.4814450   34.48683 126.2634\n",
       "27   22.2950760   34.48683 126.2634\n",
       "28    8.8507508   34.48683 126.2634\n",
       "29   15.6831128   34.48683 126.2634\n",
       "30   11.3795367   34.48683 126.2634\n",
       "...  ...          ...      ...     \n",
       "2493  0.96306122  36.36229 127.3563\n",
       "2494  0.96306122  36.36229 127.3563\n",
       "2495  0.96306122  36.36229 127.3563\n",
       "2496  0.31781020  36.36229 127.3563\n",
       "2497  0.96306122  36.36229 127.3563\n",
       "2498  0.96306122  36.36229 127.3563\n",
       "2499  0.31781020  36.36229 127.3563\n",
       "2500  0.67414286  36.36229 127.3563\n",
       "2501  0.67414286  36.36229 127.3563\n",
       "2502  0.67414286  36.36229 127.3563\n",
       "2503  0.09630612  36.36229 127.3563\n",
       "2504  0.09630612  36.36229 127.3563\n",
       "2505  0.48153061  36.36229 127.3563\n",
       "2506  0.48153061  36.36229 127.3563\n",
       "2507  0.48153061  36.36229 127.3563\n",
       "2508  0.31781020  36.36229 127.3563\n",
       "2509  0.48153061  36.36229 127.3563\n",
       "2510  0.48153061  36.36229 127.3563\n",
       "2511  0.96306122  36.36229 127.3563\n",
       "2512  0.96306122  36.36229 127.3563\n",
       "2513  0.96306122  36.36229 127.3563\n",
       "2514  0.63562041  36.36229 127.3563\n",
       "2515  0.96306122  36.36229 127.3563\n",
       "2516  0.96306122  36.36229 127.3563\n",
       "2517  0.63562041  36.36229 127.3563\n",
       "2518  0.96306122  36.36229 127.3563\n",
       "2519  0.31781020  36.36229 127.3563\n",
       "2520  0.96306122  36.36229 127.3563\n",
       "2521 11.50713600  34.57352 126.5993\n",
       "2522 56.97888310  34.57352 126.5993"
      ]
     },
     "metadata": {},
     "output_type": "display_data"
    }
   ],
   "source": [
    "#rfFunc(소재지배추재배면적[-c(1,2,3,6)],5,100,5)\n",
    "secondTest<-소재지배추재배면적[-c(1,3,6)]\n",
    "colnames(secondTest)<-c('소재지','재배면적','생산계획량','시도전체면적','시도전채생산량','소재지생산량','위도','경도')\n",
    "secondTest"
   ]
  },
  {
   "cell_type": "code",
   "execution_count": null,
   "metadata": {
    "vscode": {
     "languageId": "r"
    }
   },
   "outputs": [
    {
     "data": {
      "text/html": [
       "<table class=\"dataframe\">\n",
       "<caption>A data.frame: 6 x 8</caption>\n",
       "<thead>\n",
       "\t<tr><th></th><th scope=col>소재지</th><th scope=col>재배면적</th><th scope=col>생산계획량</th><th scope=col>시도전체면적</th><th scope=col>시도전채생산량</th><th scope=col>소재지생산량</th><th scope=col>위도</th><th scope=col>경도</th></tr>\n",
       "\t<tr><th></th><th scope=col>&lt;chr&gt;</th><th scope=col>&lt;dbl&gt;</th><th scope=col>&lt;dbl&gt;</th><th scope=col>&lt;int&gt;</th><th scope=col>&lt;int&gt;</th><th scope=col>&lt;dbl&gt;</th><th scope=col>&lt;dbl&gt;</th><th scope=col>&lt;dbl&gt;</th></tr>\n",
       "</thead>\n",
       "<tbody>\n",
       "\t<tr><th scope=row>1</th><td>전라남도 진도군</td><td> 578.0</td><td> 5.08</td><td>3100</td><td>359598</td><td> 6.704763</td><td>34.48683</td><td>126.2634</td></tr>\n",
       "\t<tr><th scope=row>2</th><td>전라남도 진도군</td><td> 725.0</td><td> 6.37</td><td>3100</td><td>359598</td><td> 8.409953</td><td>34.48683</td><td>126.2634</td></tr>\n",
       "\t<tr><th scope=row>3</th><td>전라남도 진도군</td><td>1959.0</td><td>17.22</td><td>3100</td><td>359598</td><td>22.724274</td><td>34.48683</td><td>126.2634</td></tr>\n",
       "\t<tr><th scope=row>4</th><td>전라남도 진도군</td><td> 204.0</td><td> 1.79</td><td>3100</td><td>359598</td><td> 2.366387</td><td>34.48683</td><td>126.2634</td></tr>\n",
       "\t<tr><th scope=row>5</th><td>전라남도 진도군</td><td>2354.0</td><td>20.69</td><td>3100</td><td>359598</td><td>27.306248</td><td>34.48683</td><td>126.2634</td></tr>\n",
       "\t<tr><th scope=row>6</th><td>전라남도 진도군</td><td>3127.7</td><td>27.49</td><td>3100</td><td>359598</td><td>36.281118</td><td>34.48683</td><td>126.2634</td></tr>\n",
       "</tbody>\n",
       "</table>\n"
      ],
      "text/latex": [
       "A data.frame: 6 x 8\n",
       "\\begin{tabular}{r|llllllll}\n",
       "  & 소재지 & 재배면적 & 생산계획량 & 시도전체면적 & 시도전채생산량 & 소재지생산량 & 위도 & 경도\\\\\n",
       "  & <chr> & <dbl> & <dbl> & <int> & <int> & <dbl> & <dbl> & <dbl>\\\\\n",
       "\\hline\n",
       "\t1 & 전라남도 진도군 &  578.0 &  5.08 & 3100 & 359598 &  6.704763 & 34.48683 & 126.2634\\\\\n",
       "\t2 & 전라남도 진도군 &  725.0 &  6.37 & 3100 & 359598 &  8.409953 & 34.48683 & 126.2634\\\\\n",
       "\t3 & 전라남도 진도군 & 1959.0 & 17.22 & 3100 & 359598 & 22.724274 & 34.48683 & 126.2634\\\\\n",
       "\t4 & 전라남도 진도군 &  204.0 &  1.79 & 3100 & 359598 &  2.366387 & 34.48683 & 126.2634\\\\\n",
       "\t5 & 전라남도 진도군 & 2354.0 & 20.69 & 3100 & 359598 & 27.306248 & 34.48683 & 126.2634\\\\\n",
       "\t6 & 전라남도 진도군 & 3127.7 & 27.49 & 3100 & 359598 & 36.281118 & 34.48683 & 126.2634\\\\\n",
       "\\end{tabular}\n"
      ],
      "text/markdown": [
       "\n",
       "A data.frame: 6 x 8\n",
       "\n",
       "| <!--/--> | 소재지 &lt;chr&gt; | 재배면적 &lt;dbl&gt; | 생산계획량 &lt;dbl&gt; | 시도전체면적 &lt;int&gt; | 시도전채생산량 &lt;int&gt; | 소재지생산량 &lt;dbl&gt; | 위도 &lt;dbl&gt; | 경도 &lt;dbl&gt; |\n",
       "|---|---|---|---|---|---|---|---|---|\n",
       "| 1 | 전라남도 진도군 |  578.0 |  5.08 | 3100 | 359598 |  6.704763 | 34.48683 | 126.2634 |\n",
       "| 2 | 전라남도 진도군 |  725.0 |  6.37 | 3100 | 359598 |  8.409953 | 34.48683 | 126.2634 |\n",
       "| 3 | 전라남도 진도군 | 1959.0 | 17.22 | 3100 | 359598 | 22.724274 | 34.48683 | 126.2634 |\n",
       "| 4 | 전라남도 진도군 |  204.0 |  1.79 | 3100 | 359598 |  2.366387 | 34.48683 | 126.2634 |\n",
       "| 5 | 전라남도 진도군 | 2354.0 | 20.69 | 3100 | 359598 | 27.306248 | 34.48683 | 126.2634 |\n",
       "| 6 | 전라남도 진도군 | 3127.7 | 27.49 | 3100 | 359598 | 36.281118 | 34.48683 | 126.2634 |\n",
       "\n"
      ],
      "text/plain": [
       "  소재지          재배면적 생산계획량 시도전체면적 시도전채생산량 소재지생산량\n",
       "1 전라남도 진도군  578.0    5.08      3100         359598          6.704763   \n",
       "2 전라남도 진도군  725.0    6.37      3100         359598          8.409953   \n",
       "3 전라남도 진도군 1959.0   17.22      3100         359598         22.724274   \n",
       "4 전라남도 진도군  204.0    1.79      3100         359598          2.366387   \n",
       "5 전라남도 진도군 2354.0   20.69      3100         359598         27.306248   \n",
       "6 전라남도 진도군 3127.7   27.49      3100         359598         36.281118   \n",
       "  위도     경도    \n",
       "1 34.48683 126.2634\n",
       "2 34.48683 126.2634\n",
       "3 34.48683 126.2634\n",
       "4 34.48683 126.2634\n",
       "5 34.48683 126.2634\n",
       "6 34.48683 126.2634"
      ]
     },
     "metadata": {},
     "output_type": "display_data"
    }
   ],
   "source": [
    "head(secondTest)"
   ]
  },
  {
   "cell_type": "code",
   "execution_count": null,
   "metadata": {
    "vscode": {
     "languageId": "r"
    }
   },
   "outputs": [
    {
     "data": {
      "text/html": [
       "<style>\n",
       ".list-inline {list-style: none; margin:0; padding: 0}\n",
       ".list-inline>li {display: inline-block}\n",
       ".list-inline>li:not(:last-child)::after {content: \"\\00b7\"; padding: 0 .5ex}\n",
       "</style>\n",
       "<ol class=list-inline><li>'전라남도 진도군'</li><li>'경기도 용인시 처인구'</li><li>'전라남도 해남군'</li><li>'경상북도 영양군'</li><li>'충청북도 제천시'</li><li>'전라남도 나주시'</li><li>'충청북도 충주시'</li><li>'전북특별자치도 익산시'</li><li>'경상북도 영덕군'</li><li>'충청남도 부여군'</li><li>'경기도 고양시 일산서구'</li><li>'충청북도 진천군'</li><li>'경상북도 경주시'</li><li>'강원특별자치도 영월군'</li><li>'경상북도 포항시 북구'</li><li>'경기도 광명시'</li><li>'전라남도 곡성군'</li><li>'전라남도 강진군'</li><li>'강원특별자치도 평창군'</li><li>'전북특별자치도 김제시'</li><li>'전라남도 구례군'</li><li>'경기도 안산시 상록구'</li><li>'경기도 부천시'</li><li>'대전광역시 유성구'</li></ol>\n"
      ],
      "text/latex": [
       "\\begin{enumerate*}\n",
       "\\item '전라남도 진도군'\n",
       "\\item '경기도 용인시 처인구'\n",
       "\\item '전라남도 해남군'\n",
       "\\item '경상북도 영양군'\n",
       "\\item '충청북도 제천시'\n",
       "\\item '전라남도 나주시'\n",
       "\\item '충청북도 충주시'\n",
       "\\item '전북특별자치도 익산시'\n",
       "\\item '경상북도 영덕군'\n",
       "\\item '충청남도 부여군'\n",
       "\\item '경기도 고양시 일산서구'\n",
       "\\item '충청북도 진천군'\n",
       "\\item '경상북도 경주시'\n",
       "\\item '강원특별자치도 영월군'\n",
       "\\item '경상북도 포항시 북구'\n",
       "\\item '경기도 광명시'\n",
       "\\item '전라남도 곡성군'\n",
       "\\item '전라남도 강진군'\n",
       "\\item '강원특별자치도 평창군'\n",
       "\\item '전북특별자치도 김제시'\n",
       "\\item '전라남도 구례군'\n",
       "\\item '경기도 안산시 상록구'\n",
       "\\item '경기도 부천시'\n",
       "\\item '대전광역시 유성구'\n",
       "\\end{enumerate*}\n"
      ],
      "text/markdown": [
       "1. '전라남도 진도군'\n",
       "2. '경기도 용인시 처인구'\n",
       "3. '전라남도 해남군'\n",
       "4. '경상북도 영양군'\n",
       "5. '충청북도 제천시'\n",
       "6. '전라남도 나주시'\n",
       "7. '충청북도 충주시'\n",
       "8. '전북특별자치도 익산시'\n",
       "9. '경상북도 영덕군'\n",
       "10. '충청남도 부여군'\n",
       "11. '경기도 고양시 일산서구'\n",
       "12. '충청북도 진천군'\n",
       "13. '경상북도 경주시'\n",
       "14. '강원특별자치도 영월군'\n",
       "15. '경상북도 포항시 북구'\n",
       "16. '경기도 광명시'\n",
       "17. '전라남도 곡성군'\n",
       "18. '전라남도 강진군'\n",
       "19. '강원특별자치도 평창군'\n",
       "20. '전북특별자치도 김제시'\n",
       "21. '전라남도 구례군'\n",
       "22. '경기도 안산시 상록구'\n",
       "23. '경기도 부천시'\n",
       "24. '대전광역시 유성구'\n",
       "\n",
       "\n"
      ],
      "text/plain": [
       " [1] \"전라남도 진도군\"        \"경기도 용인시 처인구\"   \"전라남도 해남군\"       \n",
       " [4] \"경상북도 영양군\"        \"충청북도 제천시\"        \"전라남도 나주시\"       \n",
       " [7] \"충청북도 충주시\"        \"전북특별자치도 익산시\"  \"경상북도 영덕군\"       \n",
       "[10] \"충청남도 부여군\"        \"경기도 고양시 일산서구\" \"충청북도 진천군\"       \n",
       "[13] \"경상북도 경주시\"        \"강원특별자치도 영월군\"  \"경상북도 포항시 북구\"  \n",
       "[16] \"경기도 광명시\"          \"전라남도 곡성군\"        \"전라남도 강진군\"       \n",
       "[19] \"강원특별자치도 평창군\"  \"전북특별자치도 김제시\"  \"전라남도 구례군\"       \n",
       "[22] \"경기도 안산시 상록구\"   \"경기도 부천시\"          \"대전광역시 유성구\"     "
      ]
     },
     "metadata": {},
     "output_type": "display_data"
    }
   ],
   "source": [
    "place<- unique(secondTest$소재지)\n",
    "place"
   ]
  },
  {
   "cell_type": "code",
   "execution_count": null,
   "metadata": {
    "vscode": {
     "languageId": "r"
    }
   },
   "outputs": [
    {
     "data": {
      "text/html": [
       "<style>\n",
       ".list-inline {list-style: none; margin:0; padding: 0}\n",
       ".list-inline>li {display: inline-block}\n",
       ".list-inline>li:not(:last-child)::after {content: \"\\00b7\"; padding: 0 .5ex}\n",
       "</style>\n",
       "<ol class=list-inline><li>'강정'</li><li>'대곡'</li><li>'보성군(농)'</li><li>'서산(농)'</li><li>'수원(농)'</li><li>'안동옥동'</li><li>'오창가곡'</li><li>'익산'</li><li>'춘천신북'</li><li>'화순능주'</li></ol>\n"
      ],
      "text/latex": [
       "\\begin{enumerate*}\n",
       "\\item '강정'\n",
       "\\item '대곡'\n",
       "\\item '보성군(농)'\n",
       "\\item '서산(농)'\n",
       "\\item '수원(농)'\n",
       "\\item '안동옥동'\n",
       "\\item '오창가곡'\n",
       "\\item '익산'\n",
       "\\item '춘천신북'\n",
       "\\item '화순능주'\n",
       "\\end{enumerate*}\n"
      ],
      "text/markdown": [
       "1. '강정'\n",
       "2. '대곡'\n",
       "3. '보성군(농)'\n",
       "4. '서산(농)'\n",
       "5. '수원(농)'\n",
       "6. '안동옥동'\n",
       "7. '오창가곡'\n",
       "8. '익산'\n",
       "9. '춘천신북'\n",
       "10. '화순능주'\n",
       "\n",
       "\n"
      ],
      "text/plain": [
       " [1] \"강정\"       \"대곡\"       \"보성군(농)\" \"서산(농)\"   \"수원(농)\"  \n",
       " [6] \"안동옥동\"   \"오창가곡\"   \"익산\"       \"춘천신북\"   \"화순능주\"  "
      ]
     },
     "metadata": {},
     "output_type": "display_data"
    }
   ],
   "source": [
    "place2 <- unique(resultMean_rev1$지점명)\n",
    "place2"
   ]
  },
  {
   "cell_type": "markdown",
   "metadata": {
    "vscode": {
     "languageId": "r"
    }
   },
   "source": [
    "수원(농):\n",
    "'경기도 용인시 처인구'\n",
    "'경기도 고양시 일산서구'\n",
    "'경기도 광명시'\n",
    "'경기도 안산시 상록구'\n",
    "'경기도 부천시'\n",
    "\n",
    "춘천신북:\n",
    "'강원특별자치도 평창군'\n",
    "'강원특별자치도 영월군'\n",
    "\n",
    "오창가곡:\n",
    "'충청북도 진천군'\n",
    "'충청북도 제천시'\n",
    "'충청북도 충주시'\n",
    "'충청남도 부여군'\n",
    "'대전광역시 유성구'\n",
    "\n",
    "익산:\n",
    "'전북특별자치도 익산시'\n",
    "'전북특별자치도 김제시'\n",
    "\n",
    "화순능주:\n",
    "'전라남도 나주시'\n",
    "'전라남도 곡성군'\n",
    "'전라남도 구례군'\n",
    "\n",
    "보성군(농):\n",
    "'전라남도 해남군'\n",
    "'전라남도 진도군'\n",
    "'전라남도 강진군'\n",
    "\n",
    "안동옥동:\n",
    "'경상북도 영양군'\n",
    "'경상북도 영덕군'\n",
    "'경상북도 경주시'\n",
    "'경상북도 포항시 북구'\n",
    "\n",
    "\n",
    "\n",
    "\n"
   ]
  },
  {
   "cell_type": "code",
   "execution_count": null,
   "metadata": {
    "vscode": {
     "languageId": "r"
    }
   },
   "outputs": [
    {
     "data": {
      "text/html": [
       "<table class=\"dataframe\">\n",
       "<caption>A grouped_df: 6 x 8</caption>\n",
       "<thead>\n",
       "\t<tr><th scope=col>지점명</th><th scope=col>연간</th><th scope=col>지점</th><th scope=col>X1.5M.평균.습도...</th><th scope=col>X10CM.일.토양수분...</th><th scope=col>X1.5M.평균.기온..C.</th><th scope=col>평균.지면온도..C.</th><th scope=col>X0.5M.일.지중온도..C.</th></tr>\n",
       "\t<tr><th scope=col>&lt;chr&gt;</th><th scope=col>&lt;chr&gt;</th><th scope=col>&lt;dbl&gt;</th><th scope=col>&lt;dbl&gt;</th><th scope=col>&lt;dbl&gt;</th><th scope=col>&lt;dbl&gt;</th><th scope=col>&lt;dbl&gt;</th><th scope=col>&lt;dbl&gt;</th></tr>\n",
       "</thead>\n",
       "<tbody>\n",
       "\t<tr><td>강정      </td><td>2023</td><td>980</td><td>75.75536</td><td>12.13248</td><td>20.40739</td><td>22.37897</td><td>22.34274</td></tr>\n",
       "\t<tr><td>대곡      </td><td>2023</td><td>974</td><td>78.65948</td><td>11.70513</td><td>19.49177</td><td>21.62888</td><td>21.44274</td></tr>\n",
       "\t<tr><td>보성군(농)</td><td>2023</td><td>258</td><td>79.02586</td><td>33.21368</td><td>20.01422</td><td>21.08922</td><td>18.62778</td></tr>\n",
       "\t<tr><td>서산(농)  </td><td>2023</td><td>129</td><td>73.61373</td><td>21.37179</td><td>18.99258</td><td>21.96738</td><td>19.82137</td></tr>\n",
       "\t<tr><td>수원(농)  </td><td>2023</td><td>119</td><td>70.23707</td><td>25.55983</td><td>19.37284</td><td>22.22328</td><td>19.80128</td></tr>\n",
       "\t<tr><td>안동옥동  </td><td>2023</td><td>972</td><td>75.00000</td><td>49.58673</td><td>18.86524</td><td>21.89957</td><td>20.01624</td></tr>\n",
       "</tbody>\n",
       "</table>\n"
      ],
      "text/latex": [
       "A grouped\\_df: 6 x 8\n",
       "\\begin{tabular}{llllllll}\n",
       " 지점명 & 연간 & 지점 & X1.5M.평균.습도... & X10CM.일.토양수분... & X1.5M.평균.기온..C. & 평균.지면온도..C. & X0.5M.일.지중온도..C.\\\\\n",
       " <chr> & <chr> & <dbl> & <dbl> & <dbl> & <dbl> & <dbl> & <dbl>\\\\\n",
       "\\hline\n",
       "\t 강정       & 2023 & 980 & 75.75536 & 12.13248 & 20.40739 & 22.37897 & 22.34274\\\\\n",
       "\t 대곡       & 2023 & 974 & 78.65948 & 11.70513 & 19.49177 & 21.62888 & 21.44274\\\\\n",
       "\t 보성군(농) & 2023 & 258 & 79.02586 & 33.21368 & 20.01422 & 21.08922 & 18.62778\\\\\n",
       "\t 서산(농)   & 2023 & 129 & 73.61373 & 21.37179 & 18.99258 & 21.96738 & 19.82137\\\\\n",
       "\t 수원(농)   & 2023 & 119 & 70.23707 & 25.55983 & 19.37284 & 22.22328 & 19.80128\\\\\n",
       "\t 안동옥동   & 2023 & 972 & 75.00000 & 49.58673 & 18.86524 & 21.89957 & 20.01624\\\\\n",
       "\\end{tabular}\n"
      ],
      "text/markdown": [
       "\n",
       "A grouped_df: 6 x 8\n",
       "\n",
       "| 지점명 &lt;chr&gt; | 연간 &lt;chr&gt; | 지점 &lt;dbl&gt; | X1.5M.평균.습도... &lt;dbl&gt; | X10CM.일.토양수분... &lt;dbl&gt; | X1.5M.평균.기온..C. &lt;dbl&gt; | 평균.지면온도..C. &lt;dbl&gt; | X0.5M.일.지중온도..C. &lt;dbl&gt; |\n",
       "|---|---|---|---|---|---|---|---|\n",
       "| 강정       | 2023 | 980 | 75.75536 | 12.13248 | 20.40739 | 22.37897 | 22.34274 |\n",
       "| 대곡       | 2023 | 974 | 78.65948 | 11.70513 | 19.49177 | 21.62888 | 21.44274 |\n",
       "| 보성군(농) | 2023 | 258 | 79.02586 | 33.21368 | 20.01422 | 21.08922 | 18.62778 |\n",
       "| 서산(농)   | 2023 | 129 | 73.61373 | 21.37179 | 18.99258 | 21.96738 | 19.82137 |\n",
       "| 수원(농)   | 2023 | 119 | 70.23707 | 25.55983 | 19.37284 | 22.22328 | 19.80128 |\n",
       "| 안동옥동   | 2023 | 972 | 75.00000 | 49.58673 | 18.86524 | 21.89957 | 20.01624 |\n",
       "\n"
      ],
      "text/plain": [
       "  지점명     연간 지점 X1.5M.평균.습도... X10CM.일.토양수분...\n",
       "1 강정       2023 980  75.75536           12.13248            \n",
       "2 대곡       2023 974  78.65948           11.70513            \n",
       "3 보성군(농) 2023 258  79.02586           33.21368            \n",
       "4 서산(농)   2023 129  73.61373           21.37179            \n",
       "5 수원(농)   2023 119  70.23707           25.55983            \n",
       "6 안동옥동   2023 972  75.00000           49.58673            \n",
       "  X1.5M.평균.기온..C. 평균.지면온도..C. X0.5M.일.지중온도..C.\n",
       "1 20.40739            22.37897          22.34274             \n",
       "2 19.49177            21.62888          21.44274             \n",
       "3 20.01422            21.08922          18.62778             \n",
       "4 18.99258            21.96738          19.82137             \n",
       "5 19.37284            22.22328          19.80128             \n",
       "6 18.86524            21.89957          20.01624             "
      ]
     },
     "metadata": {},
     "output_type": "display_data"
    }
   ],
   "source": [
    "head(resultMean_rev1)"
   ]
  },
  {
   "cell_type": "markdown",
   "metadata": {
    "vscode": {
     "languageId": "r"
    }
   },
   "source": [
    "secondTest$평균습도 <- c(0)\n",
    "secondTest$토양수분 <- c(0)\n",
    "secondTest$평균기온 <- c(0)\n",
    "secondTest$평균지면온도 <- c(0)\n",
    "secondTest$지중온도 <- c(0)\n",
    "\n",
    "inputTemp <- function(주소, 습도, 토양, 기온, 지면온도, 지중온도) {\n",
    "\n",
    "    secondTest$평균습도 <- ifelse(secondTest$소재지 == 주소, 습도, secondTest$평균습도)\n",
    "    secondTest$토양수분 <- ifelse(secondTest$소재지 == 주소, 토양, secondTest$토양수분)\n",
    "    secondTest$평균기온 <- ifelse(secondTest$소재지 == 주소, 기온, secondTest$평균기온)\n",
    "    secondTest$평균지면온도 <- ifelse(secondTest$소재지 == 주소, 지면온도, secondTest$평균지면온도)\n",
    "    secondTest$지중온도 <- ifelse(secondTest$소재지 == 주소, 지중온도, secondTest$지중온도)\n",
    "    \n",
    "    return(secondTest)\n",
    "}"
   ]
  },
  {
   "cell_type": "code",
   "execution_count": null,
   "metadata": {
    "vscode": {
     "languageId": "r"
    }
   },
   "outputs": [
    {
     "data": {
      "text/html": [
       "<table class=\"dataframe\">\n",
       "<caption>A data.frame: 6 x 9</caption>\n",
       "<thead>\n",
       "\t<tr><th></th><th scope=col>소재지</th><th scope=col>재배면적</th><th scope=col>생산계획량</th><th scope=col>시도전체면적</th><th scope=col>시도전채생산량</th><th scope=col>소재지생산량</th><th scope=col>위도</th><th scope=col>경도</th><th scope=col>지점명</th></tr>\n",
       "\t<tr><th></th><th scope=col>&lt;chr&gt;</th><th scope=col>&lt;dbl&gt;</th><th scope=col>&lt;dbl&gt;</th><th scope=col>&lt;int&gt;</th><th scope=col>&lt;int&gt;</th><th scope=col>&lt;dbl&gt;</th><th scope=col>&lt;dbl&gt;</th><th scope=col>&lt;dbl&gt;</th><th scope=col>&lt;int&gt;</th></tr>\n",
       "</thead>\n",
       "<tbody>\n",
       "\t<tr><th scope=row>1</th><td>전라남도 진도군</td><td> 578.0</td><td> 5.08</td><td>3100</td><td>359598</td><td> 6.704763</td><td>34.48683</td><td>126.2634</td><td>1</td></tr>\n",
       "\t<tr><th scope=row>2</th><td>전라남도 진도군</td><td> 725.0</td><td> 6.37</td><td>3100</td><td>359598</td><td> 8.409953</td><td>34.48683</td><td>126.2634</td><td>2</td></tr>\n",
       "\t<tr><th scope=row>3</th><td>전라남도 진도군</td><td>1959.0</td><td>17.22</td><td>3100</td><td>359598</td><td>22.724274</td><td>34.48683</td><td>126.2634</td><td>3</td></tr>\n",
       "\t<tr><th scope=row>4</th><td>전라남도 진도군</td><td> 204.0</td><td> 1.79</td><td>3100</td><td>359598</td><td> 2.366387</td><td>34.48683</td><td>126.2634</td><td>4</td></tr>\n",
       "\t<tr><th scope=row>5</th><td>전라남도 진도군</td><td>2354.0</td><td>20.69</td><td>3100</td><td>359598</td><td>27.306248</td><td>34.48683</td><td>126.2634</td><td>5</td></tr>\n",
       "\t<tr><th scope=row>6</th><td>전라남도 진도군</td><td>3127.7</td><td>27.49</td><td>3100</td><td>359598</td><td>36.281118</td><td>34.48683</td><td>126.2634</td><td>6</td></tr>\n",
       "</tbody>\n",
       "</table>\n"
      ],
      "text/latex": [
       "A data.frame: 6 x 9\n",
       "\\begin{tabular}{r|lllllllll}\n",
       "  & 소재지 & 재배면적 & 생산계획량 & 시도전체면적 & 시도전채생산량 & 소재지생산량 & 위도 & 경도 & 지점명\\\\\n",
       "  & <chr> & <dbl> & <dbl> & <int> & <int> & <dbl> & <dbl> & <dbl> & <int>\\\\\n",
       "\\hline\n",
       "\t1 & 전라남도 진도군 &  578.0 &  5.08 & 3100 & 359598 &  6.704763 & 34.48683 & 126.2634 & 1\\\\\n",
       "\t2 & 전라남도 진도군 &  725.0 &  6.37 & 3100 & 359598 &  8.409953 & 34.48683 & 126.2634 & 2\\\\\n",
       "\t3 & 전라남도 진도군 & 1959.0 & 17.22 & 3100 & 359598 & 22.724274 & 34.48683 & 126.2634 & 3\\\\\n",
       "\t4 & 전라남도 진도군 &  204.0 &  1.79 & 3100 & 359598 &  2.366387 & 34.48683 & 126.2634 & 4\\\\\n",
       "\t5 & 전라남도 진도군 & 2354.0 & 20.69 & 3100 & 359598 & 27.306248 & 34.48683 & 126.2634 & 5\\\\\n",
       "\t6 & 전라남도 진도군 & 3127.7 & 27.49 & 3100 & 359598 & 36.281118 & 34.48683 & 126.2634 & 6\\\\\n",
       "\\end{tabular}\n"
      ],
      "text/markdown": [
       "\n",
       "A data.frame: 6 x 9\n",
       "\n",
       "| <!--/--> | 소재지 &lt;chr&gt; | 재배면적 &lt;dbl&gt; | 생산계획량 &lt;dbl&gt; | 시도전체면적 &lt;int&gt; | 시도전채생산량 &lt;int&gt; | 소재지생산량 &lt;dbl&gt; | 위도 &lt;dbl&gt; | 경도 &lt;dbl&gt; | 지점명 &lt;int&gt; |\n",
       "|---|---|---|---|---|---|---|---|---|---|\n",
       "| 1 | 전라남도 진도군 |  578.0 |  5.08 | 3100 | 359598 |  6.704763 | 34.48683 | 126.2634 | 1 |\n",
       "| 2 | 전라남도 진도군 |  725.0 |  6.37 | 3100 | 359598 |  8.409953 | 34.48683 | 126.2634 | 2 |\n",
       "| 3 | 전라남도 진도군 | 1959.0 | 17.22 | 3100 | 359598 | 22.724274 | 34.48683 | 126.2634 | 3 |\n",
       "| 4 | 전라남도 진도군 |  204.0 |  1.79 | 3100 | 359598 |  2.366387 | 34.48683 | 126.2634 | 4 |\n",
       "| 5 | 전라남도 진도군 | 2354.0 | 20.69 | 3100 | 359598 | 27.306248 | 34.48683 | 126.2634 | 5 |\n",
       "| 6 | 전라남도 진도군 | 3127.7 | 27.49 | 3100 | 359598 | 36.281118 | 34.48683 | 126.2634 | 6 |\n",
       "\n"
      ],
      "text/plain": [
       "  소재지          재배면적 생산계획량 시도전체면적 시도전채생산량 소재지생산량\n",
       "1 전라남도 진도군  578.0    5.08      3100         359598          6.704763   \n",
       "2 전라남도 진도군  725.0    6.37      3100         359598          8.409953   \n",
       "3 전라남도 진도군 1959.0   17.22      3100         359598         22.724274   \n",
       "4 전라남도 진도군  204.0    1.79      3100         359598          2.366387   \n",
       "5 전라남도 진도군 2354.0   20.69      3100         359598         27.306248   \n",
       "6 전라남도 진도군 3127.7   27.49      3100         359598         36.281118   \n",
       "  위도     경도     지점명\n",
       "1 34.48683 126.2634 1     \n",
       "2 34.48683 126.2634 2     \n",
       "3 34.48683 126.2634 3     \n",
       "4 34.48683 126.2634 4     \n",
       "5 34.48683 126.2634 5     \n",
       "6 34.48683 126.2634 6     "
      ]
     },
     "metadata": {},
     "output_type": "display_data"
    }
   ],
   "source": [
    "# 데이터프레임에 새로운 열 추가\n",
    "secondTest$지점명 <- seq_len(nrow(secondTest))\n",
    "\n",
    "# 결과 확인\n",
    "head(secondTest)  # 데이터프레임의 처음 몇 개의 행 출력하여 결과 확인\n"
   ]
  },
  {
   "cell_type": "code",
   "execution_count": null,
   "metadata": {
    "vscode": {
     "languageId": "r"
    }
   },
   "outputs": [
    {
     "data": {
      "text/html": [
       "<table class=\"dataframe\">\n",
       "<caption>A data.frame: 6 x 9</caption>\n",
       "<thead>\n",
       "\t<tr><th></th><th scope=col>소재지</th><th scope=col>재배면적</th><th scope=col>생산계획량</th><th scope=col>시도전체면적</th><th scope=col>시도전채생산량</th><th scope=col>소재지생산량</th><th scope=col>위도</th><th scope=col>경도</th><th scope=col>지점명</th></tr>\n",
       "\t<tr><th></th><th scope=col>&lt;chr&gt;</th><th scope=col>&lt;dbl&gt;</th><th scope=col>&lt;dbl&gt;</th><th scope=col>&lt;int&gt;</th><th scope=col>&lt;int&gt;</th><th scope=col>&lt;dbl&gt;</th><th scope=col>&lt;dbl&gt;</th><th scope=col>&lt;dbl&gt;</th><th scope=col>&lt;chr&gt;</th></tr>\n",
       "</thead>\n",
       "<tbody>\n",
       "\t<tr><th scope=row>1</th><td>전라남도 진도군</td><td> 578.0</td><td> 5.08</td><td>3100</td><td>359598</td><td> 6.704763</td><td>34.48683</td><td>126.2634</td><td>1</td></tr>\n",
       "\t<tr><th scope=row>2</th><td>전라남도 진도군</td><td> 725.0</td><td> 6.37</td><td>3100</td><td>359598</td><td> 8.409953</td><td>34.48683</td><td>126.2634</td><td>2</td></tr>\n",
       "\t<tr><th scope=row>3</th><td>전라남도 진도군</td><td>1959.0</td><td>17.22</td><td>3100</td><td>359598</td><td>22.724274</td><td>34.48683</td><td>126.2634</td><td>3</td></tr>\n",
       "\t<tr><th scope=row>4</th><td>전라남도 진도군</td><td> 204.0</td><td> 1.79</td><td>3100</td><td>359598</td><td> 2.366387</td><td>34.48683</td><td>126.2634</td><td>4</td></tr>\n",
       "\t<tr><th scope=row>5</th><td>전라남도 진도군</td><td>2354.0</td><td>20.69</td><td>3100</td><td>359598</td><td>27.306248</td><td>34.48683</td><td>126.2634</td><td>5</td></tr>\n",
       "\t<tr><th scope=row>6</th><td>전라남도 진도군</td><td>3127.7</td><td>27.49</td><td>3100</td><td>359598</td><td>36.281118</td><td>34.48683</td><td>126.2634</td><td>6</td></tr>\n",
       "</tbody>\n",
       "</table>\n"
      ],
      "text/latex": [
       "A data.frame: 6 x 9\n",
       "\\begin{tabular}{r|lllllllll}\n",
       "  & 소재지 & 재배면적 & 생산계획량 & 시도전체면적 & 시도전채생산량 & 소재지생산량 & 위도 & 경도 & 지점명\\\\\n",
       "  & <chr> & <dbl> & <dbl> & <int> & <int> & <dbl> & <dbl> & <dbl> & <chr>\\\\\n",
       "\\hline\n",
       "\t1 & 전라남도 진도군 &  578.0 &  5.08 & 3100 & 359598 &  6.704763 & 34.48683 & 126.2634 & 1\\\\\n",
       "\t2 & 전라남도 진도군 &  725.0 &  6.37 & 3100 & 359598 &  8.409953 & 34.48683 & 126.2634 & 2\\\\\n",
       "\t3 & 전라남도 진도군 & 1959.0 & 17.22 & 3100 & 359598 & 22.724274 & 34.48683 & 126.2634 & 3\\\\\n",
       "\t4 & 전라남도 진도군 &  204.0 &  1.79 & 3100 & 359598 &  2.366387 & 34.48683 & 126.2634 & 4\\\\\n",
       "\t5 & 전라남도 진도군 & 2354.0 & 20.69 & 3100 & 359598 & 27.306248 & 34.48683 & 126.2634 & 5\\\\\n",
       "\t6 & 전라남도 진도군 & 3127.7 & 27.49 & 3100 & 359598 & 36.281118 & 34.48683 & 126.2634 & 6\\\\\n",
       "\\end{tabular}\n"
      ],
      "text/markdown": [
       "\n",
       "A data.frame: 6 x 9\n",
       "\n",
       "| <!--/--> | 소재지 &lt;chr&gt; | 재배면적 &lt;dbl&gt; | 생산계획량 &lt;dbl&gt; | 시도전체면적 &lt;int&gt; | 시도전채생산량 &lt;int&gt; | 소재지생산량 &lt;dbl&gt; | 위도 &lt;dbl&gt; | 경도 &lt;dbl&gt; | 지점명 &lt;chr&gt; |\n",
       "|---|---|---|---|---|---|---|---|---|---|\n",
       "| 1 | 전라남도 진도군 |  578.0 |  5.08 | 3100 | 359598 |  6.704763 | 34.48683 | 126.2634 | 1 |\n",
       "| 2 | 전라남도 진도군 |  725.0 |  6.37 | 3100 | 359598 |  8.409953 | 34.48683 | 126.2634 | 2 |\n",
       "| 3 | 전라남도 진도군 | 1959.0 | 17.22 | 3100 | 359598 | 22.724274 | 34.48683 | 126.2634 | 3 |\n",
       "| 4 | 전라남도 진도군 |  204.0 |  1.79 | 3100 | 359598 |  2.366387 | 34.48683 | 126.2634 | 4 |\n",
       "| 5 | 전라남도 진도군 | 2354.0 | 20.69 | 3100 | 359598 | 27.306248 | 34.48683 | 126.2634 | 5 |\n",
       "| 6 | 전라남도 진도군 | 3127.7 | 27.49 | 3100 | 359598 | 36.281118 | 34.48683 | 126.2634 | 6 |\n",
       "\n"
      ],
      "text/plain": [
       "  소재지          재배면적 생산계획량 시도전체면적 시도전채생산량 소재지생산량\n",
       "1 전라남도 진도군  578.0    5.08      3100         359598          6.704763   \n",
       "2 전라남도 진도군  725.0    6.37      3100         359598          8.409953   \n",
       "3 전라남도 진도군 1959.0   17.22      3100         359598         22.724274   \n",
       "4 전라남도 진도군  204.0    1.79      3100         359598          2.366387   \n",
       "5 전라남도 진도군 2354.0   20.69      3100         359598         27.306248   \n",
       "6 전라남도 진도군 3127.7   27.49      3100         359598         36.281118   \n",
       "  위도     경도     지점명\n",
       "1 34.48683 126.2634 1     \n",
       "2 34.48683 126.2634 2     \n",
       "3 34.48683 126.2634 3     \n",
       "4 34.48683 126.2634 4     \n",
       "5 34.48683 126.2634 5     \n",
       "6 34.48683 126.2634 6     "
      ]
     },
     "metadata": {},
     "output_type": "display_data"
    }
   ],
   "source": [
    "# 데이터프레임에 새로운 문자열 열 추가\n",
    "secondTest$지점명 <- as.character(seq_len(nrow(secondTest)))\n",
    "\n",
    "# 결과 확인\n",
    "head(secondTest)\n"
   ]
  },
  {
   "cell_type": "code",
   "execution_count": null,
   "metadata": {
    "vscode": {
     "languageId": "r"
    }
   },
   "outputs": [],
   "source": [
    "# \"열이름\" 열을 삭제\n",
    "secondTest$row <- NULL\n"
   ]
  },
  {
   "cell_type": "code",
   "execution_count": null,
   "metadata": {
    "vscode": {
     "languageId": "r"
    }
   },
   "outputs": [],
   "source": [
    "\n",
    "# 조건에 맞는 행을 선택하여 '지점명' 열의 값을 변경\n",
    "# '소재지' 열이 '경기도 용인시 처인구', '경기도 고양시 일산서구',\n",
    "# '경기도 광명시'인 행을 선택하고, 해당 행의 '지점명' 열의 값을 '수원(농)'으로 변경\n",
    "secondTest$지점명[secondTest$소재지 %in% c('경기도 용인시 처인구', '경기도 고양시 일산서구', '경기도 광명시','경기도 안산시 상록구','경기도 부천시')] <- '수원(농)'\n",
    "secondTest$지점명[secondTest$소재지 %in% c('강원특별자치도 평창군', '강원특별자치도 영월군')] <- '춘천신북'\n",
    "secondTest$지점명[secondTest$소재지 %in% c('충청북도 진천군', '충청북도 제천시', '충청북도 충주시','충청남도 부여군','대전광역시 유성구')] <- '오창가곡'\n",
    "secondTest$지점명[secondTest$소재지 %in% c('전북특별자치도 익산시', '전북특별자치도 김제시')] <- '익산'\n",
    "secondTest$지점명[secondTest$소재지 %in% c('전라남도 나주시', '전라남도 곡성군', '전라남도 구례군')] <- '화순능주'\n",
    "secondTest$지점명[secondTest$소재지 %in% c('전라남도 해남군', '전라남도 진도군', '전라남도 강진군')] <- '보성군(농)'\n",
    "secondTest$지점명[secondTest$소재지 %in% c('경상북도 영양군', '경상북도 영덕군', '경상북도 경주시','경상북도 포항시 북구')] <- '안동옥동'\n",
    "\n"
   ]
  },
  {
   "cell_type": "code",
   "execution_count": 344,
   "metadata": {
    "vscode": {
     "languageId": "r"
    }
   },
   "outputs": [
    {
     "data": {
      "text/html": [
       "<style>\n",
       ".list-inline {list-style: none; margin:0; padding: 0}\n",
       ".list-inline>li {display: inline-block}\n",
       ".list-inline>li:not(:last-child)::after {content: \"\\00b7\"; padding: 0 .5ex}\n",
       "</style>\n",
       "<ol class=list-inline><li>'보성군(농)'</li><li>'수원(농)'</li><li>'안동옥동'</li><li>'오창가곡'</li><li>'화순능주'</li><li>'익산'</li><li>'춘천신북'</li></ol>\n"
      ],
      "text/latex": [
       "\\begin{enumerate*}\n",
       "\\item '보성군(농)'\n",
       "\\item '수원(농)'\n",
       "\\item '안동옥동'\n",
       "\\item '오창가곡'\n",
       "\\item '화순능주'\n",
       "\\item '익산'\n",
       "\\item '춘천신북'\n",
       "\\end{enumerate*}\n"
      ],
      "text/markdown": [
       "1. '보성군(농)'\n",
       "2. '수원(농)'\n",
       "3. '안동옥동'\n",
       "4. '오창가곡'\n",
       "5. '화순능주'\n",
       "6. '익산'\n",
       "7. '춘천신북'\n",
       "\n",
       "\n"
      ],
      "text/plain": [
       "[1] \"보성군(농)\" \"수원(농)\"   \"안동옥동\"   \"오창가곡\"   \"화순능주\"  \n",
       "[6] \"익산\"       \"춘천신북\"  "
      ]
     },
     "metadata": {},
     "output_type": "display_data"
    }
   ],
   "source": [
    "unique(secondTest$지점명)"
   ]
  },
  {
   "cell_type": "code",
   "execution_count": null,
   "metadata": {
    "vscode": {
     "languageId": "r"
    }
   },
   "outputs": [
    {
     "data": {
      "text/html": [
       "<table class=\"dataframe\">\n",
       "<caption>A data.frame: 6 x 9</caption>\n",
       "<thead>\n",
       "\t<tr><th></th><th scope=col>소재지</th><th scope=col>재배면적</th><th scope=col>생산계획량</th><th scope=col>시도전체면적</th><th scope=col>시도전채생산량</th><th scope=col>소재지생산량</th><th scope=col>위도</th><th scope=col>경도</th><th scope=col>지점명</th></tr>\n",
       "\t<tr><th></th><th scope=col>&lt;chr&gt;</th><th scope=col>&lt;dbl&gt;</th><th scope=col>&lt;dbl&gt;</th><th scope=col>&lt;int&gt;</th><th scope=col>&lt;int&gt;</th><th scope=col>&lt;dbl&gt;</th><th scope=col>&lt;dbl&gt;</th><th scope=col>&lt;dbl&gt;</th><th scope=col>&lt;chr&gt;</th></tr>\n",
       "</thead>\n",
       "<tbody>\n",
       "\t<tr><th scope=row>1</th><td>전라남도 진도군</td><td> 578.0</td><td> 5.08</td><td>3100</td><td>359598</td><td> 6.704763</td><td>34.48683</td><td>126.2634</td><td>보성군(농)</td></tr>\n",
       "\t<tr><th scope=row>2</th><td>전라남도 진도군</td><td> 725.0</td><td> 6.37</td><td>3100</td><td>359598</td><td> 8.409953</td><td>34.48683</td><td>126.2634</td><td>보성군(농)</td></tr>\n",
       "\t<tr><th scope=row>3</th><td>전라남도 진도군</td><td>1959.0</td><td>17.22</td><td>3100</td><td>359598</td><td>22.724274</td><td>34.48683</td><td>126.2634</td><td>보성군(농)</td></tr>\n",
       "\t<tr><th scope=row>4</th><td>전라남도 진도군</td><td> 204.0</td><td> 1.79</td><td>3100</td><td>359598</td><td> 2.366387</td><td>34.48683</td><td>126.2634</td><td>보성군(농)</td></tr>\n",
       "\t<tr><th scope=row>5</th><td>전라남도 진도군</td><td>2354.0</td><td>20.69</td><td>3100</td><td>359598</td><td>27.306248</td><td>34.48683</td><td>126.2634</td><td>보성군(농)</td></tr>\n",
       "\t<tr><th scope=row>6</th><td>전라남도 진도군</td><td>3127.7</td><td>27.49</td><td>3100</td><td>359598</td><td>36.281118</td><td>34.48683</td><td>126.2634</td><td>보성군(농)</td></tr>\n",
       "</tbody>\n",
       "</table>\n"
      ],
      "text/latex": [
       "A data.frame: 6 x 9\n",
       "\\begin{tabular}{r|lllllllll}\n",
       "  & 소재지 & 재배면적 & 생산계획량 & 시도전체면적 & 시도전채생산량 & 소재지생산량 & 위도 & 경도 & 지점명\\\\\n",
       "  & <chr> & <dbl> & <dbl> & <int> & <int> & <dbl> & <dbl> & <dbl> & <chr>\\\\\n",
       "\\hline\n",
       "\t1 & 전라남도 진도군 &  578.0 &  5.08 & 3100 & 359598 &  6.704763 & 34.48683 & 126.2634 & 보성군(농)\\\\\n",
       "\t2 & 전라남도 진도군 &  725.0 &  6.37 & 3100 & 359598 &  8.409953 & 34.48683 & 126.2634 & 보성군(농)\\\\\n",
       "\t3 & 전라남도 진도군 & 1959.0 & 17.22 & 3100 & 359598 & 22.724274 & 34.48683 & 126.2634 & 보성군(농)\\\\\n",
       "\t4 & 전라남도 진도군 &  204.0 &  1.79 & 3100 & 359598 &  2.366387 & 34.48683 & 126.2634 & 보성군(농)\\\\\n",
       "\t5 & 전라남도 진도군 & 2354.0 & 20.69 & 3100 & 359598 & 27.306248 & 34.48683 & 126.2634 & 보성군(농)\\\\\n",
       "\t6 & 전라남도 진도군 & 3127.7 & 27.49 & 3100 & 359598 & 36.281118 & 34.48683 & 126.2634 & 보성군(농)\\\\\n",
       "\\end{tabular}\n"
      ],
      "text/markdown": [
       "\n",
       "A data.frame: 6 x 9\n",
       "\n",
       "| <!--/--> | 소재지 &lt;chr&gt; | 재배면적 &lt;dbl&gt; | 생산계획량 &lt;dbl&gt; | 시도전체면적 &lt;int&gt; | 시도전채생산량 &lt;int&gt; | 소재지생산량 &lt;dbl&gt; | 위도 &lt;dbl&gt; | 경도 &lt;dbl&gt; | 지점명 &lt;chr&gt; |\n",
       "|---|---|---|---|---|---|---|---|---|---|\n",
       "| 1 | 전라남도 진도군 |  578.0 |  5.08 | 3100 | 359598 |  6.704763 | 34.48683 | 126.2634 | 보성군(농) |\n",
       "| 2 | 전라남도 진도군 |  725.0 |  6.37 | 3100 | 359598 |  8.409953 | 34.48683 | 126.2634 | 보성군(농) |\n",
       "| 3 | 전라남도 진도군 | 1959.0 | 17.22 | 3100 | 359598 | 22.724274 | 34.48683 | 126.2634 | 보성군(농) |\n",
       "| 4 | 전라남도 진도군 |  204.0 |  1.79 | 3100 | 359598 |  2.366387 | 34.48683 | 126.2634 | 보성군(농) |\n",
       "| 5 | 전라남도 진도군 | 2354.0 | 20.69 | 3100 | 359598 | 27.306248 | 34.48683 | 126.2634 | 보성군(농) |\n",
       "| 6 | 전라남도 진도군 | 3127.7 | 27.49 | 3100 | 359598 | 36.281118 | 34.48683 | 126.2634 | 보성군(농) |\n",
       "\n"
      ],
      "text/plain": [
       "  소재지          재배면적 생산계획량 시도전체면적 시도전채생산량 소재지생산량\n",
       "1 전라남도 진도군  578.0    5.08      3100         359598          6.704763   \n",
       "2 전라남도 진도군  725.0    6.37      3100         359598          8.409953   \n",
       "3 전라남도 진도군 1959.0   17.22      3100         359598         22.724274   \n",
       "4 전라남도 진도군  204.0    1.79      3100         359598          2.366387   \n",
       "5 전라남도 진도군 2354.0   20.69      3100         359598         27.306248   \n",
       "6 전라남도 진도군 3127.7   27.49      3100         359598         36.281118   \n",
       "  위도     경도     지점명    \n",
       "1 34.48683 126.2634 보성군(농)\n",
       "2 34.48683 126.2634 보성군(농)\n",
       "3 34.48683 126.2634 보성군(농)\n",
       "4 34.48683 126.2634 보성군(농)\n",
       "5 34.48683 126.2634 보성군(농)\n",
       "6 34.48683 126.2634 보성군(농)"
      ]
     },
     "metadata": {},
     "output_type": "display_data"
    }
   ],
   "source": [
    "head(secondTest)"
   ]
  },
  {
   "cell_type": "code",
   "execution_count": 350,
   "metadata": {
    "vscode": {
     "languageId": "r"
    }
   },
   "outputs": [],
   "source": [
    "# secondTest$지점명 이 '보성군(농)' 과 같은 \n",
    "#resultMean_rev1$지점명 '보성군(농)'의 데이터 c(4:7) 를 찾아서 \n",
    "#데이터를 가져와서 secondTest$지점명이 '보성군(농)'에 c(8:12)에 붙여 넣는다.\n",
    "# '지점명'이 '보성군(농)'인 행의 인덱스를 가져옵니다.\n",
    "selected_rows_secondTest <- which(secondTest$지점명 == '춘천신북')\n",
    "selected_rows_resultMean_rev1 <- which(resultMean_rev1$지점명 == '춘천신북')\n",
    "\n",
    "# 두 데이터프레임에서 해당 행을 찾았는지 확인합니다.\n",
    "if (length(selected_rows_secondTest) > 0 && length(selected_rows_resultMean_rev1) > 0) {\n",
    "  # 두 데이터프레임에서 해당 행의 데이터를 가져옵니다.\n",
    "  selected_data <- resultMean_rev1[selected_rows_resultMean_rev1, c(4:7)]\n",
    "  \n",
    "  # 가져온 데이터를 대상 열에 붙여넣습니다.\n",
    "  secondTest[selected_rows_secondTest, c(10:13)] <- selected_data\n",
    "} else {\n",
    "  # 해당 지점명이 존재하지 않는다는 메시지를 출력합니다.\n",
    "  cat(\"해당 지점명이 존재하지 않습니다.\")\n",
    "}\n"
   ]
  },
  {
   "cell_type": "code",
   "execution_count": 352,
   "metadata": {
    "vscode": {
     "languageId": "r"
    }
   },
   "outputs": [],
   "source": [
    "# secondTest$지점명 이 '보성군(농)' 과 같은 \n",
    "#resultMean_rev1$지점명 '보성군(농)'의 데이터 c(4:7) 를 찾아서 \n",
    "#데이터를 가져와서 secondTest$지점명이 '보성군(농)'에 c(8:12)에 붙여 넣는다.\n",
    "# '지점명'이 '보성군(농)'인 행의 인덱스를 가져옵니다.\n",
    "selected_rows_secondTest <- which(secondTest$지점명 == '익산')\n",
    "selected_rows_resultMean_rev1 <- which(resultMean_rev1$지점명 == '익산')\n",
    "\n",
    "# 두 데이터프레임에서 해당 행을 찾았는지 확인합니다.\n",
    "if (length(selected_rows_secondTest) > 0 && length(selected_rows_resultMean_rev1) > 0) {\n",
    "  # 두 데이터프레임에서 해당 행의 데이터를 가져옵니다.\n",
    "  selected_data <- resultMean_rev1[selected_rows_resultMean_rev1, c(4:7)]\n",
    "  \n",
    "  # 가져온 데이터를 대상 열에 붙여넣습니다.\n",
    "  secondTest[selected_rows_secondTest, c(10:13)] <- selected_data\n",
    "} else {\n",
    "  # 해당 지점명이 존재하지 않는다는 메시지를 출력합니다.\n",
    "  cat(\"해당 지점명이 존재하지 않습니다.\")\n",
    "}"
   ]
  },
  {
   "cell_type": "code",
   "execution_count": 354,
   "metadata": {
    "vscode": {
     "languageId": "r"
    }
   },
   "outputs": [
    {
     "data": {
      "text/html": [
       "<table class=\"dataframe\">\n",
       "<caption>A data.frame: 6 x 13</caption>\n",
       "<thead>\n",
       "\t<tr><th></th><th scope=col>소재지</th><th scope=col>재배면적</th><th scope=col>생산계획량</th><th scope=col>시도전체면적</th><th scope=col>시도전채생산량</th><th scope=col>소재지생산량</th><th scope=col>위도</th><th scope=col>경도</th><th scope=col>지점명</th><th scope=col>X1.5M.평균.습도...</th><th scope=col>X10CM.일.토양수분...</th><th scope=col>X1.5M.평균.기온..C.</th><th scope=col>평균.지면온도..C.</th></tr>\n",
       "\t<tr><th></th><th scope=col>&lt;chr&gt;</th><th scope=col>&lt;dbl&gt;</th><th scope=col>&lt;dbl&gt;</th><th scope=col>&lt;int&gt;</th><th scope=col>&lt;int&gt;</th><th scope=col>&lt;dbl&gt;</th><th scope=col>&lt;dbl&gt;</th><th scope=col>&lt;dbl&gt;</th><th scope=col>&lt;chr&gt;</th><th scope=col>&lt;dbl&gt;</th><th scope=col>&lt;dbl&gt;</th><th scope=col>&lt;dbl&gt;</th><th scope=col>&lt;dbl&gt;</th></tr>\n",
       "</thead>\n",
       "<tbody>\n",
       "\t<tr><th scope=row>1</th><td>전라남도 진도군</td><td> 578.0</td><td> 5.08</td><td>3100</td><td>359598</td><td> 6.704763</td><td>34.48683</td><td>126.2634</td><td>보성군(농)</td><td>79.02586</td><td>33.21368</td><td>20.01422</td><td>21.08922</td></tr>\n",
       "\t<tr><th scope=row>2</th><td>전라남도 진도군</td><td> 725.0</td><td> 6.37</td><td>3100</td><td>359598</td><td> 8.409953</td><td>34.48683</td><td>126.2634</td><td>보성군(농)</td><td>79.02586</td><td>33.21368</td><td>20.01422</td><td>21.08922</td></tr>\n",
       "\t<tr><th scope=row>3</th><td>전라남도 진도군</td><td>1959.0</td><td>17.22</td><td>3100</td><td>359598</td><td>22.724274</td><td>34.48683</td><td>126.2634</td><td>보성군(농)</td><td>79.02586</td><td>33.21368</td><td>20.01422</td><td>21.08922</td></tr>\n",
       "\t<tr><th scope=row>4</th><td>전라남도 진도군</td><td> 204.0</td><td> 1.79</td><td>3100</td><td>359598</td><td> 2.366387</td><td>34.48683</td><td>126.2634</td><td>보성군(농)</td><td>79.02586</td><td>33.21368</td><td>20.01422</td><td>21.08922</td></tr>\n",
       "\t<tr><th scope=row>5</th><td>전라남도 진도군</td><td>2354.0</td><td>20.69</td><td>3100</td><td>359598</td><td>27.306248</td><td>34.48683</td><td>126.2634</td><td>보성군(농)</td><td>79.02586</td><td>33.21368</td><td>20.01422</td><td>21.08922</td></tr>\n",
       "\t<tr><th scope=row>6</th><td>전라남도 진도군</td><td>3127.7</td><td>27.49</td><td>3100</td><td>359598</td><td>36.281118</td><td>34.48683</td><td>126.2634</td><td>보성군(농)</td><td>79.02586</td><td>33.21368</td><td>20.01422</td><td>21.08922</td></tr>\n",
       "</tbody>\n",
       "</table>\n"
      ],
      "text/latex": [
       "A data.frame: 6 x 13\n",
       "\\begin{tabular}{r|lllllllllllll}\n",
       "  & 소재지 & 재배면적 & 생산계획량 & 시도전체면적 & 시도전채생산량 & 소재지생산량 & 위도 & 경도 & 지점명 & X1.5M.평균.습도... & X10CM.일.토양수분... & X1.5M.평균.기온..C. & 평균.지면온도..C.\\\\\n",
       "  & <chr> & <dbl> & <dbl> & <int> & <int> & <dbl> & <dbl> & <dbl> & <chr> & <dbl> & <dbl> & <dbl> & <dbl>\\\\\n",
       "\\hline\n",
       "\t1 & 전라남도 진도군 &  578.0 &  5.08 & 3100 & 359598 &  6.704763 & 34.48683 & 126.2634 & 보성군(농) & 79.02586 & 33.21368 & 20.01422 & 21.08922\\\\\n",
       "\t2 & 전라남도 진도군 &  725.0 &  6.37 & 3100 & 359598 &  8.409953 & 34.48683 & 126.2634 & 보성군(농) & 79.02586 & 33.21368 & 20.01422 & 21.08922\\\\\n",
       "\t3 & 전라남도 진도군 & 1959.0 & 17.22 & 3100 & 359598 & 22.724274 & 34.48683 & 126.2634 & 보성군(농) & 79.02586 & 33.21368 & 20.01422 & 21.08922\\\\\n",
       "\t4 & 전라남도 진도군 &  204.0 &  1.79 & 3100 & 359598 &  2.366387 & 34.48683 & 126.2634 & 보성군(농) & 79.02586 & 33.21368 & 20.01422 & 21.08922\\\\\n",
       "\t5 & 전라남도 진도군 & 2354.0 & 20.69 & 3100 & 359598 & 27.306248 & 34.48683 & 126.2634 & 보성군(농) & 79.02586 & 33.21368 & 20.01422 & 21.08922\\\\\n",
       "\t6 & 전라남도 진도군 & 3127.7 & 27.49 & 3100 & 359598 & 36.281118 & 34.48683 & 126.2634 & 보성군(농) & 79.02586 & 33.21368 & 20.01422 & 21.08922\\\\\n",
       "\\end{tabular}\n"
      ],
      "text/markdown": [
       "\n",
       "A data.frame: 6 x 13\n",
       "\n",
       "| <!--/--> | 소재지 &lt;chr&gt; | 재배면적 &lt;dbl&gt; | 생산계획량 &lt;dbl&gt; | 시도전체면적 &lt;int&gt; | 시도전채생산량 &lt;int&gt; | 소재지생산량 &lt;dbl&gt; | 위도 &lt;dbl&gt; | 경도 &lt;dbl&gt; | 지점명 &lt;chr&gt; | X1.5M.평균.습도... &lt;dbl&gt; | X10CM.일.토양수분... &lt;dbl&gt; | X1.5M.평균.기온..C. &lt;dbl&gt; | 평균.지면온도..C. &lt;dbl&gt; |\n",
       "|---|---|---|---|---|---|---|---|---|---|---|---|---|---|\n",
       "| 1 | 전라남도 진도군 |  578.0 |  5.08 | 3100 | 359598 |  6.704763 | 34.48683 | 126.2634 | 보성군(농) | 79.02586 | 33.21368 | 20.01422 | 21.08922 |\n",
       "| 2 | 전라남도 진도군 |  725.0 |  6.37 | 3100 | 359598 |  8.409953 | 34.48683 | 126.2634 | 보성군(농) | 79.02586 | 33.21368 | 20.01422 | 21.08922 |\n",
       "| 3 | 전라남도 진도군 | 1959.0 | 17.22 | 3100 | 359598 | 22.724274 | 34.48683 | 126.2634 | 보성군(농) | 79.02586 | 33.21368 | 20.01422 | 21.08922 |\n",
       "| 4 | 전라남도 진도군 |  204.0 |  1.79 | 3100 | 359598 |  2.366387 | 34.48683 | 126.2634 | 보성군(농) | 79.02586 | 33.21368 | 20.01422 | 21.08922 |\n",
       "| 5 | 전라남도 진도군 | 2354.0 | 20.69 | 3100 | 359598 | 27.306248 | 34.48683 | 126.2634 | 보성군(농) | 79.02586 | 33.21368 | 20.01422 | 21.08922 |\n",
       "| 6 | 전라남도 진도군 | 3127.7 | 27.49 | 3100 | 359598 | 36.281118 | 34.48683 | 126.2634 | 보성군(농) | 79.02586 | 33.21368 | 20.01422 | 21.08922 |\n",
       "\n"
      ],
      "text/plain": [
       "  소재지          재배면적 생산계획량 시도전체면적 시도전채생산량 소재지생산량\n",
       "1 전라남도 진도군  578.0    5.08      3100         359598          6.704763   \n",
       "2 전라남도 진도군  725.0    6.37      3100         359598          8.409953   \n",
       "3 전라남도 진도군 1959.0   17.22      3100         359598         22.724274   \n",
       "4 전라남도 진도군  204.0    1.79      3100         359598          2.366387   \n",
       "5 전라남도 진도군 2354.0   20.69      3100         359598         27.306248   \n",
       "6 전라남도 진도군 3127.7   27.49      3100         359598         36.281118   \n",
       "  위도     경도     지점명     X1.5M.평균.습도... X10CM.일.토양수분...\n",
       "1 34.48683 126.2634 보성군(농) 79.02586           33.21368            \n",
       "2 34.48683 126.2634 보성군(농) 79.02586           33.21368            \n",
       "3 34.48683 126.2634 보성군(농) 79.02586           33.21368            \n",
       "4 34.48683 126.2634 보성군(농) 79.02586           33.21368            \n",
       "5 34.48683 126.2634 보성군(농) 79.02586           33.21368            \n",
       "6 34.48683 126.2634 보성군(농) 79.02586           33.21368            \n",
       "  X1.5M.평균.기온..C. 평균.지면온도..C.\n",
       "1 20.01422            21.08922         \n",
       "2 20.01422            21.08922         \n",
       "3 20.01422            21.08922         \n",
       "4 20.01422            21.08922         \n",
       "5 20.01422            21.08922         \n",
       "6 20.01422            21.08922         "
      ]
     },
     "metadata": {},
     "output_type": "display_data"
    }
   ],
   "source": [
    "head(secondTest)"
   ]
  },
  {
   "cell_type": "code",
   "execution_count": 353,
   "metadata": {
    "vscode": {
     "languageId": "r"
    }
   },
   "outputs": [
    {
     "data": {
      "text/html": [
       "<style>\n",
       ".list-inline {list-style: none; margin:0; padding: 0}\n",
       ".list-inline>li {display: inline-block}\n",
       ".list-inline>li:not(:last-child)::after {content: \"\\00b7\"; padding: 0 .5ex}\n",
       "</style>\n",
       "<ol class=list-inline><li>79.0258620689655</li><li>70.2370689655172</li><li>75</li><li>75.9051724137931</li><li>79.1875</li><li>70.8078602620087</li><li>71.8318965517241</li></ol>\n"
      ],
      "text/latex": [
       "\\begin{enumerate*}\n",
       "\\item 79.0258620689655\n",
       "\\item 70.2370689655172\n",
       "\\item 75\n",
       "\\item 75.9051724137931\n",
       "\\item 79.1875\n",
       "\\item 70.8078602620087\n",
       "\\item 71.8318965517241\n",
       "\\end{enumerate*}\n"
      ],
      "text/markdown": [
       "1. 79.0258620689655\n",
       "2. 70.2370689655172\n",
       "3. 75\n",
       "4. 75.9051724137931\n",
       "5. 79.1875\n",
       "6. 70.8078602620087\n",
       "7. 71.8318965517241\n",
       "\n",
       "\n"
      ],
      "text/plain": [
       "[1] 79.02586 70.23707 75.00000 75.90517 79.18750 70.80786 71.83190"
      ]
     },
     "metadata": {},
     "output_type": "display_data"
    }
   ],
   "source": [
    "unique(secondTest$X1.5M.평균.습도..)\n"
   ]
  },
  {
   "cell_type": "code",
   "execution_count": 355,
   "metadata": {
    "vscode": {
     "languageId": "r"
    }
   },
   "outputs": [
    {
     "name": "stdout",
     "output_type": "stream",
     "text": [
      "'data.frame':\t2522 obs. of  13 variables:\n",
      " $ 소재지              : chr  \"전라남도 진도군\" \"전라남도 진도군\" \"전라남도 진도군\" \"전라남도 진도군\" ...\n",
      " $ 재배면적            : num  578 725 1959 204 2354 ...\n",
      " $ 생산계획량          : num  5.08 6.37 17.22 1.79 20.69 ...\n",
      " $ 시도전체면적        : int  3100 3100 3100 3100 3100 3100 3100 3100 3100 3100 ...\n",
      " $ 시도전채생산량      : int  359598 359598 359598 359598 359598 359598 359598 359598 359598 359598 ...\n",
      " $ 소재지생산량        : num  6.7 8.41 22.72 2.37 27.31 ...\n",
      " $ 위도                : num  34.5 34.5 34.5 34.5 34.5 ...\n",
      " $ 경도                : num  126 126 126 126 126 ...\n",
      " $ 지점명              : chr  \"보성군(농)\" \"보성군(농)\" \"보성군(농)\" \"보성군(농)\" ...\n",
      " $ X1.5M.평균.습도...  : num  79 79 79 79 79 ...\n",
      " $ X10CM.일.토양수분...: num  33.2 33.2 33.2 33.2 33.2 ...\n",
      " $ X1.5M.평균.기온..C. : num  20 20 20 20 20 ...\n",
      " $ 평균.지면온도..C.   : num  21.1 21.1 21.1 21.1 21.1 ...\n"
     ]
    }
   ],
   "source": [
    "str(secondTest)"
   ]
  },
  {
   "cell_type": "code",
   "execution_count": 357,
   "metadata": {
    "vscode": {
     "languageId": "r"
    }
   },
   "outputs": [
    {
     "data": {
      "image/png": "[encoded data removed]",
      "text/plain": [
       "plot without title"
      ]
     },
     "metadata": {
      "image/png": {
       "height": 360,
       "width": 480
      }
     },
     "output_type": "display_data"
    }
   ],
   "source": [
    "par(bg = 'white')\n",
    "plot(secondTest)"
   ]
  },
  {
   "cell_type": "code",
   "execution_count": null,
   "metadata": {
    "vscode": {
     "languageId": "r"
    }
   },
   "outputs": [],
   "source": []
  },
  {
   "cell_type": "code",
   "execution_count": 359,
   "metadata": {
    "vscode": {
     "languageId": "r"
    }
   },
   "outputs": [],
   "source": [
    "# \"열이름\" 열을 삭제\n",
    "secondTest_rev1<- secondTest"
   ]
  },
  {
   "cell_type": "code",
   "execution_count": null,
   "metadata": {
    "vscode": {
     "languageId": "r"
    }
   },
   "outputs": [],
   "source": [
    "head(secondTest_rev1)"
   ]
  },
  {
   "cell_type": "code",
   "execution_count": 361,
   "metadata": {
    "vscode": {
     "languageId": "r"
    }
   },
   "outputs": [],
   "source": [
    "secondTest_rev1$소재지 <- NULL\n",
    "secondTest_rev1$지점명 <- NULL"
   ]
  },
  {
   "cell_type": "code",
   "execution_count": 362,
   "metadata": {
    "vscode": {
     "languageId": "r"
    }
   },
   "outputs": [
    {
     "data": {
      "text/html": [
       "<table class=\"dataframe\">\n",
       "<caption>A data.frame: 6 x 11</caption>\n",
       "<thead>\n",
       "\t<tr><th></th><th scope=col>재배면적</th><th scope=col>생산계획량</th><th scope=col>시도전체면적</th><th scope=col>시도전채생산량</th><th scope=col>소재지생산량</th><th scope=col>위도</th><th scope=col>경도</th><th scope=col>X1.5M.평균.습도...</th><th scope=col>X10CM.일.토양수분...</th><th scope=col>X1.5M.평균.기온..C.</th><th scope=col>평균.지면온도..C.</th></tr>\n",
       "\t<tr><th></th><th scope=col>&lt;dbl&gt;</th><th scope=col>&lt;dbl&gt;</th><th scope=col>&lt;int&gt;</th><th scope=col>&lt;int&gt;</th><th scope=col>&lt;dbl&gt;</th><th scope=col>&lt;dbl&gt;</th><th scope=col>&lt;dbl&gt;</th><th scope=col>&lt;dbl&gt;</th><th scope=col>&lt;dbl&gt;</th><th scope=col>&lt;dbl&gt;</th><th scope=col>&lt;dbl&gt;</th></tr>\n",
       "</thead>\n",
       "<tbody>\n",
       "\t<tr><th scope=row>1</th><td> 578.0</td><td> 5.08</td><td>3100</td><td>359598</td><td> 6.704763</td><td>34.48683</td><td>126.2634</td><td>79.02586</td><td>33.21368</td><td>20.01422</td><td>21.08922</td></tr>\n",
       "\t<tr><th scope=row>2</th><td> 725.0</td><td> 6.37</td><td>3100</td><td>359598</td><td> 8.409953</td><td>34.48683</td><td>126.2634</td><td>79.02586</td><td>33.21368</td><td>20.01422</td><td>21.08922</td></tr>\n",
       "\t<tr><th scope=row>3</th><td>1959.0</td><td>17.22</td><td>3100</td><td>359598</td><td>22.724274</td><td>34.48683</td><td>126.2634</td><td>79.02586</td><td>33.21368</td><td>20.01422</td><td>21.08922</td></tr>\n",
       "\t<tr><th scope=row>4</th><td> 204.0</td><td> 1.79</td><td>3100</td><td>359598</td><td> 2.366387</td><td>34.48683</td><td>126.2634</td><td>79.02586</td><td>33.21368</td><td>20.01422</td><td>21.08922</td></tr>\n",
       "\t<tr><th scope=row>5</th><td>2354.0</td><td>20.69</td><td>3100</td><td>359598</td><td>27.306248</td><td>34.48683</td><td>126.2634</td><td>79.02586</td><td>33.21368</td><td>20.01422</td><td>21.08922</td></tr>\n",
       "\t<tr><th scope=row>6</th><td>3127.7</td><td>27.49</td><td>3100</td><td>359598</td><td>36.281118</td><td>34.48683</td><td>126.2634</td><td>79.02586</td><td>33.21368</td><td>20.01422</td><td>21.08922</td></tr>\n",
       "</tbody>\n",
       "</table>\n"
      ],
      "text/latex": [
       "A data.frame: 6 x 11\n",
       "\\begin{tabular}{r|lllllllllll}\n",
       "  & 재배면적 & 생산계획량 & 시도전체면적 & 시도전채생산량 & 소재지생산량 & 위도 & 경도 & X1.5M.평균.습도... & X10CM.일.토양수분... & X1.5M.평균.기온..C. & 평균.지면온도..C.\\\\\n",
       "  & <dbl> & <dbl> & <int> & <int> & <dbl> & <dbl> & <dbl> & <dbl> & <dbl> & <dbl> & <dbl>\\\\\n",
       "\\hline\n",
       "\t1 &  578.0 &  5.08 & 3100 & 359598 &  6.704763 & 34.48683 & 126.2634 & 79.02586 & 33.21368 & 20.01422 & 21.08922\\\\\n",
       "\t2 &  725.0 &  6.37 & 3100 & 359598 &  8.409953 & 34.48683 & 126.2634 & 79.02586 & 33.21368 & 20.01422 & 21.08922\\\\\n",
       "\t3 & 1959.0 & 17.22 & 3100 & 359598 & 22.724274 & 34.48683 & 126.2634 & 79.02586 & 33.21368 & 20.01422 & 21.08922\\\\\n",
       "\t4 &  204.0 &  1.79 & 3100 & 359598 &  2.366387 & 34.48683 & 126.2634 & 79.02586 & 33.21368 & 20.01422 & 21.08922\\\\\n",
       "\t5 & 2354.0 & 20.69 & 3100 & 359598 & 27.306248 & 34.48683 & 126.2634 & 79.02586 & 33.21368 & 20.01422 & 21.08922\\\\\n",
       "\t6 & 3127.7 & 27.49 & 3100 & 359598 & 36.281118 & 34.48683 & 126.2634 & 79.02586 & 33.21368 & 20.01422 & 21.08922\\\\\n",
       "\\end{tabular}\n"
      ],
      "text/markdown": [
       "\n",
       "A data.frame: 6 x 11\n",
       "\n",
       "| <!--/--> | 재배면적 &lt;dbl&gt; | 생산계획량 &lt;dbl&gt; | 시도전체면적 &lt;int&gt; | 시도전채생산량 &lt;int&gt; | 소재지생산량 &lt;dbl&gt; | 위도 &lt;dbl&gt; | 경도 &lt;dbl&gt; | X1.5M.평균.습도... &lt;dbl&gt; | X10CM.일.토양수분... &lt;dbl&gt; | X1.5M.평균.기온..C. &lt;dbl&gt; | 평균.지면온도..C. &lt;dbl&gt; |\n",
       "|---|---|---|---|---|---|---|---|---|---|---|---|\n",
       "| 1 |  578.0 |  5.08 | 3100 | 359598 |  6.704763 | 34.48683 | 126.2634 | 79.02586 | 33.21368 | 20.01422 | 21.08922 |\n",
       "| 2 |  725.0 |  6.37 | 3100 | 359598 |  8.409953 | 34.48683 | 126.2634 | 79.02586 | 33.21368 | 20.01422 | 21.08922 |\n",
       "| 3 | 1959.0 | 17.22 | 3100 | 359598 | 22.724274 | 34.48683 | 126.2634 | 79.02586 | 33.21368 | 20.01422 | 21.08922 |\n",
       "| 4 |  204.0 |  1.79 | 3100 | 359598 |  2.366387 | 34.48683 | 126.2634 | 79.02586 | 33.21368 | 20.01422 | 21.08922 |\n",
       "| 5 | 2354.0 | 20.69 | 3100 | 359598 | 27.306248 | 34.48683 | 126.2634 | 79.02586 | 33.21368 | 20.01422 | 21.08922 |\n",
       "| 6 | 3127.7 | 27.49 | 3100 | 359598 | 36.281118 | 34.48683 | 126.2634 | 79.02586 | 33.21368 | 20.01422 | 21.08922 |\n",
       "\n"
      ],
      "text/plain": [
       "  재배면적 생산계획량 시도전체면적 시도전채생산량 소재지생산량 위도    \n",
       "1  578.0    5.08      3100         359598          6.704763    34.48683\n",
       "2  725.0    6.37      3100         359598          8.409953    34.48683\n",
       "3 1959.0   17.22      3100         359598         22.724274    34.48683\n",
       "4  204.0    1.79      3100         359598          2.366387    34.48683\n",
       "5 2354.0   20.69      3100         359598         27.306248    34.48683\n",
       "6 3127.7   27.49      3100         359598         36.281118    34.48683\n",
       "  경도     X1.5M.평균.습도... X10CM.일.토양수분... X1.5M.평균.기온..C.\n",
       "1 126.2634 79.02586           33.21368             20.01422           \n",
       "2 126.2634 79.02586           33.21368             20.01422           \n",
       "3 126.2634 79.02586           33.21368             20.01422           \n",
       "4 126.2634 79.02586           33.21368             20.01422           \n",
       "5 126.2634 79.02586           33.21368             20.01422           \n",
       "6 126.2634 79.02586           33.21368             20.01422           \n",
       "  평균.지면온도..C.\n",
       "1 21.08922         \n",
       "2 21.08922         \n",
       "3 21.08922         \n",
       "4 21.08922         \n",
       "5 21.08922         \n",
       "6 21.08922         "
      ]
     },
     "metadata": {},
     "output_type": "display_data"
    }
   ],
   "source": [
    "head(secondTest_rev1)"
   ]
  },
  {
   "cell_type": "code",
   "execution_count": 367,
   "metadata": {
    "vscode": {
     "languageId": "r"
    }
   },
   "outputs": [
    {
     "data": {
      "text/html": [
       "<table class=\"dataframe\">\n",
       "<caption>A data.frame: 6 x 11</caption>\n",
       "<thead>\n",
       "\t<tr><th></th><th scope=col>재배면적</th><th scope=col>생산계획량</th><th scope=col>시도전체면적</th><th scope=col>시도전채생산량</th><th scope=col>소재지생산량</th><th scope=col>위도</th><th scope=col>경도</th><th scope=col>습도</th><th scope=col>토양수분</th><th scope=col>기온</th><th scope=col>지면온도</th></tr>\n",
       "\t<tr><th></th><th scope=col>&lt;dbl&gt;</th><th scope=col>&lt;dbl&gt;</th><th scope=col>&lt;int&gt;</th><th scope=col>&lt;int&gt;</th><th scope=col>&lt;dbl&gt;</th><th scope=col>&lt;dbl&gt;</th><th scope=col>&lt;dbl&gt;</th><th scope=col>&lt;dbl&gt;</th><th scope=col>&lt;dbl&gt;</th><th scope=col>&lt;dbl&gt;</th><th scope=col>&lt;dbl&gt;</th></tr>\n",
       "</thead>\n",
       "<tbody>\n",
       "\t<tr><th scope=row>1</th><td> 578.0</td><td> 5.08</td><td>3100</td><td>359598</td><td> 6.704763</td><td>34.48683</td><td>126.2634</td><td>79.02586</td><td>33.21368</td><td>20.01422</td><td>21.08922</td></tr>\n",
       "\t<tr><th scope=row>2</th><td> 725.0</td><td> 6.37</td><td>3100</td><td>359598</td><td> 8.409953</td><td>34.48683</td><td>126.2634</td><td>79.02586</td><td>33.21368</td><td>20.01422</td><td>21.08922</td></tr>\n",
       "\t<tr><th scope=row>3</th><td>1959.0</td><td>17.22</td><td>3100</td><td>359598</td><td>22.724274</td><td>34.48683</td><td>126.2634</td><td>79.02586</td><td>33.21368</td><td>20.01422</td><td>21.08922</td></tr>\n",
       "\t<tr><th scope=row>4</th><td> 204.0</td><td> 1.79</td><td>3100</td><td>359598</td><td> 2.366387</td><td>34.48683</td><td>126.2634</td><td>79.02586</td><td>33.21368</td><td>20.01422</td><td>21.08922</td></tr>\n",
       "\t<tr><th scope=row>5</th><td>2354.0</td><td>20.69</td><td>3100</td><td>359598</td><td>27.306248</td><td>34.48683</td><td>126.2634</td><td>79.02586</td><td>33.21368</td><td>20.01422</td><td>21.08922</td></tr>\n",
       "\t<tr><th scope=row>6</th><td>3127.7</td><td>27.49</td><td>3100</td><td>359598</td><td>36.281118</td><td>34.48683</td><td>126.2634</td><td>79.02586</td><td>33.21368</td><td>20.01422</td><td>21.08922</td></tr>\n",
       "</tbody>\n",
       "</table>\n"
      ],
      "text/latex": [
       "A data.frame: 6 x 11\n",
       "\\begin{tabular}{r|lllllllllll}\n",
       "  & 재배면적 & 생산계획량 & 시도전체면적 & 시도전채생산량 & 소재지생산량 & 위도 & 경도 & 습도 & 토양수분 & 기온 & 지면온도\\\\\n",
       "  & <dbl> & <dbl> & <int> & <int> & <dbl> & <dbl> & <dbl> & <dbl> & <dbl> & <dbl> & <dbl>\\\\\n",
       "\\hline\n",
       "\t1 &  578.0 &  5.08 & 3100 & 359598 &  6.704763 & 34.48683 & 126.2634 & 79.02586 & 33.21368 & 20.01422 & 21.08922\\\\\n",
       "\t2 &  725.0 &  6.37 & 3100 & 359598 &  8.409953 & 34.48683 & 126.2634 & 79.02586 & 33.21368 & 20.01422 & 21.08922\\\\\n",
       "\t3 & 1959.0 & 17.22 & 3100 & 359598 & 22.724274 & 34.48683 & 126.2634 & 79.02586 & 33.21368 & 20.01422 & 21.08922\\\\\n",
       "\t4 &  204.0 &  1.79 & 3100 & 359598 &  2.366387 & 34.48683 & 126.2634 & 79.02586 & 33.21368 & 20.01422 & 21.08922\\\\\n",
       "\t5 & 2354.0 & 20.69 & 3100 & 359598 & 27.306248 & 34.48683 & 126.2634 & 79.02586 & 33.21368 & 20.01422 & 21.08922\\\\\n",
       "\t6 & 3127.7 & 27.49 & 3100 & 359598 & 36.281118 & 34.48683 & 126.2634 & 79.02586 & 33.21368 & 20.01422 & 21.08922\\\\\n",
       "\\end{tabular}\n"
      ],
      "text/markdown": [
       "\n",
       "A data.frame: 6 x 11\n",
       "\n",
       "| <!--/--> | 재배면적 &lt;dbl&gt; | 생산계획량 &lt;dbl&gt; | 시도전체면적 &lt;int&gt; | 시도전채생산량 &lt;int&gt; | 소재지생산량 &lt;dbl&gt; | 위도 &lt;dbl&gt; | 경도 &lt;dbl&gt; | 습도 &lt;dbl&gt; | 토양수분 &lt;dbl&gt; | 기온 &lt;dbl&gt; | 지면온도 &lt;dbl&gt; |\n",
       "|---|---|---|---|---|---|---|---|---|---|---|---|\n",
       "| 1 |  578.0 |  5.08 | 3100 | 359598 |  6.704763 | 34.48683 | 126.2634 | 79.02586 | 33.21368 | 20.01422 | 21.08922 |\n",
       "| 2 |  725.0 |  6.37 | 3100 | 359598 |  8.409953 | 34.48683 | 126.2634 | 79.02586 | 33.21368 | 20.01422 | 21.08922 |\n",
       "| 3 | 1959.0 | 17.22 | 3100 | 359598 | 22.724274 | 34.48683 | 126.2634 | 79.02586 | 33.21368 | 20.01422 | 21.08922 |\n",
       "| 4 |  204.0 |  1.79 | 3100 | 359598 |  2.366387 | 34.48683 | 126.2634 | 79.02586 | 33.21368 | 20.01422 | 21.08922 |\n",
       "| 5 | 2354.0 | 20.69 | 3100 | 359598 | 27.306248 | 34.48683 | 126.2634 | 79.02586 | 33.21368 | 20.01422 | 21.08922 |\n",
       "| 6 | 3127.7 | 27.49 | 3100 | 359598 | 36.281118 | 34.48683 | 126.2634 | 79.02586 | 33.21368 | 20.01422 | 21.08922 |\n",
       "\n"
      ],
      "text/plain": [
       "  재배면적 생산계획량 시도전체면적 시도전채생산량 소재지생산량 위도    \n",
       "1  578.0    5.08      3100         359598          6.704763    34.48683\n",
       "2  725.0    6.37      3100         359598          8.409953    34.48683\n",
       "3 1959.0   17.22      3100         359598         22.724274    34.48683\n",
       "4  204.0    1.79      3100         359598          2.366387    34.48683\n",
       "5 2354.0   20.69      3100         359598         27.306248    34.48683\n",
       "6 3127.7   27.49      3100         359598         36.281118    34.48683\n",
       "  경도     습도     토양수분 기온     지면온도\n",
       "1 126.2634 79.02586 33.21368 20.01422 21.08922\n",
       "2 126.2634 79.02586 33.21368 20.01422 21.08922\n",
       "3 126.2634 79.02586 33.21368 20.01422 21.08922\n",
       "4 126.2634 79.02586 33.21368 20.01422 21.08922\n",
       "5 126.2634 79.02586 33.21368 20.01422 21.08922\n",
       "6 126.2634 79.02586 33.21368 20.01422 21.08922"
      ]
     },
     "metadata": {},
     "output_type": "display_data"
    }
   ],
   "source": [
    "#rfFunc(소재지배추재배면적[-c(1,2,3,6)],5,100,5)\n",
    "test<-secondTest_rev1[c(1:11)]\n",
    "colnames(test)<-c('재배면적','생산계획량','시도전체면적','시도전채생산량','소재지생산량','위도','경도','습도','토양수분','기온','지면온도')\n",
    "head(test)"
   ]
  },
  {
   "cell_type": "code",
   "execution_count": 379,
   "metadata": {
    "vscode": {
     "languageId": "r"
    }
   },
   "outputs": [
    {
     "data": {
      "text/html": [
       "<table class=\"dataframe\">\n",
       "<caption>A data.frame: 2522 x 11</caption>\n",
       "<thead>\n",
       "\t<tr><th scope=col>재배면적</th><th scope=col>생산계획량</th><th scope=col>시도전체면적</th><th scope=col>시도전채생산량</th><th scope=col>소재지생산량</th><th scope=col>위도</th><th scope=col>경도</th><th scope=col>습도</th><th scope=col>토양수분</th><th scope=col>기온</th><th scope=col>지면온도</th></tr>\n",
       "\t<tr><th scope=col>&lt;dbl&gt;</th><th scope=col>&lt;dbl&gt;</th><th scope=col>&lt;int&gt;</th><th scope=col>&lt;int&gt;</th><th scope=col>&lt;dbl&gt;</th><th scope=col>&lt;dbl&gt;</th><th scope=col>&lt;dbl&gt;</th><th scope=col>&lt;dbl&gt;</th><th scope=col>&lt;dbl&gt;</th><th scope=col>&lt;dbl&gt;</th><th scope=col>&lt;dbl&gt;</th></tr>\n",
       "</thead>\n",
       "<tbody>\n",
       "\t<tr><td> 578.0</td><td> 5.08</td><td>3100</td><td>359598</td><td> 6.7047627</td><td>34.48683</td><td>126.2634</td><td>79.02586</td><td>33.21368</td><td>20.01422</td><td>21.08922</td></tr>\n",
       "\t<tr><td> 725.0</td><td> 6.37</td><td>3100</td><td>359598</td><td> 8.4099532</td><td>34.48683</td><td>126.2634</td><td>79.02586</td><td>33.21368</td><td>20.01422</td><td>21.08922</td></tr>\n",
       "\t<tr><td>1959.0</td><td>17.22</td><td>3100</td><td>359598</td><td>22.7242736</td><td>34.48683</td><td>126.2634</td><td>79.02586</td><td>33.21368</td><td>20.01422</td><td>21.08922</td></tr>\n",
       "\t<tr><td> 204.0</td><td> 1.79</td><td>3100</td><td>359598</td><td> 2.3663868</td><td>34.48683</td><td>126.2634</td><td>79.02586</td><td>33.21368</td><td>20.01422</td><td>21.08922</td></tr>\n",
       "\t<tr><td>2354.0</td><td>20.69</td><td>3100</td><td>359598</td><td>27.3062481</td><td>34.48683</td><td>126.2634</td><td>79.02586</td><td>33.21368</td><td>20.01422</td><td>21.08922</td></tr>\n",
       "\t<tr><td>3127.7</td><td>27.49</td><td>3100</td><td>359598</td><td>36.2811182</td><td>34.48683</td><td>126.2634</td><td>79.02586</td><td>33.21368</td><td>20.01422</td><td>21.08922</td></tr>\n",
       "\t<tr><td>1015.0</td><td> 8.92</td><td>3100</td><td>359598</td><td>11.7739345</td><td>34.48683</td><td>126.2634</td><td>79.02586</td><td>33.21368</td><td>20.01422</td><td>21.08922</td></tr>\n",
       "\t<tr><td>1470.0</td><td>12.92</td><td>3100</td><td>359598</td><td>17.0519052</td><td>34.48683</td><td>126.2634</td><td>79.02586</td><td>33.21368</td><td>20.01422</td><td>21.08922</td></tr>\n",
       "\t<tr><td>1530.0</td><td>13.45</td><td>3100</td><td>359598</td><td>17.7479013</td><td>34.48683</td><td>126.2634</td><td>79.02586</td><td>33.21368</td><td>20.01422</td><td>21.08922</td></tr>\n",
       "\t<tr><td> 820.0</td><td> 7.21</td><td>3100</td><td>359598</td><td> 9.5119471</td><td>34.48683</td><td>126.2634</td><td>79.02586</td><td>33.21368</td><td>20.01422</td><td>21.08922</td></tr>\n",
       "\t<tr><td>2180.0</td><td>19.16</td><td>3100</td><td>359598</td><td>25.2878594</td><td>34.48683</td><td>126.2634</td><td>79.02586</td><td>33.21368</td><td>20.01422</td><td>21.08922</td></tr>\n",
       "\t<tr><td>2000.0</td><td>17.58</td><td>3100</td><td>359598</td><td>23.1998710</td><td>34.48683</td><td>126.2634</td><td>79.02586</td><td>33.21368</td><td>20.01422</td><td>21.08922</td></tr>\n",
       "\t<tr><td>1000.0</td><td> 8.79</td><td>3100</td><td>359598</td><td>11.5999355</td><td>34.48683</td><td>126.2634</td><td>79.02586</td><td>33.21368</td><td>20.01422</td><td>21.08922</td></tr>\n",
       "\t<tr><td> 800.0</td><td> 7.03</td><td>3100</td><td>359598</td><td> 9.2799484</td><td>34.48683</td><td>126.2634</td><td>79.02586</td><td>33.21368</td><td>20.01422</td><td>21.08922</td></tr>\n",
       "\t<tr><td>1950.0</td><td>17.14</td><td>3100</td><td>359598</td><td>22.6198742</td><td>34.48683</td><td>126.2634</td><td>79.02586</td><td>33.21368</td><td>20.01422</td><td>21.08922</td></tr>\n",
       "\t<tr><td>1050.0</td><td> 9.23</td><td>3100</td><td>359598</td><td>12.1799323</td><td>34.48683</td><td>126.2634</td><td>79.02586</td><td>33.21368</td><td>20.01422</td><td>21.08922</td></tr>\n",
       "\t<tr><td> 959.0</td><td> 8.43</td><td>3100</td><td>359598</td><td>11.1243381</td><td>34.48683</td><td>126.2634</td><td>79.02586</td><td>33.21368</td><td>20.01422</td><td>21.08922</td></tr>\n",
       "\t<tr><td>1230.0</td><td>10.81</td><td>3100</td><td>359598</td><td>14.2679206</td><td>34.48683</td><td>126.2634</td><td>79.02586</td><td>33.21368</td><td>20.01422</td><td>21.08922</td></tr>\n",
       "\t<tr><td> 960.0</td><td> 8.44</td><td>3100</td><td>359598</td><td>11.1359381</td><td>34.48683</td><td>126.2634</td><td>79.02586</td><td>33.21368</td><td>20.01422</td><td>21.08922</td></tr>\n",
       "\t<tr><td>2824.0</td><td>24.82</td><td>3100</td><td>359598</td><td>32.7582178</td><td>34.48683</td><td>126.2634</td><td>79.02586</td><td>33.21368</td><td>20.01422</td><td>21.08922</td></tr>\n",
       "\t<tr><td> 177.0</td><td> 1.56</td><td>3100</td><td>359598</td><td> 2.0531886</td><td>34.48683</td><td>126.2634</td><td>79.02586</td><td>33.21368</td><td>20.01422</td><td>21.08922</td></tr>\n",
       "\t<tr><td>3051.0</td><td>26.81</td><td>3100</td><td>359598</td><td>35.3914032</td><td>34.48683</td><td>126.2634</td><td>79.02586</td><td>33.21368</td><td>20.01422</td><td>21.08922</td></tr>\n",
       "\t<tr><td> 150.0</td><td> 1.32</td><td>3100</td><td>359598</td><td> 1.7399903</td><td>34.48683</td><td>126.2634</td><td>79.02586</td><td>33.21368</td><td>20.01422</td><td>21.08922</td></tr>\n",
       "\t<tr><td>  61.0</td><td> 0.54</td><td>3100</td><td>359598</td><td> 0.7075961</td><td>34.48683</td><td>126.2634</td><td>79.02586</td><td>33.21368</td><td>20.01422</td><td>21.08922</td></tr>\n",
       "\t<tr><td> 280.0</td><td> 2.46</td><td>3100</td><td>359598</td><td> 3.2479819</td><td>34.48683</td><td>126.2634</td><td>79.02586</td><td>33.21368</td><td>20.01422</td><td>21.08922</td></tr>\n",
       "\t<tr><td>1162.2</td><td>10.21</td><td>3100</td><td>359598</td><td>13.4814450</td><td>34.48683</td><td>126.2634</td><td>79.02586</td><td>33.21368</td><td>20.01422</td><td>21.08922</td></tr>\n",
       "\t<tr><td>1922.0</td><td>16.89</td><td>3100</td><td>359598</td><td>22.2950760</td><td>34.48683</td><td>126.2634</td><td>79.02586</td><td>33.21368</td><td>20.01422</td><td>21.08922</td></tr>\n",
       "\t<tr><td> 763.0</td><td> 6.71</td><td>3100</td><td>359598</td><td> 8.8507508</td><td>34.48683</td><td>126.2634</td><td>79.02586</td><td>33.21368</td><td>20.01422</td><td>21.08922</td></tr>\n",
       "\t<tr><td>1352.0</td><td>11.88</td><td>3100</td><td>359598</td><td>15.6831128</td><td>34.48683</td><td>126.2634</td><td>79.02586</td><td>33.21368</td><td>20.01422</td><td>21.08922</td></tr>\n",
       "\t<tr><td> 981.0</td><td> 8.62</td><td>3100</td><td>359598</td><td>11.3795367</td><td>34.48683</td><td>126.2634</td><td>79.02586</td><td>33.21368</td><td>20.01422</td><td>21.08922</td></tr>\n",
       "\t<tr><td>...</td><td>...</td><td>...</td><td>...</td><td>...</td><td>...</td><td>...</td><td>...</td><td>...</td><td>...</td><td>...</td></tr>\n",
       "\t<tr><td> 100</td><td>  0.10</td><td>  49</td><td>  4719</td><td> 0.96306122</td><td>36.36229</td><td>127.3563</td><td>75.90517</td><td>20.08155</td><td>19.66595</td><td>22.56466</td></tr>\n",
       "\t<tr><td> 100</td><td>  0.02</td><td>  49</td><td>  4719</td><td> 0.96306122</td><td>36.36229</td><td>127.3563</td><td>75.90517</td><td>20.08155</td><td>19.66595</td><td>22.56466</td></tr>\n",
       "\t<tr><td> 100</td><td>  0.10</td><td>  49</td><td>  4719</td><td> 0.96306122</td><td>36.36229</td><td>127.3563</td><td>75.90517</td><td>20.08155</td><td>19.66595</td><td>22.56466</td></tr>\n",
       "\t<tr><td>  33</td><td>  0.03</td><td>  49</td><td>  4719</td><td> 0.31781020</td><td>36.36229</td><td>127.3563</td><td>75.90517</td><td>20.08155</td><td>19.66595</td><td>22.56466</td></tr>\n",
       "\t<tr><td> 100</td><td>  0.03</td><td>  49</td><td>  4719</td><td> 0.96306122</td><td>36.36229</td><td>127.3563</td><td>75.90517</td><td>20.08155</td><td>19.66595</td><td>22.56466</td></tr>\n",
       "\t<tr><td> 100</td><td>  0.10</td><td>  49</td><td>  4719</td><td> 0.96306122</td><td>36.36229</td><td>127.3563</td><td>75.90517</td><td>20.08155</td><td>19.66595</td><td>22.56466</td></tr>\n",
       "\t<tr><td>  33</td><td>  0.05</td><td>  49</td><td>  4719</td><td> 0.31781020</td><td>36.36229</td><td>127.3563</td><td>75.90517</td><td>20.08155</td><td>19.66595</td><td>22.56466</td></tr>\n",
       "\t<tr><td>  70</td><td>  0.50</td><td>  49</td><td>  4719</td><td> 0.67414286</td><td>36.36229</td><td>127.3563</td><td>75.90517</td><td>20.08155</td><td>19.66595</td><td>22.56466</td></tr>\n",
       "\t<tr><td>  70</td><td>  0.50</td><td>  49</td><td>  4719</td><td> 0.67414286</td><td>36.36229</td><td>127.3563</td><td>75.90517</td><td>20.08155</td><td>19.66595</td><td>22.56466</td></tr>\n",
       "\t<tr><td>  70</td><td>  0.03</td><td>  49</td><td>  4719</td><td> 0.67414286</td><td>36.36229</td><td>127.3563</td><td>75.90517</td><td>20.08155</td><td>19.66595</td><td>22.56466</td></tr>\n",
       "\t<tr><td>  10</td><td>  0.01</td><td>  49</td><td>  4719</td><td> 0.09630612</td><td>36.36229</td><td>127.3563</td><td>75.90517</td><td>20.08155</td><td>19.66595</td><td>22.56466</td></tr>\n",
       "\t<tr><td>  10</td><td>  0.01</td><td>  49</td><td>  4719</td><td> 0.09630612</td><td>36.36229</td><td>127.3563</td><td>75.90517</td><td>20.08155</td><td>19.66595</td><td>22.56466</td></tr>\n",
       "\t<tr><td>  50</td><td>  0.20</td><td>  49</td><td>  4719</td><td> 0.48153061</td><td>36.36229</td><td>127.3563</td><td>75.90517</td><td>20.08155</td><td>19.66595</td><td>22.56466</td></tr>\n",
       "\t<tr><td>  50</td><td>  0.03</td><td>  49</td><td>  4719</td><td> 0.48153061</td><td>36.36229</td><td>127.3563</td><td>75.90517</td><td>20.08155</td><td>19.66595</td><td>22.56466</td></tr>\n",
       "\t<tr><td>  50</td><td>  0.05</td><td>  49</td><td>  4719</td><td> 0.48153061</td><td>36.36229</td><td>127.3563</td><td>75.90517</td><td>20.08155</td><td>19.66595</td><td>22.56466</td></tr>\n",
       "\t<tr><td>  33</td><td>  0.05</td><td>  49</td><td>  4719</td><td> 0.31781020</td><td>36.36229</td><td>127.3563</td><td>75.90517</td><td>20.08155</td><td>19.66595</td><td>22.56466</td></tr>\n",
       "\t<tr><td>  50</td><td>  0.05</td><td>  49</td><td>  4719</td><td> 0.48153061</td><td>36.36229</td><td>127.3563</td><td>75.90517</td><td>20.08155</td><td>19.66595</td><td>22.56466</td></tr>\n",
       "\t<tr><td>  50</td><td>  0.05</td><td>  49</td><td>  4719</td><td> 0.48153061</td><td>36.36229</td><td>127.3563</td><td>75.90517</td><td>20.08155</td><td>19.66595</td><td>22.56466</td></tr>\n",
       "\t<tr><td> 100</td><td>  0.50</td><td>  49</td><td>  4719</td><td> 0.96306122</td><td>36.36229</td><td>127.3563</td><td>75.90517</td><td>20.08155</td><td>19.66595</td><td>22.56466</td></tr>\n",
       "\t<tr><td> 100</td><td>  0.50</td><td>  49</td><td>  4719</td><td> 0.96306122</td><td>36.36229</td><td>127.3563</td><td>75.90517</td><td>20.08155</td><td>19.66595</td><td>22.56466</td></tr>\n",
       "\t<tr><td> 100</td><td>  0.50</td><td>  49</td><td>  4719</td><td> 0.96306122</td><td>36.36229</td><td>127.3563</td><td>75.90517</td><td>20.08155</td><td>19.66595</td><td>22.56466</td></tr>\n",
       "\t<tr><td>  66</td><td>  0.10</td><td>  49</td><td>  4719</td><td> 0.63562041</td><td>36.36229</td><td>127.3563</td><td>75.90517</td><td>20.08155</td><td>19.66595</td><td>22.56466</td></tr>\n",
       "\t<tr><td> 100</td><td>  0.50</td><td>  49</td><td>  4719</td><td> 0.96306122</td><td>36.36229</td><td>127.3563</td><td>75.90517</td><td>20.08155</td><td>19.66595</td><td>22.56466</td></tr>\n",
       "\t<tr><td> 100</td><td>  0.50</td><td>  49</td><td>  4719</td><td> 0.96306122</td><td>36.36229</td><td>127.3563</td><td>75.90517</td><td>20.08155</td><td>19.66595</td><td>22.56466</td></tr>\n",
       "\t<tr><td>  66</td><td>  0.10</td><td>  49</td><td>  4719</td><td> 0.63562041</td><td>36.36229</td><td>127.3563</td><td>75.90517</td><td>20.08155</td><td>19.66595</td><td>22.56466</td></tr>\n",
       "\t<tr><td> 100</td><td>  0.10</td><td>  49</td><td>  4719</td><td> 0.96306122</td><td>36.36229</td><td>127.3563</td><td>75.90517</td><td>20.08155</td><td>19.66595</td><td>22.56466</td></tr>\n",
       "\t<tr><td>  33</td><td>  0.03</td><td>  49</td><td>  4719</td><td> 0.31781020</td><td>36.36229</td><td>127.3563</td><td>75.90517</td><td>20.08155</td><td>19.66595</td><td>22.56466</td></tr>\n",
       "\t<tr><td> 100</td><td>  0.10</td><td>  49</td><td>  4719</td><td> 0.96306122</td><td>36.36229</td><td>127.3563</td><td>75.90517</td><td>20.08155</td><td>19.66595</td><td>22.56466</td></tr>\n",
       "\t<tr><td> 992</td><td>  8.00</td><td>3100</td><td>359598</td><td>11.50713600</td><td>34.57352</td><td>126.5993</td><td>79.02586</td><td>33.21368</td><td>20.01422</td><td>21.08922</td></tr>\n",
       "\t<tr><td>4912</td><td>120.00</td><td>3100</td><td>359598</td><td>56.97888310</td><td>34.57352</td><td>126.5993</td><td>79.02586</td><td>33.21368</td><td>20.01422</td><td>21.08922</td></tr>\n",
       "</tbody>\n",
       "</table>\n"
      ],
      "text/latex": [
       "A data.frame: 2522 x 11\n",
       "\\begin{tabular}{lllllllllll}\n",
       " 재배면적 & 생산계획량 & 시도전체면적 & 시도전채생산량 & 소재지생산량 & 위도 & 경도 & 습도 & 토양수분 & 기온 & 지면온도\\\\\n",
       " <dbl> & <dbl> & <int> & <int> & <dbl> & <dbl> & <dbl> & <dbl> & <dbl> & <dbl> & <dbl>\\\\\n",
       "\\hline\n",
       "\t  578.0 &  5.08 & 3100 & 359598 &  6.7047627 & 34.48683 & 126.2634 & 79.02586 & 33.21368 & 20.01422 & 21.08922\\\\\n",
       "\t  725.0 &  6.37 & 3100 & 359598 &  8.4099532 & 34.48683 & 126.2634 & 79.02586 & 33.21368 & 20.01422 & 21.08922\\\\\n",
       "\t 1959.0 & 17.22 & 3100 & 359598 & 22.7242736 & 34.48683 & 126.2634 & 79.02586 & 33.21368 & 20.01422 & 21.08922\\\\\n",
       "\t  204.0 &  1.79 & 3100 & 359598 &  2.3663868 & 34.48683 & 126.2634 & 79.02586 & 33.21368 & 20.01422 & 21.08922\\\\\n",
       "\t 2354.0 & 20.69 & 3100 & 359598 & 27.3062481 & 34.48683 & 126.2634 & 79.02586 & 33.21368 & 20.01422 & 21.08922\\\\\n",
       "\t 3127.7 & 27.49 & 3100 & 359598 & 36.2811182 & 34.48683 & 126.2634 & 79.02586 & 33.21368 & 20.01422 & 21.08922\\\\\n",
       "\t 1015.0 &  8.92 & 3100 & 359598 & 11.7739345 & 34.48683 & 126.2634 & 79.02586 & 33.21368 & 20.01422 & 21.08922\\\\\n",
       "\t 1470.0 & 12.92 & 3100 & 359598 & 17.0519052 & 34.48683 & 126.2634 & 79.02586 & 33.21368 & 20.01422 & 21.08922\\\\\n",
       "\t 1530.0 & 13.45 & 3100 & 359598 & 17.7479013 & 34.48683 & 126.2634 & 79.02586 & 33.21368 & 20.01422 & 21.08922\\\\\n",
       "\t  820.0 &  7.21 & 3100 & 359598 &  9.5119471 & 34.48683 & 126.2634 & 79.02586 & 33.21368 & 20.01422 & 21.08922\\\\\n",
       "\t 2180.0 & 19.16 & 3100 & 359598 & 25.2878594 & 34.48683 & 126.2634 & 79.02586 & 33.21368 & 20.01422 & 21.08922\\\\\n",
       "\t 2000.0 & 17.58 & 3100 & 359598 & 23.1998710 & 34.48683 & 126.2634 & 79.02586 & 33.21368 & 20.01422 & 21.08922\\\\\n",
       "\t 1000.0 &  8.79 & 3100 & 359598 & 11.5999355 & 34.48683 & 126.2634 & 79.02586 & 33.21368 & 20.01422 & 21.08922\\\\\n",
       "\t  800.0 &  7.03 & 3100 & 359598 &  9.2799484 & 34.48683 & 126.2634 & 79.02586 & 33.21368 & 20.01422 & 21.08922\\\\\n",
       "\t 1950.0 & 17.14 & 3100 & 359598 & 22.6198742 & 34.48683 & 126.2634 & 79.02586 & 33.21368 & 20.01422 & 21.08922\\\\\n",
       "\t 1050.0 &  9.23 & 3100 & 359598 & 12.1799323 & 34.48683 & 126.2634 & 79.02586 & 33.21368 & 20.01422 & 21.08922\\\\\n",
       "\t  959.0 &  8.43 & 3100 & 359598 & 11.1243381 & 34.48683 & 126.2634 & 79.02586 & 33.21368 & 20.01422 & 21.08922\\\\\n",
       "\t 1230.0 & 10.81 & 3100 & 359598 & 14.2679206 & 34.48683 & 126.2634 & 79.02586 & 33.21368 & 20.01422 & 21.08922\\\\\n",
       "\t  960.0 &  8.44 & 3100 & 359598 & 11.1359381 & 34.48683 & 126.2634 & 79.02586 & 33.21368 & 20.01422 & 21.08922\\\\\n",
       "\t 2824.0 & 24.82 & 3100 & 359598 & 32.7582178 & 34.48683 & 126.2634 & 79.02586 & 33.21368 & 20.01422 & 21.08922\\\\\n",
       "\t  177.0 &  1.56 & 3100 & 359598 &  2.0531886 & 34.48683 & 126.2634 & 79.02586 & 33.21368 & 20.01422 & 21.08922\\\\\n",
       "\t 3051.0 & 26.81 & 3100 & 359598 & 35.3914032 & 34.48683 & 126.2634 & 79.02586 & 33.21368 & 20.01422 & 21.08922\\\\\n",
       "\t  150.0 &  1.32 & 3100 & 359598 &  1.7399903 & 34.48683 & 126.2634 & 79.02586 & 33.21368 & 20.01422 & 21.08922\\\\\n",
       "\t   61.0 &  0.54 & 3100 & 359598 &  0.7075961 & 34.48683 & 126.2634 & 79.02586 & 33.21368 & 20.01422 & 21.08922\\\\\n",
       "\t  280.0 &  2.46 & 3100 & 359598 &  3.2479819 & 34.48683 & 126.2634 & 79.02586 & 33.21368 & 20.01422 & 21.08922\\\\\n",
       "\t 1162.2 & 10.21 & 3100 & 359598 & 13.4814450 & 34.48683 & 126.2634 & 79.02586 & 33.21368 & 20.01422 & 21.08922\\\\\n",
       "\t 1922.0 & 16.89 & 3100 & 359598 & 22.2950760 & 34.48683 & 126.2634 & 79.02586 & 33.21368 & 20.01422 & 21.08922\\\\\n",
       "\t  763.0 &  6.71 & 3100 & 359598 &  8.8507508 & 34.48683 & 126.2634 & 79.02586 & 33.21368 & 20.01422 & 21.08922\\\\\n",
       "\t 1352.0 & 11.88 & 3100 & 359598 & 15.6831128 & 34.48683 & 126.2634 & 79.02586 & 33.21368 & 20.01422 & 21.08922\\\\\n",
       "\t  981.0 &  8.62 & 3100 & 359598 & 11.3795367 & 34.48683 & 126.2634 & 79.02586 & 33.21368 & 20.01422 & 21.08922\\\\\n",
       "\t ... & ... & ... & ... & ... & ... & ... & ... & ... & ... & ...\\\\\n",
       "\t  100 &   0.10 &   49 &   4719 &  0.96306122 & 36.36229 & 127.3563 & 75.90517 & 20.08155 & 19.66595 & 22.56466\\\\\n",
       "\t  100 &   0.02 &   49 &   4719 &  0.96306122 & 36.36229 & 127.3563 & 75.90517 & 20.08155 & 19.66595 & 22.56466\\\\\n",
       "\t  100 &   0.10 &   49 &   4719 &  0.96306122 & 36.36229 & 127.3563 & 75.90517 & 20.08155 & 19.66595 & 22.56466\\\\\n",
       "\t   33 &   0.03 &   49 &   4719 &  0.31781020 & 36.36229 & 127.3563 & 75.90517 & 20.08155 & 19.66595 & 22.56466\\\\\n",
       "\t  100 &   0.03 &   49 &   4719 &  0.96306122 & 36.36229 & 127.3563 & 75.90517 & 20.08155 & 19.66595 & 22.56466\\\\\n",
       "\t  100 &   0.10 &   49 &   4719 &  0.96306122 & 36.36229 & 127.3563 & 75.90517 & 20.08155 & 19.66595 & 22.56466\\\\\n",
       "\t   33 &   0.05 &   49 &   4719 &  0.31781020 & 36.36229 & 127.3563 & 75.90517 & 20.08155 & 19.66595 & 22.56466\\\\\n",
       "\t   70 &   0.50 &   49 &   4719 &  0.67414286 & 36.36229 & 127.3563 & 75.90517 & 20.08155 & 19.66595 & 22.56466\\\\\n",
       "\t   70 &   0.50 &   49 &   4719 &  0.67414286 & 36.36229 & 127.3563 & 75.90517 & 20.08155 & 19.66595 & 22.56466\\\\\n",
       "\t   70 &   0.03 &   49 &   4719 &  0.67414286 & 36.36229 & 127.3563 & 75.90517 & 20.08155 & 19.66595 & 22.56466\\\\\n",
       "\t   10 &   0.01 &   49 &   4719 &  0.09630612 & 36.36229 & 127.3563 & 75.90517 & 20.08155 & 19.66595 & 22.56466\\\\\n",
       "\t   10 &   0.01 &   49 &   4719 &  0.09630612 & 36.36229 & 127.3563 & 75.90517 & 20.08155 & 19.66595 & 22.56466\\\\\n",
       "\t   50 &   0.20 &   49 &   4719 &  0.48153061 & 36.36229 & 127.3563 & 75.90517 & 20.08155 & 19.66595 & 22.56466\\\\\n",
       "\t   50 &   0.03 &   49 &   4719 &  0.48153061 & 36.36229 & 127.3563 & 75.90517 & 20.08155 & 19.66595 & 22.56466\\\\\n",
       "\t   50 &   0.05 &   49 &   4719 &  0.48153061 & 36.36229 & 127.3563 & 75.90517 & 20.08155 & 19.66595 & 22.56466\\\\\n",
       "\t   33 &   0.05 &   49 &   4719 &  0.31781020 & 36.36229 & 127.3563 & 75.90517 & 20.08155 & 19.66595 & 22.56466\\\\\n",
       "\t   50 &   0.05 &   49 &   4719 &  0.48153061 & 36.36229 & 127.3563 & 75.90517 & 20.08155 & 19.66595 & 22.56466\\\\\n",
       "\t   50 &   0.05 &   49 &   4719 &  0.48153061 & 36.36229 & 127.3563 & 75.90517 & 20.08155 & 19.66595 & 22.56466\\\\\n",
       "\t  100 &   0.50 &   49 &   4719 &  0.96306122 & 36.36229 & 127.3563 & 75.90517 & 20.08155 & 19.66595 & 22.56466\\\\\n",
       "\t  100 &   0.50 &   49 &   4719 &  0.96306122 & 36.36229 & 127.3563 & 75.90517 & 20.08155 & 19.66595 & 22.56466\\\\\n",
       "\t  100 &   0.50 &   49 &   4719 &  0.96306122 & 36.36229 & 127.3563 & 75.90517 & 20.08155 & 19.66595 & 22.56466\\\\\n",
       "\t   66 &   0.10 &   49 &   4719 &  0.63562041 & 36.36229 & 127.3563 & 75.90517 & 20.08155 & 19.66595 & 22.56466\\\\\n",
       "\t  100 &   0.50 &   49 &   4719 &  0.96306122 & 36.36229 & 127.3563 & 75.90517 & 20.08155 & 19.66595 & 22.56466\\\\\n",
       "\t  100 &   0.50 &   49 &   4719 &  0.96306122 & 36.36229 & 127.3563 & 75.90517 & 20.08155 & 19.66595 & 22.56466\\\\\n",
       "\t   66 &   0.10 &   49 &   4719 &  0.63562041 & 36.36229 & 127.3563 & 75.90517 & 20.08155 & 19.66595 & 22.56466\\\\\n",
       "\t  100 &   0.10 &   49 &   4719 &  0.96306122 & 36.36229 & 127.3563 & 75.90517 & 20.08155 & 19.66595 & 22.56466\\\\\n",
       "\t   33 &   0.03 &   49 &   4719 &  0.31781020 & 36.36229 & 127.3563 & 75.90517 & 20.08155 & 19.66595 & 22.56466\\\\\n",
       "\t  100 &   0.10 &   49 &   4719 &  0.96306122 & 36.36229 & 127.3563 & 75.90517 & 20.08155 & 19.66595 & 22.56466\\\\\n",
       "\t  992 &   8.00 & 3100 & 359598 & 11.50713600 & 34.57352 & 126.5993 & 79.02586 & 33.21368 & 20.01422 & 21.08922\\\\\n",
       "\t 4912 & 120.00 & 3100 & 359598 & 56.97888310 & 34.57352 & 126.5993 & 79.02586 & 33.21368 & 20.01422 & 21.08922\\\\\n",
       "\\end{tabular}\n"
      ],
      "text/markdown": [
       "\n",
       "A data.frame: 2522 x 11\n",
       "\n",
       "| 재배면적 &lt;dbl&gt; | 생산계획량 &lt;dbl&gt; | 시도전체면적 &lt;int&gt; | 시도전채생산량 &lt;int&gt; | 소재지생산량 &lt;dbl&gt; | 위도 &lt;dbl&gt; | 경도 &lt;dbl&gt; | 습도 &lt;dbl&gt; | 토양수분 &lt;dbl&gt; | 기온 &lt;dbl&gt; | 지면온도 &lt;dbl&gt; |\n",
       "|---|---|---|---|---|---|---|---|---|---|---|\n",
       "|  578.0 |  5.08 | 3100 | 359598 |  6.7047627 | 34.48683 | 126.2634 | 79.02586 | 33.21368 | 20.01422 | 21.08922 |\n",
       "|  725.0 |  6.37 | 3100 | 359598 |  8.4099532 | 34.48683 | 126.2634 | 79.02586 | 33.21368 | 20.01422 | 21.08922 |\n",
       "| 1959.0 | 17.22 | 3100 | 359598 | 22.7242736 | 34.48683 | 126.2634 | 79.02586 | 33.21368 | 20.01422 | 21.08922 |\n",
       "|  204.0 |  1.79 | 3100 | 359598 |  2.3663868 | 34.48683 | 126.2634 | 79.02586 | 33.21368 | 20.01422 | 21.08922 |\n",
       "| 2354.0 | 20.69 | 3100 | 359598 | 27.3062481 | 34.48683 | 126.2634 | 79.02586 | 33.21368 | 20.01422 | 21.08922 |\n",
       "| 3127.7 | 27.49 | 3100 | 359598 | 36.2811182 | 34.48683 | 126.2634 | 79.02586 | 33.21368 | 20.01422 | 21.08922 |\n",
       "| 1015.0 |  8.92 | 3100 | 359598 | 11.7739345 | 34.48683 | 126.2634 | 79.02586 | 33.21368 | 20.01422 | 21.08922 |\n",
       "| 1470.0 | 12.92 | 3100 | 359598 | 17.0519052 | 34.48683 | 126.2634 | 79.02586 | 33.21368 | 20.01422 | 21.08922 |\n",
       "| 1530.0 | 13.45 | 3100 | 359598 | 17.7479013 | 34.48683 | 126.2634 | 79.02586 | 33.21368 | 20.01422 | 21.08922 |\n",
       "|  820.0 |  7.21 | 3100 | 359598 |  9.5119471 | 34.48683 | 126.2634 | 79.02586 | 33.21368 | 20.01422 | 21.08922 |\n",
       "| 2180.0 | 19.16 | 3100 | 359598 | 25.2878594 | 34.48683 | 126.2634 | 79.02586 | 33.21368 | 20.01422 | 21.08922 |\n",
       "| 2000.0 | 17.58 | 3100 | 359598 | 23.1998710 | 34.48683 | 126.2634 | 79.02586 | 33.21368 | 20.01422 | 21.08922 |\n",
       "| 1000.0 |  8.79 | 3100 | 359598 | 11.5999355 | 34.48683 | 126.2634 | 79.02586 | 33.21368 | 20.01422 | 21.08922 |\n",
       "|  800.0 |  7.03 | 3100 | 359598 |  9.2799484 | 34.48683 | 126.2634 | 79.02586 | 33.21368 | 20.01422 | 21.08922 |\n",
       "| 1950.0 | 17.14 | 3100 | 359598 | 22.6198742 | 34.48683 | 126.2634 | 79.02586 | 33.21368 | 20.01422 | 21.08922 |\n",
       "| 1050.0 |  9.23 | 3100 | 359598 | 12.1799323 | 34.48683 | 126.2634 | 79.02586 | 33.21368 | 20.01422 | 21.08922 |\n",
       "|  959.0 |  8.43 | 3100 | 359598 | 11.1243381 | 34.48683 | 126.2634 | 79.02586 | 33.21368 | 20.01422 | 21.08922 |\n",
       "| 1230.0 | 10.81 | 3100 | 359598 | 14.2679206 | 34.48683 | 126.2634 | 79.02586 | 33.21368 | 20.01422 | 21.08922 |\n",
       "|  960.0 |  8.44 | 3100 | 359598 | 11.1359381 | 34.48683 | 126.2634 | 79.02586 | 33.21368 | 20.01422 | 21.08922 |\n",
       "| 2824.0 | 24.82 | 3100 | 359598 | 32.7582178 | 34.48683 | 126.2634 | 79.02586 | 33.21368 | 20.01422 | 21.08922 |\n",
       "|  177.0 |  1.56 | 3100 | 359598 |  2.0531886 | 34.48683 | 126.2634 | 79.02586 | 33.21368 | 20.01422 | 21.08922 |\n",
       "| 3051.0 | 26.81 | 3100 | 359598 | 35.3914032 | 34.48683 | 126.2634 | 79.02586 | 33.21368 | 20.01422 | 21.08922 |\n",
       "|  150.0 |  1.32 | 3100 | 359598 |  1.7399903 | 34.48683 | 126.2634 | 79.02586 | 33.21368 | 20.01422 | 21.08922 |\n",
       "|   61.0 |  0.54 | 3100 | 359598 |  0.7075961 | 34.48683 | 126.2634 | 79.02586 | 33.21368 | 20.01422 | 21.08922 |\n",
       "|  280.0 |  2.46 | 3100 | 359598 |  3.2479819 | 34.48683 | 126.2634 | 79.02586 | 33.21368 | 20.01422 | 21.08922 |\n",
       "| 1162.2 | 10.21 | 3100 | 359598 | 13.4814450 | 34.48683 | 126.2634 | 79.02586 | 33.21368 | 20.01422 | 21.08922 |\n",
       "| 1922.0 | 16.89 | 3100 | 359598 | 22.2950760 | 34.48683 | 126.2634 | 79.02586 | 33.21368 | 20.01422 | 21.08922 |\n",
       "|  763.0 |  6.71 | 3100 | 359598 |  8.8507508 | 34.48683 | 126.2634 | 79.02586 | 33.21368 | 20.01422 | 21.08922 |\n",
       "| 1352.0 | 11.88 | 3100 | 359598 | 15.6831128 | 34.48683 | 126.2634 | 79.02586 | 33.21368 | 20.01422 | 21.08922 |\n",
       "|  981.0 |  8.62 | 3100 | 359598 | 11.3795367 | 34.48683 | 126.2634 | 79.02586 | 33.21368 | 20.01422 | 21.08922 |\n",
       "| ... | ... | ... | ... | ... | ... | ... | ... | ... | ... | ... |\n",
       "|  100 |   0.10 |   49 |   4719 |  0.96306122 | 36.36229 | 127.3563 | 75.90517 | 20.08155 | 19.66595 | 22.56466 |\n",
       "|  100 |   0.02 |   49 |   4719 |  0.96306122 | 36.36229 | 127.3563 | 75.90517 | 20.08155 | 19.66595 | 22.56466 |\n",
       "|  100 |   0.10 |   49 |   4719 |  0.96306122 | 36.36229 | 127.3563 | 75.90517 | 20.08155 | 19.66595 | 22.56466 |\n",
       "|   33 |   0.03 |   49 |   4719 |  0.31781020 | 36.36229 | 127.3563 | 75.90517 | 20.08155 | 19.66595 | 22.56466 |\n",
       "|  100 |   0.03 |   49 |   4719 |  0.96306122 | 36.36229 | 127.3563 | 75.90517 | 20.08155 | 19.66595 | 22.56466 |\n",
       "|  100 |   0.10 |   49 |   4719 |  0.96306122 | 36.36229 | 127.3563 | 75.90517 | 20.08155 | 19.66595 | 22.56466 |\n",
       "|   33 |   0.05 |   49 |   4719 |  0.31781020 | 36.36229 | 127.3563 | 75.90517 | 20.08155 | 19.66595 | 22.56466 |\n",
       "|   70 |   0.50 |   49 |   4719 |  0.67414286 | 36.36229 | 127.3563 | 75.90517 | 20.08155 | 19.66595 | 22.56466 |\n",
       "|   70 |   0.50 |   49 |   4719 |  0.67414286 | 36.36229 | 127.3563 | 75.90517 | 20.08155 | 19.66595 | 22.56466 |\n",
       "|   70 |   0.03 |   49 |   4719 |  0.67414286 | 36.36229 | 127.3563 | 75.90517 | 20.08155 | 19.66595 | 22.56466 |\n",
       "|   10 |   0.01 |   49 |   4719 |  0.09630612 | 36.36229 | 127.3563 | 75.90517 | 20.08155 | 19.66595 | 22.56466 |\n",
       "|   10 |   0.01 |   49 |   4719 |  0.09630612 | 36.36229 | 127.3563 | 75.90517 | 20.08155 | 19.66595 | 22.56466 |\n",
       "|   50 |   0.20 |   49 |   4719 |  0.48153061 | 36.36229 | 127.3563 | 75.90517 | 20.08155 | 19.66595 | 22.56466 |\n",
       "|   50 |   0.03 |   49 |   4719 |  0.48153061 | 36.36229 | 127.3563 | 75.90517 | 20.08155 | 19.66595 | 22.56466 |\n",
       "|   50 |   0.05 |   49 |   4719 |  0.48153061 | 36.36229 | 127.3563 | 75.90517 | 20.08155 | 19.66595 | 22.56466 |\n",
       "|   33 |   0.05 |   49 |   4719 |  0.31781020 | 36.36229 | 127.3563 | 75.90517 | 20.08155 | 19.66595 | 22.56466 |\n",
       "|   50 |   0.05 |   49 |   4719 |  0.48153061 | 36.36229 | 127.3563 | 75.90517 | 20.08155 | 19.66595 | 22.56466 |\n",
       "|   50 |   0.05 |   49 |   4719 |  0.48153061 | 36.36229 | 127.3563 | 75.90517 | 20.08155 | 19.66595 | 22.56466 |\n",
       "|  100 |   0.50 |   49 |   4719 |  0.96306122 | 36.36229 | 127.3563 | 75.90517 | 20.08155 | 19.66595 | 22.56466 |\n",
       "|  100 |   0.50 |   49 |   4719 |  0.96306122 | 36.36229 | 127.3563 | 75.90517 | 20.08155 | 19.66595 | 22.56466 |\n",
       "|  100 |   0.50 |   49 |   4719 |  0.96306122 | 36.36229 | 127.3563 | 75.90517 | 20.08155 | 19.66595 | 22.56466 |\n",
       "|   66 |   0.10 |   49 |   4719 |  0.63562041 | 36.36229 | 127.3563 | 75.90517 | 20.08155 | 19.66595 | 22.56466 |\n",
       "|  100 |   0.50 |   49 |   4719 |  0.96306122 | 36.36229 | 127.3563 | 75.90517 | 20.08155 | 19.66595 | 22.56466 |\n",
       "|  100 |   0.50 |   49 |   4719 |  0.96306122 | 36.36229 | 127.3563 | 75.90517 | 20.08155 | 19.66595 | 22.56466 |\n",
       "|   66 |   0.10 |   49 |   4719 |  0.63562041 | 36.36229 | 127.3563 | 75.90517 | 20.08155 | 19.66595 | 22.56466 |\n",
       "|  100 |   0.10 |   49 |   4719 |  0.96306122 | 36.36229 | 127.3563 | 75.90517 | 20.08155 | 19.66595 | 22.56466 |\n",
       "|   33 |   0.03 |   49 |   4719 |  0.31781020 | 36.36229 | 127.3563 | 75.90517 | 20.08155 | 19.66595 | 22.56466 |\n",
       "|  100 |   0.10 |   49 |   4719 |  0.96306122 | 36.36229 | 127.3563 | 75.90517 | 20.08155 | 19.66595 | 22.56466 |\n",
       "|  992 |   8.00 | 3100 | 359598 | 11.50713600 | 34.57352 | 126.5993 | 79.02586 | 33.21368 | 20.01422 | 21.08922 |\n",
       "| 4912 | 120.00 | 3100 | 359598 | 56.97888310 | 34.57352 | 126.5993 | 79.02586 | 33.21368 | 20.01422 | 21.08922 |\n",
       "\n"
      ],
      "text/plain": [
       "     재배면적 생산계획량 시도전체면적 시도전채생산량 소재지생산량 위도    \n",
       "1     578.0    5.08      3100         359598          6.7047627   34.48683\n",
       "2     725.0    6.37      3100         359598          8.4099532   34.48683\n",
       "3    1959.0   17.22      3100         359598         22.7242736   34.48683\n",
       "4     204.0    1.79      3100         359598          2.3663868   34.48683\n",
       "5    2354.0   20.69      3100         359598         27.3062481   34.48683\n",
       "6    3127.7   27.49      3100         359598         36.2811182   34.48683\n",
       "7    1015.0    8.92      3100         359598         11.7739345   34.48683\n",
       "8    1470.0   12.92      3100         359598         17.0519052   34.48683\n",
       "9    1530.0   13.45      3100         359598         17.7479013   34.48683\n",
       "10    820.0    7.21      3100         359598          9.5119471   34.48683\n",
       "11   2180.0   19.16      3100         359598         25.2878594   34.48683\n",
       "12   2000.0   17.58      3100         359598         23.1998710   34.48683\n",
       "13   1000.0    8.79      3100         359598         11.5999355   34.48683\n",
       "14    800.0    7.03      3100         359598          9.2799484   34.48683\n",
       "15   1950.0   17.14      3100         359598         22.6198742   34.48683\n",
       "16   1050.0    9.23      3100         359598         12.1799323   34.48683\n",
       "17    959.0    8.43      3100         359598         11.1243381   34.48683\n",
       "18   1230.0   10.81      3100         359598         14.2679206   34.48683\n",
       "19    960.0    8.44      3100         359598         11.1359381   34.48683\n",
       "20   2824.0   24.82      3100         359598         32.7582178   34.48683\n",
       "21    177.0    1.56      3100         359598          2.0531886   34.48683\n",
       "22   3051.0   26.81      3100         359598         35.3914032   34.48683\n",
       "23    150.0    1.32      3100         359598          1.7399903   34.48683\n",
       "24     61.0    0.54      3100         359598          0.7075961   34.48683\n",
       "25    280.0    2.46      3100         359598          3.2479819   34.48683\n",
       "26   1162.2   10.21      3100         359598         13.4814450   34.48683\n",
       "27   1922.0   16.89      3100         359598         22.2950760   34.48683\n",
       "28    763.0    6.71      3100         359598          8.8507508   34.48683\n",
       "29   1352.0   11.88      3100         359598         15.6831128   34.48683\n",
       "30    981.0    8.62      3100         359598         11.3795367   34.48683\n",
       "...  ...      ...        ...          ...            ...          ...     \n",
       "2493  100       0.10       49           4719          0.96306122  36.36229\n",
       "2494  100       0.02       49           4719          0.96306122  36.36229\n",
       "2495  100       0.10       49           4719          0.96306122  36.36229\n",
       "2496   33       0.03       49           4719          0.31781020  36.36229\n",
       "2497  100       0.03       49           4719          0.96306122  36.36229\n",
       "2498  100       0.10       49           4719          0.96306122  36.36229\n",
       "2499   33       0.05       49           4719          0.31781020  36.36229\n",
       "2500   70       0.50       49           4719          0.67414286  36.36229\n",
       "2501   70       0.50       49           4719          0.67414286  36.36229\n",
       "2502   70       0.03       49           4719          0.67414286  36.36229\n",
       "2503   10       0.01       49           4719          0.09630612  36.36229\n",
       "2504   10       0.01       49           4719          0.09630612  36.36229\n",
       "2505   50       0.20       49           4719          0.48153061  36.36229\n",
       "2506   50       0.03       49           4719          0.48153061  36.36229\n",
       "2507   50       0.05       49           4719          0.48153061  36.36229\n",
       "2508   33       0.05       49           4719          0.31781020  36.36229\n",
       "2509   50       0.05       49           4719          0.48153061  36.36229\n",
       "2510   50       0.05       49           4719          0.48153061  36.36229\n",
       "2511  100       0.50       49           4719          0.96306122  36.36229\n",
       "2512  100       0.50       49           4719          0.96306122  36.36229\n",
       "2513  100       0.50       49           4719          0.96306122  36.36229\n",
       "2514   66       0.10       49           4719          0.63562041  36.36229\n",
       "2515  100       0.50       49           4719          0.96306122  36.36229\n",
       "2516  100       0.50       49           4719          0.96306122  36.36229\n",
       "2517   66       0.10       49           4719          0.63562041  36.36229\n",
       "2518  100       0.10       49           4719          0.96306122  36.36229\n",
       "2519   33       0.03       49           4719          0.31781020  36.36229\n",
       "2520  100       0.10       49           4719          0.96306122  36.36229\n",
       "2521  992       8.00     3100         359598         11.50713600  34.57352\n",
       "2522 4912     120.00     3100         359598         56.97888310  34.57352\n",
       "     경도     습도     토양수분 기온     지면온도\n",
       "1    126.2634 79.02586 33.21368 20.01422 21.08922\n",
       "2    126.2634 79.02586 33.21368 20.01422 21.08922\n",
       "3    126.2634 79.02586 33.21368 20.01422 21.08922\n",
       "4    126.2634 79.02586 33.21368 20.01422 21.08922\n",
       "5    126.2634 79.02586 33.21368 20.01422 21.08922\n",
       "6    126.2634 79.02586 33.21368 20.01422 21.08922\n",
       "7    126.2634 79.02586 33.21368 20.01422 21.08922\n",
       "8    126.2634 79.02586 33.21368 20.01422 21.08922\n",
       "9    126.2634 79.02586 33.21368 20.01422 21.08922\n",
       "10   126.2634 79.02586 33.21368 20.01422 21.08922\n",
       "11   126.2634 79.02586 33.21368 20.01422 21.08922\n",
       "12   126.2634 79.02586 33.21368 20.01422 21.08922\n",
       "13   126.2634 79.02586 33.21368 20.01422 21.08922\n",
       "14   126.2634 79.02586 33.21368 20.01422 21.08922\n",
       "15   126.2634 79.02586 33.21368 20.01422 21.08922\n",
       "16   126.2634 79.02586 33.21368 20.01422 21.08922\n",
       "17   126.2634 79.02586 33.21368 20.01422 21.08922\n",
       "18   126.2634 79.02586 33.21368 20.01422 21.08922\n",
       "19   126.2634 79.02586 33.21368 20.01422 21.08922\n",
       "20   126.2634 79.02586 33.21368 20.01422 21.08922\n",
       "21   126.2634 79.02586 33.21368 20.01422 21.08922\n",
       "22   126.2634 79.02586 33.21368 20.01422 21.08922\n",
       "23   126.2634 79.02586 33.21368 20.01422 21.08922\n",
       "24   126.2634 79.02586 33.21368 20.01422 21.08922\n",
       "25   126.2634 79.02586 33.21368 20.01422 21.08922\n",
       "26   126.2634 79.02586 33.21368 20.01422 21.08922\n",
       "27   126.2634 79.02586 33.21368 20.01422 21.08922\n",
       "28   126.2634 79.02586 33.21368 20.01422 21.08922\n",
       "29   126.2634 79.02586 33.21368 20.01422 21.08922\n",
       "30   126.2634 79.02586 33.21368 20.01422 21.08922\n",
       "...  ...      ...      ...      ...      ...     \n",
       "2493 127.3563 75.90517 20.08155 19.66595 22.56466\n",
       "2494 127.3563 75.90517 20.08155 19.66595 22.56466\n",
       "2495 127.3563 75.90517 20.08155 19.66595 22.56466\n",
       "2496 127.3563 75.90517 20.08155 19.66595 22.56466\n",
       "2497 127.3563 75.90517 20.08155 19.66595 22.56466\n",
       "2498 127.3563 75.90517 20.08155 19.66595 22.56466\n",
       "2499 127.3563 75.90517 20.08155 19.66595 22.56466\n",
       "2500 127.3563 75.90517 20.08155 19.66595 22.56466\n",
       "2501 127.3563 75.90517 20.08155 19.66595 22.56466\n",
       "2502 127.3563 75.90517 20.08155 19.66595 22.56466\n",
       "2503 127.3563 75.90517 20.08155 19.66595 22.56466\n",
       "2504 127.3563 75.90517 20.08155 19.66595 22.56466\n",
       "2505 127.3563 75.90517 20.08155 19.66595 22.56466\n",
       "2506 127.3563 75.90517 20.08155 19.66595 22.56466\n",
       "2507 127.3563 75.90517 20.08155 19.66595 22.56466\n",
       "2508 127.3563 75.90517 20.08155 19.66595 22.56466\n",
       "2509 127.3563 75.90517 20.08155 19.66595 22.56466\n",
       "2510 127.3563 75.90517 20.08155 19.66595 22.56466\n",
       "2511 127.3563 75.90517 20.08155 19.66595 22.56466\n",
       "2512 127.3563 75.90517 20.08155 19.66595 22.56466\n",
       "2513 127.3563 75.90517 20.08155 19.66595 22.56466\n",
       "2514 127.3563 75.90517 20.08155 19.66595 22.56466\n",
       "2515 127.3563 75.90517 20.08155 19.66595 22.56466\n",
       "2516 127.3563 75.90517 20.08155 19.66595 22.56466\n",
       "2517 127.3563 75.90517 20.08155 19.66595 22.56466\n",
       "2518 127.3563 75.90517 20.08155 19.66595 22.56466\n",
       "2519 127.3563 75.90517 20.08155 19.66595 22.56466\n",
       "2520 127.3563 75.90517 20.08155 19.66595 22.56466\n",
       "2521 126.5993 79.02586 33.21368 20.01422 21.08922\n",
       "2522 126.5993 79.02586 33.21368 20.01422 21.08922"
      ]
     },
     "metadata": {},
     "output_type": "display_data"
    }
   ],
   "source": [
    "test"
   ]
  },
  {
   "cell_type": "code",
   "execution_count": 375,
   "metadata": {
    "vscode": {
     "languageId": "r"
    }
   },
   "outputs": [
    {
     "data": {
      "image/png": "[encoded data removed]",
      "text/plain": [
       "plot without title"
      ]
     },
     "metadata": {
      "image/png": {
       "height": 360,
       "width": 480
      }
     },
     "output_type": "display_data"
    }
   ],
   "source": [
    "par(bg = 'white')\n",
    "plot(test)"
   ]
  },
  {
   "cell_type": "code",
   "execution_count": 376,
   "metadata": {
    "vscode": {
     "languageId": "r"
    }
   },
   "outputs": [
    {
     "data": {
      "text/html": [
       "<table class=\"dataframe\">\n",
       "<caption>A matrix: 11 x 11 of type dbl</caption>\n",
       "<thead>\n",
       "\t<tr><th></th><th scope=col>재배면적</th><th scope=col>생산계획량</th><th scope=col>시도전체면적</th><th scope=col>시도전채생산량</th><th scope=col>소재지생산량</th><th scope=col>위도</th><th scope=col>경도</th><th scope=col>습도</th><th scope=col>토양수분</th><th scope=col>기온</th><th scope=col>지면온도</th></tr>\n",
       "</thead>\n",
       "<tbody>\n",
       "\t<tr><th scope=row>재배면적</th><td> 1.00000000</td><td> 0.80419466</td><td> 0.1487315</td><td> 0.1225206</td><td> 0.98246724</td><td>-0.09757025</td><td> 0.01218995</td><td> 0.1025654</td><td> 0.11124333</td><td> 0.07143433</td><td>-0.09688522</td></tr>\n",
       "\t<tr><th scope=row>생산계획량</th><td> 0.80419466</td><td> 1.00000000</td><td> 0.2112626</td><td> 0.1669075</td><td> 0.77587489</td><td>-0.14417160</td><td> 0.04386083</td><td> 0.1847583</td><td> 0.13469242</td><td> 0.10044747</td><td>-0.11178265</td></tr>\n",
       "\t<tr><th scope=row>시도전체면적</th><td> 0.14873146</td><td> 0.21126263</td><td> 1.0000000</td><td> 0.9631020</td><td> 0.21034155</td><td>-0.87757962</td><td>-0.41032792</td><td> 0.9109222</td><td> 0.39019838</td><td> 0.54667460</td><td>-0.71606797</td></tr>\n",
       "\t<tr><th scope=row>시도전채생산량</th><td> 0.12252056</td><td> 0.16690754</td><td> 0.9631020</td><td> 1.0000000</td><td> 0.21277166</td><td>-0.93189813</td><td>-0.61767632</td><td> 0.9061532</td><td> 0.29462058</td><td> 0.65584852</td><td>-0.80470502</td></tr>\n",
       "\t<tr><th scope=row>소재지생산량</th><td> 0.98246724</td><td> 0.77587489</td><td> 0.2103416</td><td> 0.2127717</td><td> 1.00000000</td><td>-0.18973126</td><td>-0.11506146</td><td> 0.1732401</td><td> 0.09610141</td><td> 0.17004239</td><td>-0.18603208</td></tr>\n",
       "\t<tr><th scope=row>위도</th><td>-0.09757025</td><td>-0.14417160</td><td>-0.8775796</td><td>-0.9318981</td><td>-0.18973126</td><td> 1.00000000</td><td> 0.56815330</td><td>-0.9139813</td><td>-0.41600485</td><td>-0.67457149</td><td> 0.87592526</td></tr>\n",
       "\t<tr><th scope=row>경도</th><td> 0.01218995</td><td> 0.04386083</td><td>-0.4103279</td><td>-0.6176763</td><td>-0.11506146</td><td> 0.56815330</td><td> 1.00000000</td><td>-0.4539579</td><td> 0.25351034</td><td>-0.78511409</td><td> 0.55471975</td></tr>\n",
       "\t<tr><th scope=row>습도</th><td> 0.10256541</td><td> 0.18475829</td><td> 0.9109222</td><td> 0.9061532</td><td> 0.17324013</td><td>-0.91398131</td><td>-0.45395792</td><td> 1.0000000</td><td> 0.34055578</td><td> 0.63579706</td><td>-0.64026532</td></tr>\n",
       "\t<tr><th scope=row>토양수분</th><td> 0.11124333</td><td> 0.13469242</td><td> 0.3901984</td><td> 0.2946206</td><td> 0.09610141</td><td>-0.41600485</td><td> 0.25351034</td><td> 0.3405558</td><td> 1.00000000</td><td> 0.06179331</td><td>-0.32733595</td></tr>\n",
       "\t<tr><th scope=row>기온</th><td> 0.07143433</td><td> 0.10044747</td><td> 0.5466746</td><td> 0.6558485</td><td> 0.17004239</td><td>-0.67457149</td><td>-0.78511409</td><td> 0.6357971</td><td> 0.06179331</td><td> 1.00000000</td><td>-0.53036578</td></tr>\n",
       "\t<tr><th scope=row>지면온도</th><td>-0.09688522</td><td>-0.11178265</td><td>-0.7160680</td><td>-0.8047050</td><td>-0.18603208</td><td> 0.87592526</td><td> 0.55471975</td><td>-0.6402653</td><td>-0.32733595</td><td>-0.53036578</td><td> 1.00000000</td></tr>\n",
       "</tbody>\n",
       "</table>\n"
      ],
      "text/latex": [
       "A matrix: 11 x 11 of type dbl\n",
       "\\begin{tabular}{r|lllllllllll}\n",
       "  & 재배면적 & 생산계획량 & 시도전체면적 & 시도전채생산량 & 소재지생산량 & 위도 & 경도 & 습도 & 토양수분 & 기온 & 지면온도\\\\\n",
       "\\hline\n",
       "\t재배면적 &  1.00000000 &  0.80419466 &  0.1487315 &  0.1225206 &  0.98246724 & -0.09757025 &  0.01218995 &  0.1025654 &  0.11124333 &  0.07143433 & -0.09688522\\\\\n",
       "\t생산계획량 &  0.80419466 &  1.00000000 &  0.2112626 &  0.1669075 &  0.77587489 & -0.14417160 &  0.04386083 &  0.1847583 &  0.13469242 &  0.10044747 & -0.11178265\\\\\n",
       "\t시도전체면적 &  0.14873146 &  0.21126263 &  1.0000000 &  0.9631020 &  0.21034155 & -0.87757962 & -0.41032792 &  0.9109222 &  0.39019838 &  0.54667460 & -0.71606797\\\\\n",
       "\t시도전채생산량 &  0.12252056 &  0.16690754 &  0.9631020 &  1.0000000 &  0.21277166 & -0.93189813 & -0.61767632 &  0.9061532 &  0.29462058 &  0.65584852 & -0.80470502\\\\\n",
       "\t소재지생산량 &  0.98246724 &  0.77587489 &  0.2103416 &  0.2127717 &  1.00000000 & -0.18973126 & -0.11506146 &  0.1732401 &  0.09610141 &  0.17004239 & -0.18603208\\\\\n",
       "\t위도 & -0.09757025 & -0.14417160 & -0.8775796 & -0.9318981 & -0.18973126 &  1.00000000 &  0.56815330 & -0.9139813 & -0.41600485 & -0.67457149 &  0.87592526\\\\\n",
       "\t경도 &  0.01218995 &  0.04386083 & -0.4103279 & -0.6176763 & -0.11506146 &  0.56815330 &  1.00000000 & -0.4539579 &  0.25351034 & -0.78511409 &  0.55471975\\\\\n",
       "\t습도 &  0.10256541 &  0.18475829 &  0.9109222 &  0.9061532 &  0.17324013 & -0.91398131 & -0.45395792 &  1.0000000 &  0.34055578 &  0.63579706 & -0.64026532\\\\\n",
       "\t토양수분 &  0.11124333 &  0.13469242 &  0.3901984 &  0.2946206 &  0.09610141 & -0.41600485 &  0.25351034 &  0.3405558 &  1.00000000 &  0.06179331 & -0.32733595\\\\\n",
       "\t기온 &  0.07143433 &  0.10044747 &  0.5466746 &  0.6558485 &  0.17004239 & -0.67457149 & -0.78511409 &  0.6357971 &  0.06179331 &  1.00000000 & -0.53036578\\\\\n",
       "\t지면온도 & -0.09688522 & -0.11178265 & -0.7160680 & -0.8047050 & -0.18603208 &  0.87592526 &  0.55471975 & -0.6402653 & -0.32733595 & -0.53036578 &  1.00000000\\\\\n",
       "\\end{tabular}\n"
      ],
      "text/markdown": [
       "\n",
       "A matrix: 11 x 11 of type dbl\n",
       "\n",
       "| <!--/--> | 재배면적 | 생산계획량 | 시도전체면적 | 시도전채생산량 | 소재지생산량 | 위도 | 경도 | 습도 | 토양수분 | 기온 | 지면온도 |\n",
       "|---|---|---|---|---|---|---|---|---|---|---|---|\n",
       "| 재배면적 |  1.00000000 |  0.80419466 |  0.1487315 |  0.1225206 |  0.98246724 | -0.09757025 |  0.01218995 |  0.1025654 |  0.11124333 |  0.07143433 | -0.09688522 |\n",
       "| 생산계획량 |  0.80419466 |  1.00000000 |  0.2112626 |  0.1669075 |  0.77587489 | -0.14417160 |  0.04386083 |  0.1847583 |  0.13469242 |  0.10044747 | -0.11178265 |\n",
       "| 시도전체면적 |  0.14873146 |  0.21126263 |  1.0000000 |  0.9631020 |  0.21034155 | -0.87757962 | -0.41032792 |  0.9109222 |  0.39019838 |  0.54667460 | -0.71606797 |\n",
       "| 시도전채생산량 |  0.12252056 |  0.16690754 |  0.9631020 |  1.0000000 |  0.21277166 | -0.93189813 | -0.61767632 |  0.9061532 |  0.29462058 |  0.65584852 | -0.80470502 |\n",
       "| 소재지생산량 |  0.98246724 |  0.77587489 |  0.2103416 |  0.2127717 |  1.00000000 | -0.18973126 | -0.11506146 |  0.1732401 |  0.09610141 |  0.17004239 | -0.18603208 |\n",
       "| 위도 | -0.09757025 | -0.14417160 | -0.8775796 | -0.9318981 | -0.18973126 |  1.00000000 |  0.56815330 | -0.9139813 | -0.41600485 | -0.67457149 |  0.87592526 |\n",
       "| 경도 |  0.01218995 |  0.04386083 | -0.4103279 | -0.6176763 | -0.11506146 |  0.56815330 |  1.00000000 | -0.4539579 |  0.25351034 | -0.78511409 |  0.55471975 |\n",
       "| 습도 |  0.10256541 |  0.18475829 |  0.9109222 |  0.9061532 |  0.17324013 | -0.91398131 | -0.45395792 |  1.0000000 |  0.34055578 |  0.63579706 | -0.64026532 |\n",
       "| 토양수분 |  0.11124333 |  0.13469242 |  0.3901984 |  0.2946206 |  0.09610141 | -0.41600485 |  0.25351034 |  0.3405558 |  1.00000000 |  0.06179331 | -0.32733595 |\n",
       "| 기온 |  0.07143433 |  0.10044747 |  0.5466746 |  0.6558485 |  0.17004239 | -0.67457149 | -0.78511409 |  0.6357971 |  0.06179331 |  1.00000000 | -0.53036578 |\n",
       "| 지면온도 | -0.09688522 | -0.11178265 | -0.7160680 | -0.8047050 | -0.18603208 |  0.87592526 |  0.55471975 | -0.6402653 | -0.32733595 | -0.53036578 |  1.00000000 |\n",
       "\n"
      ],
      "text/plain": [
       "               재배면적    생산계획량  시도전체면적 시도전채생산량 소재지생산량\n",
       "재배면적        1.00000000  0.80419466  0.1487315    0.1225206      0.98246724 \n",
       "생산계획량      0.80419466  1.00000000  0.2112626    0.1669075      0.77587489 \n",
       "시도전체면적    0.14873146  0.21126263  1.0000000    0.9631020      0.21034155 \n",
       "시도전채생산량  0.12252056  0.16690754  0.9631020    1.0000000      0.21277166 \n",
       "소재지생산량    0.98246724  0.77587489  0.2103416    0.2127717      1.00000000 \n",
       "위도           -0.09757025 -0.14417160 -0.8775796   -0.9318981     -0.18973126 \n",
       "경도            0.01218995  0.04386083 -0.4103279   -0.6176763     -0.11506146 \n",
       "습도            0.10256541  0.18475829  0.9109222    0.9061532      0.17324013 \n",
       "토양수분        0.11124333  0.13469242  0.3901984    0.2946206      0.09610141 \n",
       "기온            0.07143433  0.10044747  0.5466746    0.6558485      0.17004239 \n",
       "지면온도       -0.09688522 -0.11178265 -0.7160680   -0.8047050     -0.18603208 \n",
       "               위도        경도        습도       토양수분    기온       \n",
       "재배면적       -0.09757025  0.01218995  0.1025654  0.11124333  0.07143433\n",
       "생산계획량     -0.14417160  0.04386083  0.1847583  0.13469242  0.10044747\n",
       "시도전체면적   -0.87757962 -0.41032792  0.9109222  0.39019838  0.54667460\n",
       "시도전채생산량 -0.93189813 -0.61767632  0.9061532  0.29462058  0.65584852\n",
       "소재지생산량   -0.18973126 -0.11506146  0.1732401  0.09610141  0.17004239\n",
       "위도            1.00000000  0.56815330 -0.9139813 -0.41600485 -0.67457149\n",
       "경도            0.56815330  1.00000000 -0.4539579  0.25351034 -0.78511409\n",
       "습도           -0.91398131 -0.45395792  1.0000000  0.34055578  0.63579706\n",
       "토양수분       -0.41600485  0.25351034  0.3405558  1.00000000  0.06179331\n",
       "기온           -0.67457149 -0.78511409  0.6357971  0.06179331  1.00000000\n",
       "지면온도        0.87592526  0.55471975 -0.6402653 -0.32733595 -0.53036578\n",
       "               지면온도   \n",
       "재배면적       -0.09688522\n",
       "생산계획량     -0.11178265\n",
       "시도전체면적   -0.71606797\n",
       "시도전채생산량 -0.80470502\n",
       "소재지생산량   -0.18603208\n",
       "위도            0.87592526\n",
       "경도            0.55471975\n",
       "습도           -0.64026532\n",
       "토양수분       -0.32733595\n",
       "기온           -0.53036578\n",
       "지면온도        1.00000000"
      ]
     },
     "metadata": {},
     "output_type": "display_data"
    }
   ],
   "source": [
    "cor(test)"
   ]
  },
  {
   "cell_type": "code",
   "execution_count": 378,
   "metadata": {
    "vscode": {
     "languageId": "r"
    }
   },
   "outputs": [],
   "source": [
    "# \"열이름\" 열을 삭제\n",
    "secondTest_rev2<- secondTest\n",
    "secondTest_rev2$지점명 <- NULL\n",
    "\n",
    "11"
   ]
  }
 ],
 "metadata": {
  "kernelspec": {
   "display_name": "R",
   "language": "R",
   "name": "r"
  },
  "language_info": {
   "codemirror_mode": "r",
   "file_extension": ".r",
   "mimetype": "text/x-r-source",
   "name": "R",
   "pygments_lexer": "r",
   "version": "4.3.3"
  }
 },
 "nbformat": 4,
 "nbformat_minor": 2
}
