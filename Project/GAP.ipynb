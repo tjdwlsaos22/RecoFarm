{
 "cells": [
  {
   "cell_type": "code",
   "execution_count": null,
   "metadata": {
    "vscode": {
     "languageId": "r"
    }
   },
   "outputs": [],
   "source": [
    "options(warn = -1) \n",
    "options(repr.plot.width=15, repr.plot.height=9)\n",
    "options(scipen = 100)\n",
    "Sys.setlocale(category = \"LC_ALL\", locale = \"ko_KR.UTF-8\")\n",
    "\n",
    "library(dplyr)\n",
    "library(stringr)"
   ]
  },
  {
   "cell_type": "code",
   "execution_count": null,
   "metadata": {
    "vscode": {
     "languageId": "r"
    }
   },
   "outputs": [],
   "source": [
    "\n",
    "## 2022년 데이터 + 2023 데이터  fetch  ( 3월 달 데이터 만 ( 9월 데이터는 제외한다. ))\n",
    "\n",
    "현황202203 <- read.csv(\"Data/GAP/농림축산식품부+국립농산물품질관리원_농산물우수관리(GAP)+인증농가+현황_20220324.csv\", fileEncoding=\"EUC-KR\")\n",
    "현황202303 <- read.csv(\"Data/GAP/농림축산식품부+국립농산물품질관리원+농산물우수관리(GAP)+인증농가+현황_20230321.csv\", fileEncoding=\"EUC-KR\")\n",
    "\n",
    "소재지배추재배면적22년3월 <- subset(현황202203, 품목 == '배추')\n",
    "소재지배추재배면적23년3월 <- subset(현황202303, 품목 == '배추')\n",
    "\n",
    "## 소재지의 시도 정보 분할 하여 칼럼추가 \n",
    "소재지배추재배면적22년3월$시도 <- str_split_i(소재지배추재배면적22년3월$소재지,\" \",1);\n",
    "소재지배추재배면적23년3월$시도 <- str_split_i(소재지배추재배면적23년3월$소재지,\" \",1);"
   ]
  },
  {
   "cell_type": "code",
   "execution_count": null,
   "metadata": {
    "vscode": {
     "languageId": "r"
    }
   },
   "outputs": [],
   "source": [
    "## 생산 계획량 정보는 무쓸모 -> 제거\n",
    "소재지배추재배면적22년3월 <- arrange(distinct(소재지배추재배면적22년3월[,-5]),인증번호)\n",
    "소재지배추재배면적23년3월 <- arrange(distinct(소재지배추재배면적23년3월[,-5]),인증번호)"
   ]
  },
  {
   "cell_type": "code",
   "execution_count": null,
   "metadata": {
    "vscode": {
     "languageId": "r"
    }
   },
   "outputs": [],
   "source": [
    "## KOSIS 전국 시도별 노지 배추 연간 생상량 통계 자료 \n",
    "시도별생산량22년 <- read.csv(\"Data/GAP/2022 배추생산량.csv\", skip=1)\n",
    "시도별생산량23년 <- read.csv(\"Data/GAP/2023 배추생산량.csv\", skip=1)"
   ]
  },
  {
   "cell_type": "code",
   "execution_count": null,
   "metadata": {
    "vscode": {
     "languageId": "r"
    }
   },
   "outputs": [],
   "source": [
    "## 연도 칼럼 추가 \n",
    "시도별생산량23년$연도 <- 2023\n",
    "시도별생산량22년$연도 <- 2022"
   ]
  },
  {
   "cell_type": "code",
   "execution_count": null,
   "metadata": {
    "vscode": {
     "languageId": "r"
    }
   },
   "outputs": [],
   "source": [
    "## GAP 농가인증 소재지별 데이터 와 KOSIS 총생산량 데이터 매칭  \n",
    "for( i in 1:nrow(소재지배추재배면적23년3월)){\n",
    "    for( j in 1:nrow(시도별생산량23년)){\n",
    "        if(소재지배추재배면적23년3월$시도[i] == 시도별생산량23년$시도[j]){\n",
    "            \n",
    "            소재지배추재배면적23년3월$시도전체면적[i]  <- 시도별생산량23년[j,2]\n",
    "            소재지배추재배면적23년3월$시도전체생산량[i]  <- 시도별생산량23년[j,4]\n",
    "            \n",
    "        }\n",
    "    }\n",
    "}"
   ]
  },
  {
   "cell_type": "code",
   "execution_count": null,
   "metadata": {
    "vscode": {
     "languageId": "r"
    }
   },
   "outputs": [],
   "source": [
    "## 위도 와 경도 칼럼 추가\n",
    "소재지배추재배면적23년3월$위도 <- c(0)\n",
    "소재지배추재배면적23년3월$경도 <- c(0)\n",
    "\n",
    "inputlocalLatLng <- function(주소, 위도값, 경도값) {\n",
    "\n",
    "    소재지배추재배면적23년3월$위도 <- ifelse(소재지배추재배면적23년3월$소재지 == 주소, 위도값, 소재지배추재배면적23년3월$위도)\n",
    "    소재지배추재배면적23년3월$경도 <- ifelse(소재지배추재배면적23년3월$소재지 == 주소, 경도값, 소재지배추재배면적23년3월$경도)\n",
    "\n",
    "    return(소재지배추재배면적23년3월)\n",
    "}"
   ]
  },
  {
   "cell_type": "code",
   "execution_count": null,
   "metadata": {
    "vscode": {
     "languageId": "r"
    }
   },
   "outputs": [],
   "source": [
    "소재지배추재배면적23년3월 <- inputlocalLatLng('충청남도 부여군', 36.2757637166445, 126.909772812745)\n",
    "소재지배추재배면적23년3월 <- inputlocalLatLng('경기도 고양시 일산서구',37.6751982696279,126.750669084916)\n",
    "소재지배추재배면적23년3월 <- inputlocalLatLng('강원특별자치도 영월군',37.1836860419285,128.461783934728)\n",
    "소재지배추재배면적23년3월 <- inputlocalLatLng('경상북도 포항시 북구',36.0437417308541,129.368575852182)\n",
    "소재지배추재배면적23년3월 <- inputlocalLatLng('경기도 광명시',37.4785674780314,126.864647815161)\n",
    "소재지배추재배면적23년3월 <- inputlocalLatLng('전라남도 곡성군',35.2820258392354,127.291929639637)\n",
    "소재지배추재배면적23년3월 <- inputlocalLatLng('전라남도 강진군',34.6420615268858,126.767213471898)\n",
    "소재지배추재배면적23년3월 <- inputlocalLatLng('강원특별자치도 평창군',37.3707820404543,128.39016179013)\n",
    "소재지배추재배면적23년3월 <- inputlocalLatLng('전북특별자치도 김제시',35.8035816671869,126.88064623757)\n",
    "소재지배추재배면적23년3월 <- inputlocalLatLng('전라남도 구례군',35.202496361707,127.46270363657)\n",
    "소재지배추재배면적23년3월 <- inputlocalLatLng('경기도 안산시 상록구',37.3009718344206,126.846482563885)\n",
    "소재지배추재배면적23년3월 <- inputlocalLatLng('경기도 부천시',37.5035117792843,126.766038450927)\n",
    "소재지배추재배면적23년3월 <- inputlocalLatLng('대전광역시 유성구',36.3622851114392,127.356257593324)\n",
    "소재지배추재배면적23년3월 <- inputlocalLatLng('충청북도 충주시',36.9910490160221,127.925961035784)\n",
    "소재지배추재배면적23년3월 <- inputlocalLatLng('충청북도 진천군',36.855378991826,127.435536085976)\n",
    "소재지배추재배면적23년3월 <- inputlocalLatLng('경상북도 경주시',35.8562184605051,129.22478171309)\n",
    "소재지배추재배면적23년3월 <- inputlocalLatLng('전라남도 진도군',34.486828620348,126.263446186439)\n",
    "소재지배추재배면적23년3월 <- inputlocalLatLng('경기도 용인시 처인구', 37.2343060386837,127.201357139725)\n",
    "소재지배추재배면적23년3월 <- inputlocalLatLng('전라남도 해남군', 34.5735165884839,126.599270065365)\n",
    "소재지배추재배면적23년3월 <- inputlocalLatLng('경상북도 영양군', 36.6667028574142,129.112510246081)\n",
    "소재지배추재배면적23년3월 <- inputlocalLatLng('충청북도 제천시', 37.1326577745507,128.19098500203)\n",
    "소재지배추재배면적23년3월 <- inputlocalLatLng('전라남도 나주시', 35.0158976865702,126.71082925505)\n",
    "소재지배추재배면적23년3월 <- inputlocalLatLng('전북특별자치도 익산시', 35.9482628600199,126.957744486694)\n",
    "소재지배추재배면적23년3월 <- inputlocalLatLng('경상북도 영덕군',36.4150618798074,129.365306771359)\n",
    "소재지배추재배면적23년3월 <- inputlocalLatLng('충청북도 괴산군', 36.8153571576607, 127.786652163107)\n",
    "소재지배추재배면적23년3월 <- inputlocalLatLng('전라북도 정읍시', 35.5698491739949, 126.855996873997)\n",
    "소재지배추재배면적23년3월 <- inputlocalLatLng('전라북도 부안군', 35.7316577924649, 126.733011321782)\n",
    "소재지배추재배면적23년3월 <- inputlocalLatLng('경상남도 김해시', 35.2285653558628, 128.88936269803)\n",
    "소재지배추재배면적23년3월 <- inputlocalLatLng('경상남도 통영시', 34.8544448244005, 128.43314921138)"
   ]
  },
  {
   "cell_type": "code",
   "execution_count": null,
   "metadata": {
    "vscode": {
     "languageId": "r"
    }
   },
   "outputs": [],
   "source": [
    "소재지배추재배면적22년3월$연도 <- 2022\n",
    "소재지배추재배면적23년3월$연도 <- 2023"
   ]
  },
  {
   "cell_type": "code",
   "execution_count": null,
   "metadata": {
    "vscode": {
     "languageId": "r"
    }
   },
   "outputs": [],
   "source": [
    "# 2022, 2023 년도 데이터 병합 \n",
    "소재지별배추재배면적 <- rbind(소재지배추재배면적22년3월,소재지배추재배면적23년3월)"
   ]
  },
  {
   "cell_type": "code",
   "execution_count": null,
   "metadata": {
    "vscode": {
     "languageId": "r"
    }
   },
   "outputs": [],
   "source": [
    "# 데이터 저장 \n",
    "write.csv(소재지별배추재배면적, \"Data/GAP/2022 ~ 2023 배추생산량.csv\")"
   ]
  },
  {
   "cell_type": "code",
   "execution_count": null,
   "metadata": {
    "vscode": {
     "languageId": "r"
    }
   },
   "outputs": [],
   "source": [
    "배추생산량 <- read.csv(\"Data/GAP/2022 ~ 2023 배추생산량.csv\")\n",
    "배추생산량 <- 배추생산량[-1]"
   ]
  },
  {
   "cell_type": "code",
   "execution_count": null,
   "metadata": {
    "vscode": {
     "languageId": "r"
    }
   },
   "outputs": [],
   "source": [
    "# X row index 삭제 \n",
    "기후정보21년 <- read.csv(\"21년기후.csv\")[-1]\n",
    "기후정보22년 <- read.csv(\"22년기후.csv\")[-1]"
   ]
  },
  {
   "cell_type": "code",
   "execution_count": null,
   "metadata": {
    "vscode": {
     "languageId": "r"
    }
   },
   "outputs": [],
   "source": [
    "# 칼럼 정보 직관적으로 바꿈\n",
    "colnames(기후정보22년) <- c('지점명','연간','지점','평균습도','토양수분','평균기온','평균지면온도')"
   ]
  },
  {
   "cell_type": "code",
   "execution_count": null,
   "metadata": {
    "vscode": {
     "languageId": "r"
    }
   },
   "outputs": [],
   "source": [
    "## 5개 지역의 기후정보 안들어감 \n",
    "# '충청북도 괴산군''전라북도 정읍시''전라북도 부안군''경상남도 김해시''경상남도 통영시'\n",
    "기후정보22년 <- rbind(기후정보22년, data.frame(지점명='전라북도 부안군',기후정보22년[기후정보22년$지점명 == '전북특별자치도 익산시',-1]))\n",
    "기후정보22년 <- rbind(기후정보22년, data.frame(지점명='전라북도 정읍시',기후정보22년[기후정보22년$지점명 == '전북특별자치도 익산시',-1]))\n",
    "기후정보22년 <- rbind(기후정보22년, data.frame(지점명='충청북도 괴산군',기후정보22년[기후정보22년$지점명 == '충청북도 충주시',-1]))\n",
    "\n",
    "기후정보22년 <- rbind(기후정보22년, data.frame(지점명='경상남도 통영시', 연간=2022, 지점=974, 평균습도=74.03719, 토양수분=12.08368, 평균기온=18.92739, 평균지면온도=21.44876))\n",
    "기후정보22년 <- rbind(기후정보22년, data.frame(지점명='경상남도 김해시', 연간=2022, 지점=974, 평균습도=74.03719, 토양수분=12.08368, 평균기온=18.92739, 평균지면온도=21.44876))"
   ]
  },
  {
   "cell_type": "code",
   "execution_count": null,
   "metadata": {
    "vscode": {
     "languageId": "r"
    }
   },
   "outputs": [],
   "source": [
    "배추생산량$지점코드 <- 0\n",
    "배추생산량$평균습도 <- 0\n",
    "배추생산량$토양수분 <- 0\n",
    "배추생산량$평균기온 <- 0\n",
    "배추생산량$평균지면온도 <- 0\n",
    "\n",
    "## 소재지에 맞는 기후 데이터 매칭 \n",
    "## 22년도 만 넣음\n",
    "for(i in 1:nrow(배추생산량)) {\n",
    "    if(배추생산량$연도[i] == 2022) {\n",
    "        for(j in 1:nrow(기후정보22년)) {\n",
    "            if(배추생산량$소재지[i] == 기후정보22년$지점명[j]) {\n",
    "\n",
    "                배추생산량$지점코드[i] <- 기후정보22년$지점[j]\n",
    "                배추생산량$평균습도[i] <- 기후정보22년$평균습도[j]\n",
    "                배추생산량$토양수분[i] <- 기후정보22년$토양수분[j]\n",
    "                배추생산량$평균기온[i] <- 기후정보22년$평균기온[j]\n",
    "                배추생산량$평균지면온도[i] <- 기후정보22년$평균지면온도[j]\n",
    "\n",
    "            }\n",
    "        }\n",
    "    }\n",
    "}"
   ]
  },
  {
   "cell_type": "code",
   "execution_count": null,
   "metadata": {
    "vscode": {
     "languageId": "r"
    }
   },
   "outputs": [],
   "source": [
    "기후정보23년 <- read.csv(\"Data/23년기후.csv\")[-1]\n",
    "\n",
    "colnames(기후정보23년) <- c('지점명','연간','지점','평균습도','토양수분','평균기온','평균지면온도')"
   ]
  },
  {
   "cell_type": "code",
   "execution_count": null,
   "metadata": {
    "vscode": {
     "languageId": "r"
    }
   },
   "outputs": [],
   "source": [
    "## 2023 년 데이터는 기후관측소 주소가 아니라 소재지 주소로 되어있음. \n",
    "## 그래서 기후관측소 주소로 매칭함 \n",
    "for(i in 1:nrow(기후정보23년)) {\n",
    "    for(j in 1:nrow(기후정보22년)) {\n",
    "        if(기후정보23년$지점[i] == 기후정보22년$지점[j]) {\n",
    "            # 기후정보23년 <- rbind(기후정보23년, 기후정보22년[j,])\n",
    "            # 기후정보23년 <- rbind(기후정보23년, data.frame(기후정보22년$지점명, 기후정보23년[-1]))\n",
    "            #test<-rbind(test,  data.frame(기후정보22년$지점명[i], 기후정보23년[j,-1]))\n",
    "            print(data.frame(기후정보22년$지점명[i], 기후정보23년[j,-1]))\n",
    "        }\n",
    "    }\n",
    "}"
   ]
  },
  {
   "cell_type": "code",
   "execution_count": null,
   "metadata": {
    "vscode": {
     "languageId": "r"
    }
   },
   "outputs": [],
   "source": [
    "\n",
    "지점명22<-arrange(기후정보22년, 지점)$지점명\n",
    "지점코드22<-arrange(기후정보22년, 지점)$지점\n",
    "\n",
    "지점코드23 <- 기후정보23년$지점\n",
    "\n",
    "test <-data.frame()\n",
    "\n",
    "#연간\t지점\t평균습도\t토양수분\t평균기온\t평균지면온도\n",
    "for( i in 1: nrow(기후정보23년)){\n",
    "    for( j in 1:length(지점코드22)){\n",
    "        # print(j)\n",
    "        if(지점코드22[j] ==지점코드23[i]){\n",
    "\n",
    "            #print(paste(지점코드22[i],지점코드23[j]))\n",
    "            test<-rbind(test,data.frame(\n",
    "                지점명 = 지점명22[j], \n",
    "                지점 =지점코드22[j],\n",
    "                연간 =기후정보23년$연간[i],\n",
    "                평균습도=기후정보23년$평균습도[i],\n",
    "                토양수분=기후정보23년$토양수분[i],\n",
    "                평균기온=기후정보23년$평균기온[i],\n",
    "                평균지면온도=기후정보23년$평균지면온도[i]\n",
    "            ))\n",
    "        }\n",
    "\n",
    "    }\n",
    "}\n",
    "\n",
    "test"
   ]
  },
  {
   "cell_type": "code",
   "execution_count": null,
   "metadata": {
    "vscode": {
     "languageId": "r"
    }
   },
   "outputs": [],
   "source": [
    "## 소재지에 맞는 기후 데이터 매칭 \n",
    "## 22년도는 있으니까 23년 데이터만 넣는다.\n",
    "for(i in 1:nrow(배추생산량)) {\n",
    "    if(배추생산량$연도[i] == 2023) {\n",
    "        for(j in 1:nrow(test)) {\n",
    "            if(배추생산량$소재지[i] == test$지점명[j]) {\n",
    "\n",
    "                배추생산량$지점코드[i] <- test$지점[j]\n",
    "                배추생산량$평균습도[i] <- test$평균습도[j]\n",
    "                배추생산량$토양수분[i] <- test$토양수분[j]\n",
    "                배추생산량$평균기온[i] <- test$평균기온[j]\n",
    "                배추생산량$평균지면온도[i] <- test$평균지면온도[j]\n",
    "\n",
    "            }\n",
    "        }\n",
    "    }\n",
    "}"
   ]
  },
  {
   "cell_type": "code",
   "execution_count": null,
   "metadata": {
    "vscode": {
     "languageId": "r"
    }
   },
   "outputs": [],
   "source": [
    "# 데이터 보존을 위함\n",
    "test_df <- 배추생산량\n",
    "\n",
    "# seq 행 삭제\n",
    "test_df <- test_df[-1]\n",
    "\n",
    "# 시도전체면적(헥타르)을 m^2으로 변환 \n",
    "test_df$시도전체면적 <- test_df$시도전체면적*10000\n",
    "\n",
    "# 소재지별 생산량 계산\n",
    "test_df$소재지별생산량 <- (test_df$재배면적.제곱미터. / test_df$시도전체면적) * test_df$시도전채생산량\n",
    "\n",
    "# 데이터 저장\n",
    "write.csv(test_df, \"Data/2022 ~ 2023 GAP 인증 농가의 소재지별생산량.csv\", row.names = F)"
   ]
  },
  {
   "cell_type": "code",
   "execution_count": null,
   "metadata": {
    "vscode": {
     "languageId": "r"
    }
   },
   "outputs": [],
   "source": [
    "test_df <- read.csv(\"Data/2022 ~ 2023 GAP 인증 농가의 소재지별생산량.csv\")"
   ]
  },
  {
   "cell_type": "code",
   "execution_count": null,
   "metadata": {
    "vscode": {
     "languageId": "r"
    }
   },
   "outputs": [],
   "source": [
    "summary(lm(시도전채생산량 ~ ., data = test_df[,-c(1,2,3,5,16)]))"
   ]
  },
  {
   "cell_type": "code",
   "execution_count": null,
   "metadata": {
    "vscode": {
     "languageId": "r"
    }
   },
   "outputs": [],
   "source": [
    "summary(lm(소재지별생산량 ~ ., data = test_df[,-c(1,2,3,5)]))"
   ]
  },
  {
   "cell_type": "code",
   "execution_count": null,
   "metadata": {
    "vscode": {
     "languageId": "r"
    }
   },
   "outputs": [],
   "source": [
    "arrange(test_df[,c(4,6,7,12,16)],재배면적.제곱미터.)"
   ]
  },
  {
   "cell_type": "code",
   "execution_count": null,
   "metadata": {
    "vscode": {
     "languageId": "r"
    }
   },
   "outputs": [],
   "source": [
    "testFuction(31000, 83640000, 701228, 33.21368)"
   ]
  },
  {
   "cell_type": "code",
   "execution_count": null,
   "metadata": {
    "vscode": {
     "languageId": "r"
    }
   },
   "outputs": [],
   "source": [
    "summary(lm(소재지별생산량 ~ ., data = test_df[,c(4,6,7,12,16)]))"
   ]
  },
  {
   "cell_type": "code",
   "execution_count": null,
   "metadata": {
    "vscode": {
     "languageId": "r"
    }
   },
   "outputs": [],
   "source": [
    "testFuction <- function (재배면적, 시도전체면적, 시도전채생산량, 토양수분) {\n",
    "    cat((0.00883725006*재배면적 + -0.00000063880*시도전체면적 + 0.00007386138*시도전채생산량 + 0.03285183687*토양수분) -0.14723290184 - 2.296, '~', \n",
    "    (0.00883725006*재배면적 + -0.00000063880*시도전체면적 + 0.00007386138*시도전채생산량 + 0.03285183687*토양수분) -0.14723290184 + 2.296\n",
    "    )\n",
    "}  "
   ]
  },
  {
   "cell_type": "code",
   "execution_count": null,
   "metadata": {
    "vscode": {
     "languageId": "r"
    }
   },
   "outputs": [],
   "source": [
    "lm(소재지별생산량 ~ ., data = test_df[,-c(1,2,3,5)])[1]"
   ]
  },
  {
   "cell_type": "code",
   "execution_count": null,
   "metadata": {
    "vscode": {
     "languageId": "r"
    }
   },
   "outputs": [],
   "source": [
    "471.230818018212 test_df$재배면적.제곱미터.*0.00883621755798725 + test_df$시도전체면적*-0.000000492339863231056 + test_df$시도전채생산량*0.0000552297641635945 + test_df$위도 * -0.538795337465893 + test_df$경도 * -0.239725005442874 + test_df$연도 * -0.199297692156139 + test_df$평균습도 * -0.0157936328497369 + test_df$토양수분 * 0.0325378899828065 + test_df$평균기온 * -0.351642602371304 + test_df$평균지면온도 * -0.479954947328168 + test_df$지점코드 * -0.000107639170627123"
   ]
  },
  {
   "cell_type": "code",
   "execution_count": null,
   "metadata": {
    "vscode": {
     "languageId": "r"
    }
   },
   "outputs": [],
   "source": [
    "summary(step(lm(소재지별생산량 ~ ., data = test_df[,-c(1,2,3,5)]), direction=\"backward\"))"
   ]
  },
  {
   "cell_type": "markdown",
   "metadata": {
    "vscode": {
     "languageId": "r"
    }
   },
   "source": [
    "## 전체생산량과, 전체면적은 소재지별 면적계산하기위한 factro 이지 앱사용자가 넣을수있는 값이 아니므로 회귀식을 만들때 제외한다. \n",
    "\n",
    "\n"
   ]
  },
  {
   "cell_type": "code",
   "execution_count": null,
   "metadata": {
    "vscode": {
     "languageId": "r"
    }
   },
   "outputs": [],
   "source": [
    "head(test_df[-c(1:3,5,6,7,10,15)],1)\n",
    "test_df[-c(1,2,4:6,9,10)]\n",
    "# 재배면적.제곱미터.\t위도\t경도\t평균습도\t토양수분\t평균기온\t평균지면온도\t소재지별생산량"
   ]
  },
  {
   "cell_type": "code",
   "execution_count": null,
   "metadata": {
    "vscode": {
     "languageId": "r"
    }
   },
   "outputs": [],
   "source": [
    "test_df_wCF <- test_df[-c(1,2,4:6,9,10)]# CF = calcualtion factor\n",
    "\n",
    "(lm(소재지별생산량 ~ ., data = test_df_wCF))\n",
    "\n",
    "#(step(lm(소재지별생산량 ~ ., data = test_df_wCF),scope = list(lower ~ 1, upper = ~ .), direction = \"both\"))\n",
    "\n",
    "regFunction <- function (재배면적, 시도전체면적, 시도전채생산량, 토양수분) {\n",
    "    cat((0.00883725006*재배면적 + -0.00000063880*시도전체면적 + 0.00007386138*시도전채생산량 + 0.03285183687*토양수분) -0.14723290184 - 2.296, '~', \n",
    "    (0.00883725006*재배면적 + -0.00000063880*시도전체면적 + 0.00007386138*시도전채생산량 + 0.03285183687*토양수분) -0.14723290184 + 2.296\n",
    "    )\n",
    "}  \n",
    "\n",
    "regression <-function(재배면적.제곱미터.,\t위도\t,경도\t,평균습도,\t토양수분,\t평균기온,\t평균지면온도){\n",
    "                                     \n",
    "        211.079008+            0.008839*재배면적.제곱미터.           -0.019817*위도           -1.284035*경도  +\n",
    "\n",
    "          0.001173*평균습도           -0.032455*토양수분           -0.848730*평균기온           -1.432203*평균지면온도  \n",
    "}\n",
    "\n",
    "regression_1 <- (lm(소재지별생산량 ~ 재배면적.제곱미터.\t, data = test_df_wCF))\n"
   ]
  },
  {
   "cell_type": "code",
   "execution_count": null,
   "metadata": {
    "vscode": {
     "languageId": "r"
    }
   },
   "outputs": [],
   "source": [
    "# arrange(test_df_wCF,desc(재배면적.제곱미터.\t))\n",
    "regression(41.0\t,34.57352\t,126.5993\t,74.67949,\t30.13191,\t19.91164\t,21.63205\t\t)# 230.467"
   ]
  },
  {
   "cell_type": "code",
   "execution_count": null,
   "metadata": {
    "vscode": {
     "languageId": "r"
    }
   },
   "outputs": [],
   "source": [
    "arrange(test_df_wCF,desc(재배면적.제곱미터.\t))"
   ]
  },
  {
   "cell_type": "code",
   "execution_count": null,
   "metadata": {
    "vscode": {
     "languageId": "r"
    }
   },
   "outputs": [],
   "source": [
    "# RandomForest 생사여부 예측율과 오분류표 구하기\n",
    "rfFun <- function(method,data,targetCol,count)  {\n",
    "    library(randomForest)\n",
    "    library(caret)\n",
    "    library(e1071)\n",
    "    result <- c()\n",
    "    for(i in 1:count) {\n",
    "        samp <- createDataPartition(data[,targetCol], p=0.7, list=F)\n",
    "\n",
    "        model <- method(as.formula(paste(names(data)[targetCol], \"~ .\")), data = data[samp,], ntree = 300, kernel = \"radial\",  )\n",
    "        result <- c(result,\n",
    "            # mean(\n",
    "            #     predict(model, subset(data[-samp,], select = -targetCol)) == data[-samp,targetCol]\n",
    "            #     )) # 예측력\n",
    "            mean(\n",
    "                abs(predict(model, subset(data[-samp,], select = -targetCol)) - data[-samp,targetCol])\n",
    "                )) # 예측력\n",
    "    }\n",
    "    cat(\"\\033[32m------------------------------------------------\\033[0m\\n\")\n",
    "    cat(\"\\033[36m 오차 \\033[0m\\n\",result,\"\\n\")\n",
    "    # cat(\"\\n------------------------------------------------\\n\")\n",
    "    cat(\"\\033[32m------------------------------------------------\\033[0m\\n\")\n",
    "    cat(\"\\033[31m 평균 오차 \\033[0m\\n\",mean(result),\"\\n\")\n",
    "    # cat(\"\\n------------------------------------------------\")\n",
    "    cat(\"\\033[32m------------------------------------------------\\033[0m\\n\")\n",
    "}"
   ]
  },
  {
   "cell_type": "code",
   "execution_count": null,
   "metadata": {
    "vscode": {
     "languageId": "r"
    }
   },
   "outputs": [],
   "source": [
    "rfFun(svm, test_df_wCF, 8, 4)\n",
    "rfFun(randomForest, test_df_wCF, 8, 4)"
   ]
  },
  {
   "cell_type": "code",
   "execution_count": null,
   "metadata": {
    "vscode": {
     "languageId": "r"
    }
   },
   "outputs": [],
   "source": [
    "## 여기서 무엇을 볼수있는가???\n",
    "\n",
    "# 이쁘다.. 근데 뭔가 아닌거 같다. \n",
    "\n",
    "#소재이상하다. \n",
    "\n",
    "library(randomForest)\n",
    "rf <- randomForest(소재지별생산량 ~ 재배면적.제곱미터., data = test_df_wCF, ntree = 100)\n",
    "svm_model <- svm(소재지별생산량 ~ 재배면적.제곱미터., data = test_df_wCF)\n",
    "\n",
    "\n",
    "test_value<- 33599\n",
    "predict(rf, data.frame(재배면적.제곱미터. = test_value))\n",
    "predict(svm_model, data.frame(재배면적.제곱미터. = test_value))\n",
    "# summary(regression_1)\n",
    "# predict(rf, list(발생건수 = 100))\n",
    "0.008876 *test_value -1.248960   \n",
    "test_df_wCF[test_df_wCF$재배면적.제곱미터.\t== test_value,]$소재지별생산량\n",
    "arrange(test_df_wCF, desc(재배면적.제곱미터.\t))"
   ]
  }
 ],
 "metadata": {
  "kernelspec": {
   "display_name": "R",
   "language": "R",
   "name": "r"
  },
  "language_info": {
   "codemirror_mode": "r",
   "file_extension": ".r",
   "mimetype": "text/x-r-source",
   "name": "R",
   "pygments_lexer": "r",
   "version": "4.3.3"
  }
 },
 "nbformat": 4,
 "nbformat_minor": 2
}
